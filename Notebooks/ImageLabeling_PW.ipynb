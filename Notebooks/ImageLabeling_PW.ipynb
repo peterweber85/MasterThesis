{
 "cells": [
  {
   "cell_type": "code",
   "execution_count": 105,
   "metadata": {},
   "outputs": [
    {
     "name": "stdout",
     "output_type": "stream",
     "text": [
      "The autoreload extension is already loaded. To reload it, use:\n",
      "  %reload_ext autoreload\n"
     ]
    }
   ],
   "source": [
    "import gist\n",
    "\n",
    "from PIL import Image\n",
    "import imageio\n",
    "from IPython.display import display, clear_output\n",
    "\n",
    "import sys\n",
    "sys.path.append(\"../Library/\")\n",
    "import image_download as imd\n",
    "import image_manipulation as ima\n",
    "\n",
    "import numpy as np\n",
    "import pandas as pd\n",
    "import matplotlib.pyplot as plt\n",
    "from dotenv import load_dotenv\n",
    "import os\n",
    "load_dotenv(\"../.env\")\n",
    "import csv\n",
    "\n",
    "import numpy as np\n",
    "import db_connection as dbcon\n",
    "\n",
    "#%matplotlib inline\n",
    "%load_ext autoreload\n",
    "%autoreload 2"
   ]
  },
  {
   "cell_type": "markdown",
   "metadata": {},
   "source": [
    "### Set Parameters"
   ]
  },
  {
   "cell_type": "code",
   "execution_count": 106,
   "metadata": {},
   "outputs": [
    {
     "name": "stdout",
     "output_type": "stream",
     "text": [
      "DB Credentials from file\n",
      "DB connected successfully!!!\n",
      "Meters per pixel: 4.12\n",
      "Image size: 2636.76 in meters\n"
     ]
    }
   ],
   "source": [
    "# parameters\n",
    "zoom = 15\n",
    "lat = 30.4131736\n",
    "lon = -87.600026\n",
    "pixels = 640\n",
    "samples_per_location = 1\n",
    "precision = 4\n",
    "num_images = 4\n",
    "GMAPS_API_KEY = os.getenv('GMAPS_API_KEY')\n",
    "IMG_FOLDER = os.getenv('MFP_IMG_FOLDER')\n",
    "\n",
    "# connect to db\n",
    "db = db_connection.connect(\"../credentials/mlab_db.txt\",\"mfp\")\n",
    "images_lib_col = db[\"images_lib\"]\n",
    "\n",
    "# image dimensions\n",
    "meters_per_px = imd.zoom_in_meters_per_pixel(zoom, lat)\n",
    "image_size = meters_per_px*pixels ## in meters\n",
    "\n",
    "print(\"Meters per pixel:\", round(meters_per_px,2))\n",
    "print(\"Image size:\", round(image_size,2), \"in meters\")"
   ]
  },
  {
   "cell_type": "markdown",
   "metadata": {},
   "source": [
    "### Get filenames of all the files in Google Drive that correspond to Madrid"
   ]
  },
  {
   "cell_type": "code",
   "execution_count": 112,
   "metadata": {},
   "outputs": [
    {
     "data": {
      "text/plain": [
       "['US_1_51.592016595967344_-116.1454855993385_14_600.png',\n",
       " 'US_1_53.140069316272964_-103.49669505326648_14_600.png',\n",
       " 'US_1_44.93618879833637_-115.09381259810687_14_600.png']"
      ]
     },
     "execution_count": 112,
     "metadata": {},
     "output_type": "execute_result"
    }
   ],
   "source": [
    "fnames = ima.get_filenames_of_city('US_1', IMG_FOLDER, 14)\n",
    "fnames"
   ]
  },
  {
   "cell_type": "markdown",
   "metadata": {},
   "source": [
    "### Get image info of all the files of area name provided above (filenames, images, np.array)"
   ]
  },
  {
   "cell_type": "code",
   "execution_count": 116,
   "metadata": {},
   "outputs": [],
   "source": [
    "images_info_list = ima.load_images_from_gdrive(fnames, IMG_FOLDER)"
   ]
  },
  {
   "cell_type": "code",
   "execution_count": 117,
   "metadata": {},
   "outputs": [],
   "source": [
    "images_info_list = ima.add_labels_to_image_info(images_info_list)"
   ]
  },
  {
   "cell_type": "code",
   "execution_count": 126,
   "metadata": {},
   "outputs": [
    {
     "name": "stdout",
     "output_type": "stream",
     "text": [
      "Image US_1_51.592016595967344_-116.1454855993385_14_600.png was provided with multi class label 0\n",
      "Image US_1_53.140069316272964_-103.49669505326648_14_600.png was provided with multi class label 2\n",
      "Image US_1_44.93618879833637_-115.09381259810687_14_600.png was provided with multi class label 0\n"
     ]
    }
   ],
   "source": [
    "try:\n",
    "    _ = [print(\"Image\", \n",
    "               images_info_list[i]['fname'], \n",
    "               \"was provided with multi class label\",\n",
    "               images_info_list[i]['label_multi_pw']) for i in range(len(images_info_list))]\n",
    "except:\n",
    "    _ = [print(\"Image\",\n",
    "               images_info_list[i]['fname'],\n",
    "               \"was provided with multi class label\",\n",
    "               images_info_list[i]['label_multi_er']) for i in range(len(images_info_list))]"
   ]
  },
  {
   "cell_type": "code",
   "execution_count": 127,
   "metadata": {},
   "outputs": [
    {
     "name": "stdout",
     "output_type": "stream",
     "text": [
      "Image US_1_51.592016595967344_-116.1454855993385_14_600.png was provided with binary label 0\n",
      "Image US_1_53.140069316272964_-103.49669505326648_14_600.png was provided with binary label 1\n",
      "Image US_1_44.93618879833637_-115.09381259810687_14_600.png was provided with binary label 0\n"
     ]
    }
   ],
   "source": [
    "try:\n",
    "    _ = [print(\"Image\", \n",
    "               images_info_list[i]['fname'], \n",
    "               \"was provided with binary label\",\n",
    "               images_info_list[i]['label_binary_pw']) for i in range(len(images_info_list))]\n",
    "except:\n",
    "    _ = [print(\"Image\",\n",
    "               images_info_list[i]['fname'],\n",
    "               \"was provided with binary label\",\n",
    "               images_info_list[i]['label_binary_er']) for i in range(len(images_info_list))]"
   ]
  },
  {
   "cell_type": "markdown",
   "metadata": {},
   "source": [
    "### Label images in Database"
   ]
  },
  {
   "cell_type": "code",
   "execution_count": 130,
   "metadata": {},
   "outputs": [],
   "source": [
    "filename_upload_to_db = 'temp.csv'\n",
    "\n",
    "save_labels_as_csv(images_info_list, IMG_FOLDER, \n",
    "                   output_name = filename_upload_to_db, \n",
    "                   label_multi_name = \"label_multi_pw\",\n",
    "                   label_binary_name = \"label_binary_pw\")"
   ]
  },
  {
   "cell_type": "code",
   "execution_count": 131,
   "metadata": {},
   "outputs": [
    {
     "name": "stdout",
     "output_type": "stream",
     "text": [
      "4 labels added to db!\n"
     ]
    }
   ],
   "source": [
    "write_labels_from_csv_to_db(images_lib_col, IMG_FOLDER, filename_upload_to_db)"
   ]
  },
  {
   "cell_type": "markdown",
   "metadata": {},
   "source": [
    "### Check labeling"
   ]
  },
  {
   "cell_type": "code",
   "execution_count": 165,
   "metadata": {},
   "outputs": [],
   "source": [
    "label_name = 'label_binary_pw'\n",
    "query = {label_name: '1'}\n",
    "\n",
    "doc = images_lib_col.find(query)\n",
    "for x in doc:\n",
    "    keys = x.keys()\n",
    "    for key in ['filename', label_name]:\n",
    "        print(x[key])"
   ]
  },
  {
   "cell_type": "code",
   "execution_count": null,
   "metadata": {},
   "outputs": [],
   "source": []
  }
 ],
 "metadata": {
  "kernelspec": {
   "display_name": "Python 3",
   "language": "python",
   "name": "python3"
  },
  "language_info": {
   "codemirror_mode": {
    "name": "ipython",
    "version": 3
   },
   "file_extension": ".py",
   "mimetype": "text/x-python",
   "name": "python",
   "nbconvert_exporter": "python",
   "pygments_lexer": "ipython3",
   "version": "3.6.8"
  }
 },
 "nbformat": 4,
 "nbformat_minor": 2
}
