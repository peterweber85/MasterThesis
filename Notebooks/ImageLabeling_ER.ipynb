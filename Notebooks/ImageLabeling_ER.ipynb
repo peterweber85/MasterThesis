{
 "cells": [
  {
   "cell_type": "markdown",
   "metadata": {},
   "source": [
    "# Image Labeling (Edu)"
   ]
  },
  {
   "cell_type": "markdown",
   "metadata": {},
   "source": [
    "## Imports and Parameters"
   ]
  },
  {
   "cell_type": "code",
   "execution_count": 1,
   "metadata": {},
   "outputs": [],
   "source": [
    "import sys\n",
    "import os\n",
    "import numpy as np\n",
    "import pandas as pd\n",
    "import matplotlib.pyplot as plt\n",
    "import datetime\n",
    "\n",
    "sys.path.append(\"../Library/\")\n",
    "import image_download as imd\n",
    "import image_manipulation as ima\n",
    "import db_connection as dbcon\n",
    "\n",
    "#%matplotlib inline\n",
    "%load_ext autoreload\n",
    "%autoreload 2\n",
    "\n",
    "#from PIL import Image\n",
    "#import imageio\n",
    "#from IPython.display import display, clear_output\n",
    "#\n",
    "#from dotenv import load_dotenv\n",
    "#import os\n",
    "#load_dotenv(\"../.env\")\n",
    "#import csv"
   ]
  },
  {
   "cell_type": "code",
   "execution_count": 2,
   "metadata": {},
   "outputs": [
    {
     "name": "stdout",
     "output_type": "stream",
     "text": [
      "DB Credentials from file\n",
      "DB connected successfully!!!\n"
     ]
    }
   ],
   "source": [
    "# parameters\n",
    "GMAPS_API_KEY = os.getenv('GMAPS_API_KEY')\n",
    "IMG_FOLDER = os.getenv('MFP_IMG_FOLDER')\n",
    "DATASET = 'gmaps'\n",
    "\n",
    "# connect to db\n",
    "db = dbcon.connect(\"../credentials/mlab_db.txt\",\"mfp\")\n",
    "images_lib_col = db[\"images_lib\"]"
   ]
  },
  {
   "cell_type": "markdown",
   "metadata": {},
   "source": [
    "## Load filenames from DB"
   ]
  },
  {
   "cell_type": "code",
   "execution_count": 53,
   "metadata": {},
   "outputs": [
    {
     "name": "stdout",
     "output_type": "stream",
     "text": [
      "40 query matches\n",
      "\n",
      "5 images to label:\n",
      "US1_45.21160965529817_-93.54554509042913_13_640.png\n",
      "US1_45.21160965529817_-93.54554509042913_14_640.png\n",
      "US1_45.21160965529817_-93.54554509042913_15_640.png\n",
      "US1_45.21160965529817_-93.54554509042913_16_640.png\n",
      "US1_52.20482183860124_-92.48891258998856_13_640.png\n"
     ]
    }
   ],
   "source": [
    "MAX_IMG_TO_LABEL = 5 # limit the images to label\n",
    "\n",
    "query = {\n",
    "    \"$and\" : [\n",
    "        #{ \"name\":\"Spain\" },\n",
    "        {\"label_multi_er\": {\"$exists\": True} },\n",
    "        {\"gist\": {\"$exists\": True} },\n",
    "        #{\"gist\": {\"$exists\": False} }\n",
    "    ]  \n",
    "}\n",
    "\n",
    "images_metadata = [img_metadata for img_metadata in images_lib_col.find(query)]\n",
    "print(len(images_metadata), \"query matches\\n\")\n",
    "\n",
    "images_filenames = [image[\"filename\"] for image in images_metadata[:MAX_IMG_TO_LABEL]]\n",
    "print(len(images_filenames), \"images to label:\")\n",
    "for image in images_filenames[:10]:\n",
    "    print(image)\n",
    "    \n",
    "# Get image info of all the files of area name provided above (filenames, images, np.array)\n",
    "images_info = ima.load_images_from_gdrive(images_filenames, IMG_FOLDER + DATASET + \"/\")"
   ]
  },
  {
   "cell_type": "markdown",
   "metadata": {},
   "source": [
    "## Start labeling app and save csv\n",
    "\n",
    "THIS WILL OPEN AN INTERACTIVE WINDOW FOR LABELLING THE IMAGES!!!\n",
    "\n",
    "FIRST PUT IN YOUR NAME AND THEN GO AHEAD WITH LABELLING"
   ]
  },
  {
   "cell_type": "code",
   "execution_count": 54,
   "metadata": {},
   "outputs": [
    {
     "name": "stdout",
     "output_type": "stream",
     "text": [
      "Output file: ER - 2019-03-21 23.54.38.csv\n"
     ]
    }
   ],
   "source": [
    "filename_upload_to_db = 'ER - ' + str(datetime.datetime.today())[:19].replace(':','.') + '.csv'\n",
    "\n",
    "images_info = ima.add_labels_and_save_csv(images_info, IMG_FOLDER, filename_upload_to_db)"
   ]
  },
  {
   "cell_type": "markdown",
   "metadata": {},
   "source": [
    "## Load labels into DB"
   ]
  },
  {
   "cell_type": "code",
   "execution_count": 9,
   "metadata": {},
   "outputs": [
    {
     "name": "stdout",
     "output_type": "stream",
     "text": [
      "loading labels label_multi_er and label_binary_er from file ER - 2019-03-21 23.29.29.csv to db ...\n",
      "5 labels added to db!\n"
     ]
    }
   ],
   "source": [
    "dbcon.write_labels_from_csv_to_db(images_lib_col, IMG_FOLDER, filename_upload_to_db)"
   ]
  },
  {
   "cell_type": "markdown",
   "metadata": {},
   "source": [
    "---"
   ]
  },
  {
   "cell_type": "markdown",
   "metadata": {},
   "source": [
    "### Check binary labels"
   ]
  },
  {
   "cell_type": "code",
   "execution_count": 111,
   "metadata": {},
   "outputs": [
    {
     "name": "stdout",
     "output_type": "stream",
     "text": [
      "US1_52.20482183860124_-92.48891258998856_13_640.png has label 0\n",
      "US1_52.20482183860124_-92.48891258998856_14_640.png has label 0\n",
      "US1_52.20482183860124_-92.48891258998856_15_640.png has label 0\n",
      "US1_52.20482183860124_-92.48891258998856_16_640.png has label 0\n",
      "US1_33.01060691483008_-118.04101400786547_13_640.png has label 0\n",
      "US2_41.76932454759587_-105.42877312370616_14_640.png has label 0\n",
      "US2_41.76932454759587_-105.42877312370616_15_640.png has label 0\n",
      "US2_41.76932454759587_-105.42877312370616_16_640.png has label 0\n"
     ]
    }
   ],
   "source": [
    "label_name = 'label_binary_er'\n",
    "query = {label_name: '0'}\n",
    "\n",
    "doc = images_lib_col.find(query)\n",
    "for x in doc:\n",
    "    print(x['filename'], \"has label\", x[label_name])"
   ]
  },
  {
   "cell_type": "code",
   "execution_count": 112,
   "metadata": {},
   "outputs": [
    {
     "name": "stdout",
     "output_type": "stream",
     "text": [
      "US1_45.21160965529817_-93.54554509042913_13_640.png has label 1\n",
      "US1_45.21160965529817_-93.54554509042913_14_640.png has label 1\n",
      "US1_45.21160965529817_-93.54554509042913_15_640.png has label 1\n",
      "US1_45.21160965529817_-93.54554509042913_16_640.png has label 1\n",
      "US1_33.01060691483008_-118.04101400786547_14_640.png has label 1\n",
      "US1_33.01060691483008_-118.04101400786547_15_640.png has label 1\n",
      "US1_33.01060691483008_-118.04101400786547_16_640.png has label 1\n",
      "US1_50.53186589235239_-108.35386180596005_13_640.png has label 1\n",
      "US1_50.53186589235239_-108.35386180596005_14_640.png has label 1\n",
      "US1_50.53186589235239_-108.35386180596005_15_640.png has label 1\n",
      "US1_50.53186589235239_-108.35386180596005_16_640.png has label 1\n",
      "US1_45.14093597874625_-101.4861640355236_13_640.png has label 1\n",
      "US1_45.14093597874625_-101.4861640355236_14_640.png has label 1\n",
      "US1_45.14093597874625_-101.4861640355236_15_640.png has label 1\n",
      "US1_45.14093597874625_-101.4861640355236_16_640.png has label 1\n",
      "US2_32.98997192625039_-84.91875948901313_13_640.png has label 1\n",
      "US2_32.98997192625039_-84.91875948901313_14_640.png has label 1\n",
      "US2_32.98997192625039_-84.91875948901313_15_640.png has label 1\n",
      "US2_32.98997192625039_-84.91875948901313_16_640.png has label 1\n",
      "US2_32.73241903193594_-96.09959920826273_13_640.png has label 1\n",
      "US2_32.73241903193594_-96.09959920826273_14_640.png has label 1\n",
      "US2_32.73241903193594_-96.09959920826273_15_640.png has label 1\n",
      "US2_32.73241903193594_-96.09959920826273_16_640.png has label 1\n",
      "US2_41.24686281982255_-121.72391747542048_13_640.png has label 1\n",
      "US2_41.24686281982255_-121.72391747542048_14_640.png has label 1\n",
      "US2_41.24686281982255_-121.72391747542048_15_640.png has label 1\n",
      "US2_41.24686281982255_-121.72391747542048_16_640.png has label 1\n",
      "US2_41.76932454759587_-105.42877312370616_13_640.png has label 1\n",
      "US2_38.48142233892045_-101.11610421946183_13_640.png has label 1\n",
      "US2_38.48142233892045_-101.11610421946183_14_640.png has label 1\n",
      "US2_38.48142233892045_-101.11610421946183_15_640.png has label 1\n",
      "US2_38.48142233892045_-101.11610421946183_16_640.png has label 1\n"
     ]
    }
   ],
   "source": [
    "label_name = 'label_binary_er'\n",
    "query = {label_name: '1'}\n",
    "\n",
    "doc = images_lib_col.find(query)\n",
    "for x in doc:\n",
    "    print(x['filename'], \"has label\", x[label_name])"
   ]
  },
  {
   "cell_type": "code",
   "execution_count": null,
   "metadata": {},
   "outputs": [],
   "source": []
  }
 ],
 "metadata": {
  "kernelspec": {
   "display_name": "Python 3",
   "language": "python",
   "name": "python3"
  },
  "language_info": {
   "codemirror_mode": {
    "name": "ipython",
    "version": 3
   },
   "file_extension": ".py",
   "mimetype": "text/x-python",
   "name": "python",
   "nbconvert_exporter": "python",
   "pygments_lexer": "ipython3",
   "version": "3.6.5"
  }
 },
 "nbformat": 4,
 "nbformat_minor": 2
}
