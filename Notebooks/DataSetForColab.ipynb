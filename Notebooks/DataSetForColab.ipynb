{
 "cells": [
  {
   "cell_type": "code",
   "execution_count": 1,
   "metadata": {},
   "outputs": [
    {
     "name": "stderr",
     "output_type": "stream",
     "text": [
      "Using TensorFlow backend.\n"
     ]
    }
   ],
   "source": [
    "from keras.applications.resnet import ResNet50, preprocess_input\n",
    "from keras.applications.resnet import ResNet101, preprocess_input\n",
    "from keras.models import Model\n",
    "from keras.preprocessing import image\n",
    "from keras import models\n",
    "from keras import layers\n",
    "from keras import optimizers\n",
    "from keras.models import model_from_json"
   ]
  },
  {
   "cell_type": "code",
   "execution_count": 2,
   "metadata": {},
   "outputs": [],
   "source": [
    "from matplotlib import pyplot as plt\n",
    "%matplotlib inline\n",
    "\n",
    "import numpy as np\n",
    "import pandas as pd\n",
    "import sys\n",
    "import os\n",
    "\n",
    "from PIL import Image\n",
    "\n",
    "from dotenv import load_dotenv\n",
    "\n",
    "from sklearn.model_selection import train_test_split\n",
    "from sklearn.metrics import accuracy_score"
   ]
  },
  {
   "cell_type": "code",
   "execution_count": 3,
   "metadata": {},
   "outputs": [],
   "source": [
    "os.getenv('GDRIVE_FOLDER')"
   ]
  },
  {
   "cell_type": "code",
   "execution_count": 4,
   "metadata": {},
   "outputs": [],
   "source": [
    "sys.path.append(\"../Library/\")\n",
    "import deep_learning as dl\n",
    "import image_manipulation as ima\n",
    "import machine_learning as ml"
   ]
  },
  {
   "cell_type": "code",
   "execution_count": 5,
   "metadata": {},
   "outputs": [],
   "source": [
    "%load_ext autoreload\n",
    "%autoreload 2"
   ]
  },
  {
   "cell_type": "markdown",
   "metadata": {},
   "source": [
    "# Load Image Batch"
   ]
  },
  {
   "cell_type": "markdown",
   "metadata": {},
   "source": [
    "### Define degraded resolutions and image sizes for later use"
   ]
  },
  {
   "cell_type": "code",
   "execution_count": 6,
   "metadata": {},
   "outputs": [
    {
     "name": "stdout",
     "output_type": "stream",
     "text": [
      "\n",
      "Sizes dictionary:\n",
      " {0.6: (256, 256), 0.9: (171, 171), 1.2: (128, 128), 1.5: (102, 102), 1.8: (85, 85), 2.1: (73, 73), 2.4: (64, 64), 2.7: (57, 57), 3.0: (51, 51), 3.3: (47, 47), 3.6: (43, 43), 3.9: (39, 39), 4.2: (37, 37), 4.5: (34, 34), 4.8: (32, 32)}\n"
     ]
    }
   ],
   "source": [
    "sizes = {}\n",
    "base_res = 0.3\n",
    "base_size = 512\n",
    "\n",
    "\n",
    "for factor in range(2, 17):\n",
    "    res = round(base_res * factor,1)\n",
    "    size = round(base_size/factor)\n",
    "    sizes[res] = (size, size)\n",
    "print(\"\\nSizes dictionary:\\n\", sizes)"
   ]
  },
  {
   "cell_type": "markdown",
   "metadata": {},
   "source": [
    "### Load Image Batch into DataFrame"
   ]
  },
  {
   "cell_type": "code",
   "execution_count": 7,
   "metadata": {},
   "outputs": [],
   "source": [
    "base_folder = \"/Users/peterweber/Google Drive/MFP - Satellogic/images/usgs_512_res0.3m\"\n",
    "categories = [\"forest-woodland\", \"agriculture\", \"shrubland-grassland\", \"semi-desert\"]\n",
    "data_folder_colab = \"/Users/peterweber/Google Drive/Colab/MasterThesis/Data\"\n",
    "labels = [0, 1, 2]\n",
    "\n",
    "df_images = pd.DataFrame(columns = ['filename', 'image', 'resolution', 'label', 'category'])\n",
    "for category in categories:\n",
    "    for label in labels:\n",
    "        df = ima.load_images_into_df_by_category_and_label(base_folder, category, label)\n",
    "        df_images = df_images.append(df)    "
   ]
  },
  {
   "cell_type": "code",
   "execution_count": 8,
   "metadata": {},
   "outputs": [
    {
     "name": "stdout",
     "output_type": "stream",
     "text": [
      "Shape of df_images: (2220, 5)\n",
      "Distribution of categories and labels:\n",
      "                category  label  counts\n",
      "0           agriculture      0       1\n",
      "1           agriculture      1       1\n",
      "2           agriculture      2     417\n",
      "3       forest-woodland      0     335\n",
      "4       forest-woodland      1      44\n",
      "5       forest-woodland      2     107\n",
      "6           semi-desert      0     304\n",
      "7           semi-desert      1      67\n",
      "8           semi-desert      2     231\n",
      "9   shrubland-grassland      0     415\n",
      "10  shrubland-grassland      1      84\n",
      "11  shrubland-grassland      2     214\n",
      "\n",
      "Distribution of labels:\n",
      "    label  counts\n",
      "0      0    1055\n",
      "1      1     196\n",
      "2      2     969\n"
     ]
    }
   ],
   "source": [
    "print(\"Shape of df_images:\", df_images.shape)\n",
    "print(\"Distribution of categories and labels:\\n\", df_images.groupby(['category', 'label']).size().reset_index(name='counts'))\n",
    "print(\"\\nDistribution of labels:\\n\", df_images.groupby(['label']).size().reset_index(name='counts'))"
   ]
  },
  {
   "cell_type": "markdown",
   "metadata": {},
   "source": [
    "### Enhance Images DataFrame by Degraded Images"
   ]
  },
  {
   "cell_type": "code",
   "execution_count": 9,
   "metadata": {},
   "outputs": [],
   "source": [
    "if False:\n",
    "\n",
    "    df_degraded = ima.load_degraded_images_into_df(df_images, sizes, label = True)\n",
    "\n",
    "    df_images = df_images.append(df_degraded)\n",
    "    print(\"Shape of df_images:\", df_images.shape)\n",
    "    del df_degraded"
   ]
  },
  {
   "cell_type": "markdown",
   "metadata": {},
   "source": [
    "### Generate data set X and y and save for Colab"
   ]
  },
  {
   "cell_type": "code",
   "execution_count": 10,
   "metadata": {},
   "outputs": [
    {
     "name": "stdout",
     "output_type": "stream",
     "text": [
      "Shape of image array is: (2220, 512, 512, 3)\n"
     ]
    }
   ],
   "source": [
    "X, y = dl.generate_X_y_from_df(df_images)"
   ]
  },
  {
   "cell_type": "code",
   "execution_count": 12,
   "metadata": {},
   "outputs": [],
   "source": [
    "from random import shuffle\n",
    "random_order = [i for i in range(len(X))]\n",
    "shuffle(random_order)\n",
    "\n",
    "X, y = X[random_order], y[random_order]\n",
    "\n",
    "not_label = y != 1\n",
    "X, y = X[not_label], y[not_label]\n",
    "y = np.array(ml.convert_encoding(y, ml.zero_encoding))"
   ]
  },
  {
   "cell_type": "code",
   "execution_count": 135,
   "metadata": {},
   "outputs": [],
   "source": [
    "X_name = 'X_images_res0.3.npy'\n",
    "y_name = 'y_images_res0.3.npy'\n",
    "\n",
    "np.save(os.path.join(data_folder_colab, X_name), X)\n",
    "np.save(os.path.join(data_folder_colab, y_name), y)"
   ]
  },
  {
   "cell_type": "code",
   "execution_count": null,
   "metadata": {},
   "outputs": [],
   "source": []
  }
 ],
 "metadata": {
  "kernelspec": {
   "display_name": "Python 3",
   "language": "python",
   "name": "python3"
  },
  "language_info": {
   "codemirror_mode": {
    "name": "ipython",
    "version": 3
   },
   "file_extension": ".py",
   "mimetype": "text/x-python",
   "name": "python",
   "nbconvert_exporter": "python",
   "pygments_lexer": "ipython3",
   "version": "3.7.3"
  }
 },
 "nbformat": 4,
 "nbformat_minor": 2
}
