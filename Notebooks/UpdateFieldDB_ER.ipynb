{
 "cells": [
  {
   "cell_type": "code",
   "execution_count": 1,
   "metadata": {},
   "outputs": [],
   "source": [
    "import sys\n",
    "import os\n",
    "import numpy as np\n",
    "import pandas as pd\n",
    "import matplotlib.pyplot as plt\n",
    "import datetime\n",
    "\n",
    "sys.path.append(\"../Library/\")\n",
    "import image_manipulation as ima\n",
    "import db_connection as dbcon\n",
    "\n",
    "#%matplotlib inline\n",
    "%load_ext autoreload\n",
    "%autoreload 2"
   ]
  },
  {
   "cell_type": "code",
   "execution_count": 2,
   "metadata": {},
   "outputs": [
    {
     "name": "stdout",
     "output_type": "stream",
     "text": [
      "DB Credentials from file\n",
      "DB connected successfully!!!\n"
     ]
    }
   ],
   "source": [
    "# parameters\n",
    "DATASET = 'gmaps'\n",
    "IMG_FOLDER = os.getenv('MFP_IMG_FOLDER') + DATASET + \"/\"\n",
    "\n",
    "\n",
    "# connect to db\n",
    "db = dbcon.connect(\"../credentials/mlab_db.txt\",\"mfp\")\n",
    "images_lib_col = db[\"images_lib\"]"
   ]
  },
  {
   "cell_type": "code",
   "execution_count": 19,
   "metadata": {},
   "outputs": [
    {
     "name": "stdout",
     "output_type": "stream",
     "text": [
      "0 query matches\n"
     ]
    }
   ],
   "source": [
    "query = {\n",
    "    \"$and\" : [\n",
    "        #{ \"name\":\"Andorra\" },\n",
    "        #{\"dataset\": {\"$exists\": True} },\n",
    "        {\"dataset\": {\"$exists\": False} }\n",
    "    ]  \n",
    "}\n",
    "\n",
    "images_metadata = [img_metadata for img_metadata in images_lib_col.find(query)]\n",
    "print(len(images_metadata), \"query matches\")"
   ]
  },
  {
   "cell_type": "code",
   "execution_count": 18,
   "metadata": {},
   "outputs": [
    {
     "name": "stderr",
     "output_type": "stream",
     "text": [
      "/anaconda3/lib/python3.6/site-packages/ipykernel_launcher.py:6: DeprecationWarning: update is deprecated. Use replace_one, update_one or update_many instead.\n",
      "  \n"
     ]
    },
    {
     "name": "stdout",
     "output_type": "stream",
     "text": [
      "857 documents updated\n",
      "CPU times: user 730 ms, sys: 86.6 ms, total: 816 ms\n",
      "Wall time: 41.5 s\n"
     ]
    }
   ],
   "source": [
    "%%time\n",
    "LIMIT = 1000\n",
    "updated_images = 0\n",
    "for image in images_metadata[:LIMIT]:\n",
    "    result = images_lib_col.update(\n",
    "        {\"filename\": image[\"filename\"]},\n",
    "        {\"$set\": {\"dataset\": DATASET}}\n",
    "    )\n",
    "    updated_images += result[\"nModified\"]\n",
    "print(updated_images, \"documents updated\")"
   ]
  },
  {
   "cell_type": "code",
   "execution_count": null,
   "metadata": {},
   "outputs": [],
   "source": []
  }
 ],
 "metadata": {
  "kernelspec": {
   "display_name": "Python 3",
   "language": "python",
   "name": "python3"
  },
  "language_info": {
   "codemirror_mode": {
    "name": "ipython",
    "version": 3
   },
   "file_extension": ".py",
   "mimetype": "text/x-python",
   "name": "python",
   "nbconvert_exporter": "python",
   "pygments_lexer": "ipython3",
   "version": "3.6.5"
  }
 },
 "nbformat": 4,
 "nbformat_minor": 2
}
