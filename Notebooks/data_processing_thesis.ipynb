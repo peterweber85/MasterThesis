{
 "cells": [
  {
   "cell_type": "markdown",
   "metadata": {},
   "source": [
    "# Load Modules"
   ]
  },
  {
   "cell_type": "code",
   "execution_count": 3,
   "metadata": {},
   "outputs": [],
   "source": [
    "import os\n",
    "import time\n",
    "import sys\n",
    "sys.path.append(\"../Library/\")\n",
    "\n",
    "from dotenv import load_dotenv\n",
    "load_dotenv(\"../.env\")\n",
    "\n",
    "# custom modules\n",
    "import image_download as imd\n",
    "import image_manipulation as ima"
   ]
  },
  {
   "cell_type": "markdown",
   "metadata": {},
   "source": [
    "# PARAMETERS"
   ]
  },
  {
   "cell_type": "code",
   "execution_count": 5,
   "metadata": {},
   "outputs": [
    {
     "ename": "TypeError",
     "evalue": "must be str, not float",
     "output_type": "error",
     "traceback": [
      "\u001b[0;31m---------------------------------------------------------------------------\u001b[0m",
      "\u001b[0;31mTypeError\u001b[0m                                 Traceback (most recent call last)",
      "\u001b[0;32m<ipython-input-5-202b5aaced94>\u001b[0m in \u001b[0;36m<module>\u001b[0;34m()\u001b[0m\n\u001b[1;32m      8\u001b[0m \u001b[0;31m# FOLDER PARAMETERS\u001b[0m\u001b[0;34m\u001b[0m\u001b[0;34m\u001b[0m\u001b[0;34m\u001b[0m\u001b[0m\n\u001b[1;32m      9\u001b[0m \u001b[0mGDRIVE_FOLDER\u001b[0m \u001b[0;34m=\u001b[0m \u001b[0mos\u001b[0m\u001b[0;34m.\u001b[0m\u001b[0mgetenv\u001b[0m\u001b[0;34m(\u001b[0m\u001b[0;34m'GDRIVE_FOLDER'\u001b[0m\u001b[0;34m)\u001b[0m\u001b[0;34m\u001b[0m\u001b[0;34m\u001b[0m\u001b[0m\n\u001b[0;32m---> 10\u001b[0;31m \u001b[0mRAW_IMAGE_FOLDER\u001b[0m \u001b[0;34m=\u001b[0m \u001b[0mGDRIVE_FOLDER\u001b[0m \u001b[0;34m+\u001b[0m \u001b[0;34m'MFP - Satellogic/images/raw_images_usgs_'\u001b[0m \u001b[0;34m+\u001b[0m \u001b[0mBASE_RESOLUTION\u001b[0m \u001b[0;34m+\u001b[0m \u001b[0;34m'm/'\u001b[0m\u001b[0;34m\u001b[0m\u001b[0;34m\u001b[0m\u001b[0m\n\u001b[0m\u001b[1;32m     11\u001b[0m \u001b[0mPROCESSED_IMAGE_FOLDER\u001b[0m \u001b[0;34m=\u001b[0m \u001b[0mRAW_IMAGE_FOLDER\u001b[0m \u001b[0;34m+\u001b[0m \u001b[0;34m'processed/'\u001b[0m\u001b[0;34m\u001b[0m\u001b[0;34m\u001b[0m\u001b[0m\n\u001b[1;32m     12\u001b[0m \u001b[0mMFP_IMG_FOLDER\u001b[0m \u001b[0;34m=\u001b[0m \u001b[0mGDRIVE_FOLDER\u001b[0m \u001b[0;34m+\u001b[0m \u001b[0;34m'MFP - Satellogic/images/'\u001b[0m\u001b[0;34m\u001b[0m\u001b[0;34m\u001b[0m\u001b[0m\n",
      "\u001b[0;31mTypeError\u001b[0m: must be str, not float"
     ]
    }
   ],
   "source": [
    "# PROCESSING PARAMETERS\n",
    "MOVE_PROCESSED_IMAGES = True\n",
    "\n",
    "# IMAGE PARAMETERS\n",
    "SIZE = 512 # in pixels\n",
    "BASE_RESOLUTION = 0.3 # in meter\n",
    "\n",
    "# FOLDER PARAMETERS\n",
    "GDRIVE_FOLDER = os.getenv('GDRIVE_FOLDER')\n",
    "MFP_IMAGE_FOLDER = GDRIVE_FOLDER + 'MFP - Satellogic/images/'\n",
    "RAW_IMAGE_FOLDER = MFP_IMAGE_FOLDER + 'raw_images_usgs_' + str(BASE_RESOLUTION) + 'm/'\n",
    "IMAGE_FOLDER = \n",
    "MOVED_IMAGE_FOLDER = RAW_IMAGE_FOLDER + 'processed/'\n",
    "CATEGORIES = ['forest-woodland', 'semi-desert', 'agriculture', 'shrubland-grassland']\n",
    "\n",
    "# Compute more parameters\n",
    "params = {'size': SIZE, 'res': BASE_RESOLUTION}\n",
    "subfolder = os.path.join(MFP_IMG_FOLDER, 'usgs_' + str(SIZE) + '_res' + str(BASE_RESOLUTION) + 'm')"
   ]
  },
  {
   "cell_type": "markdown",
   "metadata": {},
   "source": [
    "# Processing"
   ]
  },
  {
   "cell_type": "code",
   "execution_count": null,
   "metadata": {},
   "outputs": [],
   "source": [
    "print(\"\\nUSGS PIPELINE:\\n\")\n",
    "t0 = time.time()\n",
    "ima.create_directory(subfolder)\n",
    "\n",
    "for category in CATEGORIES:\n",
    "    # Process raw images and save\n",
    "    print(\"\\nProcessing raw images of category\", category.upper(), \"...\")\n",
    "    t1 = time.time()\n",
    "    output_folder = os.path.join(subfolder, category)\n",
    "    raw_images_fullnames = ima.list_path_of_images_by_category_and_label(RAW_IMAGE_FOLDER, category)\n",
    "    imd.process_raw_images_and_save_usgs(raw_images_fullnames, params, category, output_folder)\n",
    "    if MOVE_PROCESSED_IMAGES:\n",
    "        ima.move_folder_content(RAW_IMAGE_FOLDER + category, MOVED_IMAGE_FOLDER + category)\n",
    "    t2 = time.time()\n",
    "    print(\"[{:.2f} s]\".format(t2 - t1))\n",
    "\n",
    "print(\"\\nDONE! [{:.2f} s]\\n\".format(t2 - t0))"
   ]
  },
  {
   "cell_type": "markdown",
   "metadata": {},
   "source": [
    "# Examples Agriculture"
   ]
  },
  {
   "cell_type": "code",
   "execution_count": null,
   "metadata": {},
   "outputs": [],
   "source": [
    "path_agriculture = list_path_of_images_by_category(RAW_IMAGE_FOLDER, 'agriculture')"
   ]
  }
 ],
 "metadata": {
  "kernelspec": {
   "display_name": "Python 3",
   "language": "python",
   "name": "python3"
  },
  "language_info": {
   "codemirror_mode": {
    "name": "ipython",
    "version": 3
   },
   "file_extension": ".py",
   "mimetype": "text/x-python",
   "name": "python",
   "nbconvert_exporter": "python",
   "pygments_lexer": "ipython3",
   "version": "3.6.8"
  }
 },
 "nbformat": 4,
 "nbformat_minor": 2
}
