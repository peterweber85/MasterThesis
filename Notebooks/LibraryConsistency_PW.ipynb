{
 "cells": [
  {
   "cell_type": "markdown",
   "metadata": {},
   "source": [
    "# Library Consistency\n",
    "\n",
    "To check if all downloaded images (files in GDrive folder) have the corresponding metadata saved in the DB and, viceversa, if all metadata in the DB corresponds to existing files.\n",
    "\n",
    "TO-DO:\n",
    "    - implement scripts to automatically remove inconsistencies"
   ]
  },
  {
   "cell_type": "code",
   "execution_count": 2,
   "metadata": {},
   "outputs": [],
   "source": [
    "import sys\n",
    "sys.path.append(\"../Library/\")\n",
    "import image_download as imd\n",
    "import image_manipulation as ima\n",
    "\n",
    "from dotenv import load_dotenv\n",
    "import os\n",
    "load_dotenv(\"../.env\")\n",
    "\n",
    "import numpy as np\n",
    "import db_connection\n",
    "\n",
    "%matplotlib inline\n",
    "%load_ext autoreload\n",
    "%autoreload 2"
   ]
  },
  {
   "cell_type": "code",
   "execution_count": 13,
   "metadata": {},
   "outputs": [
    {
     "data": {
      "text/plain": [
       "'/Users/peterweber/Google Drive/MFP - Satellogic/images/'"
      ]
     },
     "execution_count": 13,
     "metadata": {},
     "output_type": "execute_result"
    }
   ],
   "source": [
    "IMG_FOLDER = os.environ[\"MFP_IMG_FOLDER\"]\n",
    "IMG_FOLDER"
   ]
  },
  {
   "cell_type": "markdown",
   "metadata": {},
   "source": [
    "## Images files (GDrive folder)"
   ]
  },
  {
   "cell_type": "code",
   "execution_count": 29,
   "metadata": {},
   "outputs": [
    {
     "name": "stdout",
     "output_type": "stream",
     "text": [
      "Existing images files: 351\n"
     ]
    }
   ],
   "source": [
    "images_files = ima.get_image_filenames(IMG_FOLDER)"
   ]
  },
  {
   "cell_type": "code",
   "execution_count": 30,
   "metadata": {},
   "outputs": [
    {
     "data": {
      "text/plain": [
       "'Elberta_30.436860029658565_-87.5725601670556_15_640.png'"
      ]
     },
     "execution_count": 30,
     "metadata": {},
     "output_type": "execute_result"
    }
   ],
   "source": [
    "images_files[0]"
   ]
  },
  {
   "cell_type": "markdown",
   "metadata": {},
   "source": [
    "## Images metadata (DB)"
   ]
  },
  {
   "cell_type": "code",
   "execution_count": 31,
   "metadata": {},
   "outputs": [
    {
     "name": "stdout",
     "output_type": "stream",
     "text": [
      "DB Credentials from file\n",
      "DB connected successfully!!!\n"
     ]
    }
   ],
   "source": [
    "db = db_connection.connect(\"../credentials/mlab_db.txt\",\"mfp\")\n",
    "images_lib_col = db[\"images_lib\"]"
   ]
  },
  {
   "cell_type": "code",
   "execution_count": 32,
   "metadata": {},
   "outputs": [
    {
     "name": "stdout",
     "output_type": "stream",
     "text": [
      "Existing images metadata: 351\n"
     ]
    }
   ],
   "source": [
    "images_metadata = ima.get_metadata_filenames(images_lib_col)"
   ]
  },
  {
   "cell_type": "code",
   "execution_count": 33,
   "metadata": {},
   "outputs": [
    {
     "data": {
      "text/plain": [
       "'Houston_29.83252964918823_-95.27860457984664_15_640.png'"
      ]
     },
     "execution_count": 33,
     "metadata": {},
     "output_type": "execute_result"
    }
   ],
   "source": [
    "images_metadata[0]"
   ]
  },
  {
   "cell_type": "markdown",
   "metadata": {},
   "source": [
    "## Missing metadata for file and missing files"
   ]
  },
  {
   "cell_type": "code",
   "execution_count": 34,
   "metadata": {},
   "outputs": [
    {
     "name": "stdout",
     "output_type": "stream",
     "text": [
      "Missing metadata for 0 files:\n",
      "Missing files for 0 metadata:\n"
     ]
    }
   ],
   "source": [
    "missing_metadata, missing_files = ima.get_discrepancies_between_metadata_and_images(images_files, images_metadata)"
   ]
  },
  {
   "cell_type": "markdown",
   "metadata": {},
   "source": [
    "## Delete inconsistencies"
   ]
  },
  {
   "cell_type": "code",
   "execution_count": 25,
   "metadata": {},
   "outputs": [
    {
     "name": "stdout",
     "output_type": "stream",
     "text": [
      "Deleted filename Elberta_30.1988_-87.7084_15_600.png from collection!\n",
      "Deleted filename Elberta_30.4943_-87.6705_15_600.png from collection!\n",
      "Deleted filename Elberta_30.5433_-87.5894_15_600.png from collection!\n",
      "Deleted filename Elberta_30.5596_-87.5191_15_600.png from collection!\n",
      "Deleted filename Elberta_30.5539_-87.4378_15_600.png from collection!\n",
      "Deleted filename Elberta_30.373_-87.7733_15_600.png from collection!\n",
      "Deleted filename Elberta_30.2875_-87.5367_15_600.png from collection!\n",
      "Deleted filename Elberta_30.4725_-87.5623_15_600.png from collection!\n",
      "Deleted filename Elberta_30.3937_-87.6834_15_600.png from collection!\n",
      "Deleted filename Elberta_30.4833_-87.6873_15_600.png from collection!\n",
      "File 30.3937_-87.6834_15_600.png removed!\n",
      "File 30.4833_-87.6873_15_600.png removed!\n",
      "File 30.5596_-87.5191_15_600.png removed!\n",
      "File 30.3459_-87.5425_15_600.png removed!\n",
      "File 30.5433_-87.5894_15_600.png removed!\n",
      "File 30.373_-87.7733_15_600.png removed!\n",
      "File 30.4943_-87.6705_15_600.png removed!\n",
      "File 30.4201_-87.7314_15_600.png removed!\n",
      "File 30.5539_-87.4378_15_600.png removed!\n",
      "File 30.6551_-87.6509_15_600.png removed!\n",
      "File 30.2875_-87.5367_15_600.png removed!\n",
      "File 30.4725_-87.5623_15_600.png removed!\n",
      "File 30.1988_-87.7084_15_600.png removed!\n"
     ]
    }
   ],
   "source": [
    "def delete_image_metadata_inconsistencies(db_collection, img_folder, missing_metadata, missing_files):\n",
    "    for file in missing_files:\n",
    "        query = {\"filename\": file}\n",
    "        try:\n",
    "            db_collection.delete_one(query)\n",
    "            print(\"Deleted filename\", file, \"from collection!\")\n",
    "        except:\n",
    "            print(\"Filename\", file, \"not found in collection!\")\n",
    "    for metadata in missing_metadata:\n",
    "        full_filename = img_folder + metadata\n",
    "        try:\n",
    "            os.remove(full_filename)\n",
    "            print(\"File\", metadata, \"removed!\")\n",
    "        except:\n",
    "            print(\"Image\", metadata, \"not found!\")\n",
    "        \n",
    "delete_image_metadata_inconsistencies(images_lib_col, IMG_FOLDER, missing_metadata, missing_files)"
   ]
  },
  {
   "cell_type": "code",
   "execution_count": null,
   "metadata": {},
   "outputs": [],
   "source": []
  }
 ],
 "metadata": {
  "kernelspec": {
   "display_name": "Python 3",
   "language": "python",
   "name": "python3"
  },
  "language_info": {
   "codemirror_mode": {
    "name": "ipython",
    "version": 3
   },
   "file_extension": ".py",
   "mimetype": "text/x-python",
   "name": "python",
   "nbconvert_exporter": "python",
   "pygments_lexer": "ipython3",
   "version": "3.6.8"
  }
 },
 "nbformat": 4,
 "nbformat_minor": 2
}
