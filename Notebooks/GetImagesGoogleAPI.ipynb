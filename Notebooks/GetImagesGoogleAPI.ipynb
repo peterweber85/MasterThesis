{
 "cells": [
  {
   "cell_type": "code",
   "execution_count": 1,
   "metadata": {},
   "outputs": [],
   "source": [
    "import math\n",
    "import sys\n",
    "sys.path.append(\"../Library/\")\n",
    "\n",
    "import image_download as imd\n",
    "\n",
    "%matplotlib inline\n",
    "%load_ext autoreload\n",
    "%autoreload 2"
   ]
  },
  {
   "cell_type": "markdown",
   "metadata": {},
   "source": [
    "### Parameters and Conversions"
   ]
  },
  {
   "cell_type": "code",
   "execution_count": 26,
   "metadata": {},
   "outputs": [
    {
     "name": "stdout",
     "output_type": "stream",
     "text": [
      "Meters per pixel: 4.14\n",
      "Image size: 2485.69 in meters\n"
     ]
    }
   ],
   "source": [
    "# parameters\n",
    "zoom = 15\n",
    "lat = 29.8669274\n",
    "long = -95.2626121\n",
    "pixels = 600\n",
    "num_images = 2 # this will be squared, i.e. 10 means it generates 100 links\n",
    "\n",
    "# image dimensions\n",
    "meters_per_px = imd.zoom_in_meters_per_pixel(zoom, lat)\n",
    "image_size = meters_per_px*pixels ## in meters\n",
    "\n",
    "print(\"Meters per pixel:\", round(meters_per_px,2))\n",
    "print(\"Image size:\", round(image_size,2), \"in meters\")"
   ]
  },
  {
   "cell_type": "markdown",
   "metadata": {},
   "source": [
    "### Generate Google Maps Links"
   ]
  },
  {
   "cell_type": "code",
   "execution_count": 27,
   "metadata": {},
   "outputs": [],
   "source": [
    "links = imd.generate_gmaps_links(lat, long, zoom, pixels, num_images, center = True, xy_to_ij = True) "
   ]
  },
  {
   "cell_type": "markdown",
   "metadata": {},
   "source": [
    "### Download and Plot Images"
   ]
  },
  {
   "cell_type": "code",
   "execution_count": 28,
   "metadata": {},
   "outputs": [],
   "source": [
    "images = imd.download_images(links, plot_images = True)"
   ]
  }
 ],
 "metadata": {
  "anaconda-cloud": {},
  "kernelspec": {
   "display_name": "Python 3",
   "language": "python",
   "name": "python3"
  },
  "language_info": {
   "codemirror_mode": {
    "name": "ipython",
    "version": 3
   },
   "file_extension": ".py",
   "mimetype": "text/x-python",
   "name": "python",
   "nbconvert_exporter": "python",
   "pygments_lexer": "ipython3",
   "version": "3.6.8"
  }
 },
 "nbformat": 4,
 "nbformat_minor": 2
}
