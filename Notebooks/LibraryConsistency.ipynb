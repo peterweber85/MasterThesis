{
 "cells": [
  {
   "cell_type": "markdown",
   "metadata": {},
   "source": [
    "# Library Consistency\n",
    "\n",
    "To check if all downloaded images (files in GDrive folder) have the corresponding metadata saved in the DB and, viceversa, if all metadata in the DB corresponds to existing files.\n",
    "\n",
    "TO-DO:\n",
    "    - implement scripts to automatically remove inconsistencies"
   ]
  },
  {
   "cell_type": "code",
   "execution_count": 2,
   "metadata": {},
   "outputs": [
    {
     "name": "stdout",
     "output_type": "stream",
     "text": [
      "The autoreload extension is already loaded. To reload it, use:\n",
      "  %reload_ext autoreload\n"
     ]
    }
   ],
   "source": [
    "import sys\n",
    "sys.path.append(\"../Library/\")\n",
    "import image_download as imd\n",
    "import image_manipulation as ima\n",
    "\n",
    "from dotenv import load_dotenv\n",
    "import os\n",
    "load_dotenv(\"../.env\")\n",
    "\n",
    "import numpy as np\n",
    "import db_connection\n",
    "\n",
    "%matplotlib inline\n",
    "%load_ext autoreload\n",
    "%autoreload 2"
   ]
  },
  {
   "cell_type": "code",
   "execution_count": 3,
   "metadata": {},
   "outputs": [],
   "source": [
    "IMG_FOLDER = os.environ[\"MFP_IMG_FOLDER\"]"
   ]
  },
  {
   "cell_type": "markdown",
   "metadata": {},
   "source": [
    "## Images files (GDrive folder)"
   ]
  },
  {
   "cell_type": "code",
   "execution_count": 10,
   "metadata": {},
   "outputs": [
    {
     "name": "stdout",
     "output_type": "stream",
     "text": [
      "Images files: 364\n"
     ]
    }
   ],
   "source": [
    "img_ext = ['png']\n",
    "images_files = [file for file in os.listdir(IMG_FOLDER) if any(file.endswith(ext) for ext in img_ext)]\n",
    "print(\"Existing images files:\", len(images_files))"
   ]
  },
  {
   "cell_type": "code",
   "execution_count": 11,
   "metadata": {},
   "outputs": [
    {
     "data": {
      "text/plain": [
       "'-33.6717_151.3187_13_600.png'"
      ]
     },
     "execution_count": 11,
     "metadata": {},
     "output_type": "execute_result"
    }
   ],
   "source": [
    "images_files[0]"
   ]
  },
  {
   "cell_type": "markdown",
   "metadata": {},
   "source": [
    "## Images metadata (DB)"
   ]
  },
  {
   "cell_type": "code",
   "execution_count": 12,
   "metadata": {},
   "outputs": [
    {
     "name": "stdout",
     "output_type": "stream",
     "text": [
      "DB Credentials from file\n",
      "DB connected successfully!!!\n"
     ]
    }
   ],
   "source": [
    "db = db_connection.connect(\"../credentials/mlab_db.txt\",\"mfp\")\n",
    "images_lib_col = db[\"images_lib\"]"
   ]
  },
  {
   "cell_type": "code",
   "execution_count": 16,
   "metadata": {},
   "outputs": [
    {
     "name": "stdout",
     "output_type": "stream",
     "text": [
      "Existing images metadata: 361\n"
     ]
    }
   ],
   "source": [
    "images_metadata = [img_metadata[\"filename\"] for img_metadata in images_lib_col.find({})]\n",
    "print(\"Existing images metadata:\", len(images_metadata))"
   ]
  },
  {
   "cell_type": "code",
   "execution_count": 17,
   "metadata": {},
   "outputs": [
    {
     "data": {
      "text/plain": [
       "'Houston_29.83252964918823_-95.27860457984664_15_640.png'"
      ]
     },
     "execution_count": 17,
     "metadata": {},
     "output_type": "execute_result"
    }
   ],
   "source": [
    "images_metadata[0]"
   ]
  },
  {
   "cell_type": "markdown",
   "metadata": {},
   "source": [
    "## Missing metadata for file"
   ]
  },
  {
   "cell_type": "code",
   "execution_count": 26,
   "metadata": {},
   "outputs": [
    {
     "name": "stdout",
     "output_type": "stream",
     "text": [
      "Missing metadata for 13 files:\n",
      " 30.4201_-87.7314_15_600.png\n",
      " 30.5596_-87.5191_15_600.png\n",
      " 30.4725_-87.5623_15_600.png\n",
      " 30.3937_-87.6834_15_600.png\n",
      " 30.373_-87.7733_15_600.png\n",
      " 30.4833_-87.6873_15_600.png\n",
      " 30.3459_-87.5425_15_600.png\n",
      " 30.4943_-87.6705_15_600.png\n",
      " 30.6551_-87.6509_15_600.png\n",
      " 30.2875_-87.5367_15_600.png\n",
      " 30.5539_-87.4378_15_600.png\n",
      " 30.5433_-87.5894_15_600.png\n",
      " 30.1988_-87.7084_15_600.png\n"
     ]
    }
   ],
   "source": [
    "missing_metadata = list(set(images_files) - set(images_metadata))\n",
    "print(\"Missing metadata for \" + str(len(missing_metadata)) + \" files:\")\n",
    "for name in missing_metadata:\n",
    "    print(\" \" + name)"
   ]
  },
  {
   "cell_type": "markdown",
   "metadata": {},
   "source": [
    "## Missing file for metadata"
   ]
  },
  {
   "cell_type": "code",
   "execution_count": 27,
   "metadata": {},
   "outputs": [
    {
     "name": "stdout",
     "output_type": "stream",
     "text": [
      "Missing files for 10 metadata:\n",
      " Elberta_30.373_-87.7733_15_600.png\n",
      " Elberta_30.3937_-87.6834_15_600.png\n",
      " Elberta_30.1988_-87.7084_15_600.png\n",
      " Elberta_30.5596_-87.5191_15_600.png\n",
      " Elberta_30.4833_-87.6873_15_600.png\n",
      " Elberta_30.4943_-87.6705_15_600.png\n",
      " Elberta_30.4725_-87.5623_15_600.png\n",
      " Elberta_30.2875_-87.5367_15_600.png\n",
      " Elberta_30.5433_-87.5894_15_600.png\n",
      " Elberta_30.5539_-87.4378_15_600.png\n"
     ]
    }
   ],
   "source": [
    "missing_files = list(set(images_metadata) - set(images_files))\n",
    "print(\"Missing files for \" + str(len(missing_files)) + \" metadata:\")\n",
    "for name in missing_files:\n",
    "    print(\" \" + name)"
   ]
  },
  {
   "cell_type": "code",
   "execution_count": null,
   "metadata": {},
   "outputs": [],
   "source": []
  }
 ],
 "metadata": {
  "kernelspec": {
   "display_name": "Python 3",
   "language": "python",
   "name": "python3"
  },
  "language_info": {
   "codemirror_mode": {
    "name": "ipython",
    "version": 3
   },
   "file_extension": ".py",
   "mimetype": "text/x-python",
   "name": "python",
   "nbconvert_exporter": "python",
   "pygments_lexer": "ipython3",
   "version": "3.6.5"
  }
 },
 "nbformat": 4,
 "nbformat_minor": 2
}
