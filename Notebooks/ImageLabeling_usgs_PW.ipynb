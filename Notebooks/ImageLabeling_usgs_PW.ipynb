{
 "cells": [
  {
   "cell_type": "code",
   "execution_count": 6,
   "metadata": {},
   "outputs": [
    {
     "name": "stdout",
     "output_type": "stream",
     "text": [
      "The autoreload extension is already loaded. To reload it, use:\n",
      "  %reload_ext autoreload\n"
     ]
    }
   ],
   "source": [
    "import gist\n",
    "\n",
    "from PIL import Image\n",
    "import imageio\n",
    "from IPython.display import display_png, clear_output\n",
    "\n",
    "import sys\n",
    "sys.path.append(\"../Library/\")\n",
    "import image_download as imd\n",
    "import image_manipulation as ima\n",
    "\n",
    "import random\n",
    "import numpy as np\n",
    "import pandas as pd\n",
    "import matplotlib.pyplot as plt\n",
    "from matplotlib.pyplot import imshow\n",
    "from dotenv import load_dotenv\n",
    "import os\n",
    "load_dotenv(\"../.env\")\n",
    "import csv\n",
    "\n",
    "import numpy as np\n",
    "import db_connection as dbcon\n",
    "\n",
    "%matplotlib inline\n",
    "%load_ext autoreload\n",
    "%autoreload 2"
   ]
  },
  {
   "cell_type": "code",
   "execution_count": 44,
   "metadata": {},
   "outputs": [],
   "source": [
    "from datetime import datetime"
   ]
  },
  {
   "cell_type": "code",
   "execution_count": 64,
   "metadata": {},
   "outputs": [],
   "source": [
    "def get_filenames_unlabeled_images(filenames, labeled_images):\n",
    "    unlabeled = list(set(filenames) - set(labeled_images))\n",
    "    return unlabeled\n",
    "\n",
    "def label_images(filenames, num_images):\n",
    "    random.shuffle(filenames)\n",
    "    \n",
    "    labels = {}\n",
    "    for i in range(num_images):\n",
    "        imarray = np.asarray(Image.open(MFP_FOLDER + \"processedIMG/\" + filenames[i]))[:,:,:3]\n",
    "        im = Image.fromarray(imarray)\n",
    "        display_png(im)\n",
    "        labels[filenames[i]] = input(\"Label:\")\n",
    "        clear_output()\n",
    "        \n",
    "    return labels\n",
    "        "
   ]
  },
  {
   "cell_type": "markdown",
   "metadata": {},
   "source": [
    "### Set Parameters"
   ]
  },
  {
   "cell_type": "code",
   "execution_count": 47,
   "metadata": {},
   "outputs": [
    {
     "data": {
      "text/plain": [
       "'/Users/peterweber/Google Drive/MFP - Satellogic/'"
      ]
     },
     "execution_count": 47,
     "metadata": {},
     "output_type": "execute_result"
    }
   ],
   "source": [
    "# parameters\n",
    "BASE_FOLDER = os.getenv('USGS_FOLDER')\n",
    "MFP_FOLDER = os.getenv('MFP_FOLDER')\n",
    "MFP_FOLDER"
   ]
  },
  {
   "cell_type": "markdown",
   "metadata": {},
   "source": [
    "### List all image filenames"
   ]
  },
  {
   "cell_type": "code",
   "execution_count": 99,
   "metadata": {},
   "outputs": [
    {
     "data": {
      "text/plain": [
       "['m_4209830_se_14_1_20140907_x4096_y1536.png',\n",
       " 'm_4209830_se_14_1_20140907_x1536_y0.png',\n",
       " 'm_3409456_ne_15_1_20170914_x4096_y5120.png',\n",
       " 'm_4209725_sw_14_1_20140917_x5632_y4096.png',\n",
       " 'm_2608164_sw_17_1_20171210_x6144_y6144.png',\n",
       " 'm_2608164_sw_17_1_20171210_x6656_y3584.png',\n",
       " 'm_3809356_nw_15_1_20140703_x6656_y1536.png',\n",
       " 'm_3409456_ne_15_1_20170914_x6656_y3584.png',\n",
       " 'm_3809356_nw_15_1_20140703_x6144_y512.png',\n",
       " 'm_4209830_se_14_1_20140907_x1024_y4608.png']"
      ]
     },
     "execution_count": 99,
     "metadata": {},
     "output_type": "execute_result"
    }
   ],
   "source": [
    "filenames =  os.listdir(MFP_FOLDER + \"processedIMG\")\n",
    "filenames[-10:]"
   ]
  },
  {
   "cell_type": "markdown",
   "metadata": {},
   "source": [
    "### List images that are already labeled"
   ]
  },
  {
   "cell_type": "code",
   "execution_count": 100,
   "metadata": {},
   "outputs": [
    {
     "data": {
      "text/plain": [
       "['m_2608164_sw_17_1_20171210_x4096_y1536.png',\n",
       " 'm_4210155_sw_14_1_20120710_x5632_y3072.png',\n",
       " 'm_4709143_nw_15_1_20171010_x5120_y2560.png',\n",
       " 'm_4209725_sw_14_1_20140917_x2048_y1536.png',\n",
       " 'm_2608164_sw_17_1_20171210_x6656_y2048.png',\n",
       " 'm_3909661_se_14_1_20170711_x3584_y512.png',\n",
       " 'm_4209725_sw_14_1_20140917_x2048_y4608.png',\n",
       " 'm_3812117_ne_10_1_20140726_x6144_y0.png',\n",
       " 'm_3909661_se_14_1_20170711_x1024_y1024.png',\n",
       " 'm_3812117_ne_10_1_20140726_x1536_y5120.png']"
      ]
     },
     "execution_count": 100,
     "metadata": {},
     "output_type": "execute_result"
    }
   ],
   "source": [
    "labels_csv = os.listdir(MFP_FOLDER + \"labels\")\n",
    "\n",
    "labeled_img = []\n",
    "for fname_csv in labels_csv:\n",
    "    df = pd.read_csv(MFP_FOLDER + \"labels/\" + fname_csv)\n",
    "    for fname in df.filename:\n",
    "        labeled_img.append(fname)\n",
    "\n",
    "labeled_img[-10:]"
   ]
  },
  {
   "cell_type": "markdown",
   "metadata": {},
   "source": [
    "### Label images"
   ]
  },
  {
   "cell_type": "code",
   "execution_count": 101,
   "metadata": {},
   "outputs": [
    {
     "data": {
      "text/html": [
       "<div>\n",
       "<style scoped>\n",
       "    .dataframe tbody tr th:only-of-type {\n",
       "        vertical-align: middle;\n",
       "    }\n",
       "\n",
       "    .dataframe tbody tr th {\n",
       "        vertical-align: top;\n",
       "    }\n",
       "\n",
       "    .dataframe thead th {\n",
       "        text-align: right;\n",
       "    }\n",
       "</style>\n",
       "<table border=\"1\" class=\"dataframe\">\n",
       "  <thead>\n",
       "    <tr style=\"text-align: right;\">\n",
       "      <th></th>\n",
       "      <th>filename</th>\n",
       "      <th>label</th>\n",
       "    </tr>\n",
       "  </thead>\n",
       "  <tbody>\n",
       "    <tr>\n",
       "      <th>15</th>\n",
       "      <td>m_3812117_ne_10_1_20140726_x0_y0.png</td>\n",
       "      <td>1</td>\n",
       "    </tr>\n",
       "    <tr>\n",
       "      <th>16</th>\n",
       "      <td>m_4209725_sw_14_1_20140917_x4096_y4096.png</td>\n",
       "      <td>1</td>\n",
       "    </tr>\n",
       "    <tr>\n",
       "      <th>17</th>\n",
       "      <td>m_4209830_se_14_1_20140907_x2560_y4096.png</td>\n",
       "      <td>1</td>\n",
       "    </tr>\n",
       "    <tr>\n",
       "      <th>18</th>\n",
       "      <td>m_4209725_sw_14_1_20140917_x6656_y3072.png</td>\n",
       "      <td>1</td>\n",
       "    </tr>\n",
       "    <tr>\n",
       "      <th>19</th>\n",
       "      <td>m_2608164_sw_17_1_20171210_x0_y0.png</td>\n",
       "      <td>0</td>\n",
       "    </tr>\n",
       "  </tbody>\n",
       "</table>\n",
       "</div>"
      ],
      "text/plain": [
       "                                      filename label\n",
       "15        m_3812117_ne_10_1_20140726_x0_y0.png     1\n",
       "16  m_4209725_sw_14_1_20140917_x4096_y4096.png     1\n",
       "17  m_4209830_se_14_1_20140907_x2560_y4096.png     1\n",
       "18  m_4209725_sw_14_1_20140917_x6656_y3072.png     1\n",
       "19        m_2608164_sw_17_1_20171210_x0_y0.png     0"
      ]
     },
     "execution_count": 101,
     "metadata": {},
     "output_type": "execute_result"
    }
   ],
   "source": [
    "unlabeled = get_filenames_unlabeled_images(filenames, labeled_img)\n",
    "labels = label_images(filenames, 20)\n",
    "\n",
    "df_labels = pd.DataFrame({\n",
    "        'filename': list(labels.keys()),\n",
    "        'label': list(labels.values())\n",
    "})\n",
    "df_labels.tail()"
   ]
  },
  {
   "cell_type": "markdown",
   "metadata": {},
   "source": [
    "### Save as .csv"
   ]
  },
  {
   "cell_type": "code",
   "execution_count": 102,
   "metadata": {},
   "outputs": [],
   "source": [
    "df_labels.to_csv(MFP_FOLDER + \"/labels/labels_\" + str(datetime.now()) + \".csv\")"
   ]
  },
  {
   "cell_type": "code",
   "execution_count": null,
   "metadata": {},
   "outputs": [],
   "source": []
  }
 ],
 "metadata": {
  "kernelspec": {
   "display_name": "Python 3",
   "language": "python",
   "name": "python3"
  },
  "language_info": {
   "codemirror_mode": {
    "name": "ipython",
    "version": 3
   },
   "file_extension": ".py",
   "mimetype": "text/x-python",
   "name": "python",
   "nbconvert_exporter": "python",
   "pygments_lexer": "ipython3",
   "version": "3.6.8"
  }
 },
 "nbformat": 4,
 "nbformat_minor": 2
}
