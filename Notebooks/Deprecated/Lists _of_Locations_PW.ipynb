{
 "cells": [
  {
   "cell_type": "markdown",
   "metadata": {},
   "source": [
    "# Lists of Locations"
   ]
  },
  {
   "cell_type": "markdown",
   "metadata": {},
   "source": [
    "## Central coordinates of all countries (centroids)\n",
    "\n",
    "* https://gis.stackexchange.com/questions/71921/list-of-central-coordinates-for-all-countries [CSV]"
   ]
  },
  {
   "cell_type": "markdown",
   "metadata": {},
   "source": [
    "## National capitals\n",
    "\n",
    "* https://en.wikipedia.org/wiki/List_of_national_capitals [scrapping]\n",
    "* http://techslides.com/list-of-countries-and-capitals [CSV, JSON]\n"
   ]
  },
  {
   "cell_type": "markdown",
   "metadata": {},
   "source": [
    "## National parks (worldwide and USA) and natural landmarks\n",
    "\n",
    "* https://en.wikipedia.org/wiki/List_of_national_parks\n",
    "* https://www.latlong.net/category/national-parks-236-42.html [table]\n",
    "* https://en.wikipedia.org/wiki/List_of_national_parks_of_the_United_States\n",
    "* https://www.city2map.com/en/where-is/list_of_natural_landmarks.html\n",
    "* https://www.google.com/search?q=list+coordinates+natural+landmarks&client=safari&rls=en&ei=d190XN-3Ot6LjLsPzba54Ao&start=10&sa=N&ved=0ahUKEwifz_Ct69fgAhXeBWMBHU1bDqwQ8tMDCH8&biw=1366&bih=685"
   ]
  },
  {
   "cell_type": "markdown",
   "metadata": {},
   "source": [
    "## More sources:\n",
    "\n",
    "* https://www.latlong.net"
   ]
  },
  {
   "cell_type": "markdown",
   "metadata": {},
   "source": [
    "## Narrow down lat long for US"
   ]
  },
  {
   "cell_type": "markdown",
   "metadata": {},
   "source": [
    "Generate random coordinates between\n",
    "- Northest Point: Edmonton Canada --> lat: 53.5559992\n",
    "- Southest Point: El Paso USA --> lat: 31.8113477\n",
    "- Western Point: San Francisco USA --> lon: -122.5078116\n",
    "- Eastern Point: New York USA --> lon: -74.2605513"
   ]
  },
  {
   "cell_type": "code",
   "execution_count": null,
   "metadata": {},
   "outputs": [],
   "source": []
  }
 ],
 "metadata": {
  "kernelspec": {
   "display_name": "Python 3",
   "language": "python",
   "name": "python3"
  },
  "language_info": {
   "codemirror_mode": {
    "name": "ipython",
    "version": 3
   },
   "file_extension": ".py",
   "mimetype": "text/x-python",
   "name": "python",
   "nbconvert_exporter": "python",
   "pygments_lexer": "ipython3",
   "version": "3.6.8"
  }
 },
 "nbformat": 4,
 "nbformat_minor": 2
}
