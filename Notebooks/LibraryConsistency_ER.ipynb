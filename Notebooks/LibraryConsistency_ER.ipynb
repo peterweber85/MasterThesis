{
 "cells": [
  {
   "cell_type": "markdown",
   "metadata": {},
   "source": [
    "# Library Consistency\n",
    "\n",
    "To check if all downloaded images (files in GDrive folder) have the corresponding metadata saved in the DB and, viceversa, if all metadata in the DB corresponds to existing files.\n",
    "\n",
    "TO-DO:\n",
    "    - implement scripts to automatically remove inconsistencies"
   ]
  },
  {
   "cell_type": "code",
   "execution_count": 83,
   "metadata": {},
   "outputs": [
    {
     "name": "stdout",
     "output_type": "stream",
     "text": [
      "The autoreload extension is already loaded. To reload it, use:\n",
      "  %reload_ext autoreload\n"
     ]
    }
   ],
   "source": [
    "import sys\n",
    "sys.path.append(\"../Library/\")\n",
    "import image_download as imd\n",
    "import image_manipulation as ima\n",
    "\n",
    "from dotenv import load_dotenv\n",
    "import os\n",
    "load_dotenv(\"../.env\")\n",
    "\n",
    "import numpy as np\n",
    "import db_connection as dbcon\n",
    "\n",
    "%matplotlib inline\n",
    "%load_ext autoreload\n",
    "%autoreload 2"
   ]
  },
  {
   "cell_type": "code",
   "execution_count": 94,
   "metadata": {},
   "outputs": [
    {
     "name": "stdout",
     "output_type": "stream",
     "text": [
      "DB Credentials from file\n",
      "DB connected successfully!!!\n"
     ]
    }
   ],
   "source": [
    "IMG_FOLDER = os.environ[\"MFP_IMG_FOLDER\"]\n",
    "\n",
    "db = db_connection.connect(\"../credentials/mlab_db.txt\",\"mfp\")\n",
    "images_lib_col = db[\"images_lib\"]"
   ]
  },
  {
   "cell_type": "markdown",
   "metadata": {},
   "source": [
    "## Images files (GDrive folder)"
   ]
  },
  {
   "cell_type": "code",
   "execution_count": 85,
   "metadata": {},
   "outputs": [
    {
     "name": "stdout",
     "output_type": "stream",
     "text": [
      "Existing images files: 1960\n"
     ]
    }
   ],
   "source": [
    "img_ext = ['png']\n",
    "images_files = [file for file in os.listdir(IMG_FOLDER) if any(file.endswith(ext) for ext in img_ext)]\n",
    "print(\"Existing images files:\", len(images_files))"
   ]
  },
  {
   "cell_type": "markdown",
   "metadata": {},
   "source": [
    "## Images metadata (DB)"
   ]
  },
  {
   "cell_type": "code",
   "execution_count": 88,
   "metadata": {},
   "outputs": [
    {
     "name": "stdout",
     "output_type": "stream",
     "text": [
      "Existing images metadata: 1959\n"
     ]
    }
   ],
   "source": [
    "images_metadata = [img_metadata[\"filename\"] for img_metadata in images_lib_col.find({})]\n",
    "print(\"Existing images metadata:\", len(images_metadata))"
   ]
  },
  {
   "cell_type": "markdown",
   "metadata": {},
   "source": [
    "## Missing metadata for file"
   ]
  },
  {
   "cell_type": "code",
   "execution_count": 90,
   "metadata": {},
   "outputs": [
    {
     "name": "stdout",
     "output_type": "stream",
     "text": [
      "Missing metadata for 1 files:\n",
      " Zambia_-6.6842_18.5059_13_600 còpia.png\n"
     ]
    }
   ],
   "source": [
    "missing_metadata = list(set(images_files) - set(images_metadata))\n",
    "print(\"Missing metadata for \" + str(len(missing_metadata)) + \" files:\")\n",
    "for name in missing_metadata:\n",
    "    print(\" \" + name)"
   ]
  },
  {
   "cell_type": "markdown",
   "metadata": {},
   "source": [
    "## Missing file for metadata"
   ]
  },
  {
   "cell_type": "code",
   "execution_count": 91,
   "metadata": {},
   "outputs": [
    {
     "name": "stdout",
     "output_type": "stream",
     "text": [
      "Missing files for 0 metadata:\n"
     ]
    }
   ],
   "source": [
    "missing_files = list(set(images_metadata) - set(images_files))\n",
    "print(\"Missing files for \" + str(len(missing_files)) + \" metadata:\")\n",
    "for name in missing_files:\n",
    "    print(\" \" + name)"
   ]
  },
  {
   "cell_type": "markdown",
   "metadata": {},
   "source": [
    "## Cleaning"
   ]
  },
  {
   "cell_type": "code",
   "execution_count": 92,
   "metadata": {},
   "outputs": [
    {
     "name": "stdout",
     "output_type": "stream",
     "text": [
      "1 local files deleted\n"
     ]
    }
   ],
   "source": [
    "print(ima.delete_images_files(IMG_FOLDER, missing_metadata), \"local files deleted\")"
   ]
  },
  {
   "cell_type": "code",
   "execution_count": 93,
   "metadata": {},
   "outputs": [
    {
     "name": "stdout",
     "output_type": "stream",
     "text": [
      "0 documents deleted\n"
     ]
    }
   ],
   "source": [
    "print(dbcon.delete_images_metadata(images_lib_col, missing_files), \"documents deleted\")"
   ]
  }
 ],
 "metadata": {
  "kernelspec": {
   "display_name": "Python 3",
   "language": "python",
   "name": "python3"
  },
  "language_info": {
   "codemirror_mode": {
    "name": "ipython",
    "version": 3
   },
   "file_extension": ".py",
   "mimetype": "text/x-python",
   "name": "python",
   "nbconvert_exporter": "python",
   "pygments_lexer": "ipython3",
   "version": "3.6.5"
  }
 },
 "nbformat": 4,
 "nbformat_minor": 2
}
