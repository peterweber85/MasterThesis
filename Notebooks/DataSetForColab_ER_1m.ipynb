{
 "cells": [
  {
   "cell_type": "markdown",
   "metadata": {},
   "source": [
    "# ResNet Activations - 1m"
   ]
  },
  {
   "cell_type": "code",
   "execution_count": 1,
   "metadata": {},
   "outputs": [],
   "source": [
    "BASE_RES = 1"
   ]
  },
  {
   "cell_type": "code",
   "execution_count": 3,
   "metadata": {},
   "outputs": [],
   "source": [
    "from keras.applications.resnet50 import ResNet50, preprocess_input\n",
    "#from keras.applications.resnet import ResNet101, preprocess_input\n",
    "from keras.models import Model\n",
    "from keras.preprocessing import image\n",
    "from keras import models\n",
    "from keras import layers\n",
    "from keras import optimizers\n",
    "from keras.models import model_from_json"
   ]
  },
  {
   "cell_type": "code",
   "execution_count": 4,
   "metadata": {},
   "outputs": [],
   "source": [
    "from matplotlib import pyplot as plt\n",
    "%matplotlib inline\n",
    "\n",
    "import numpy as np\n",
    "import pandas as pd\n",
    "import sys\n",
    "import os\n",
    "import datetime\n",
    "\n",
    "from PIL import Image\n",
    "\n",
    "from dotenv import load_dotenv\n",
    "\n",
    "from sklearn.model_selection import train_test_split\n",
    "from sklearn.metrics import accuracy_score"
   ]
  },
  {
   "cell_type": "code",
   "execution_count": 5,
   "metadata": {},
   "outputs": [],
   "source": [
    "sys.path.append(\"../Library/\")\n",
    "import deep_learning as dl\n",
    "import image_manipulation as ima\n",
    "import machine_learning as ml"
   ]
  },
  {
   "cell_type": "code",
   "execution_count": 6,
   "metadata": {},
   "outputs": [],
   "source": [
    "%load_ext autoreload\n",
    "%autoreload 2"
   ]
  },
  {
   "cell_type": "code",
   "execution_count": 7,
   "metadata": {},
   "outputs": [],
   "source": [
    "def print_time(string=''):\n",
    "    print('', str(datetime.datetime.today())[:22], string)\n",
    "    return"
   ]
  },
  {
   "cell_type": "markdown",
   "metadata": {},
   "source": [
    "# Load Image Batch"
   ]
  },
  {
   "cell_type": "markdown",
   "metadata": {},
   "source": [
    "### Define degraded resolutions and image sizes for later use"
   ]
  },
  {
   "cell_type": "code",
   "execution_count": 8,
   "metadata": {},
   "outputs": [
    {
     "name": "stdout",
     "output_type": "stream",
     "text": [
      "\n",
      "Sizes dictionary:\n",
      " {2: (256, 256), 3: (171, 171), 4: (128, 128), 5: (102, 102), 6: (85, 85), 7: (73, 73), 8: (64, 64), 9: (57, 57), 10: (51, 51), 11: (47, 47), 12: (43, 43), 13: (39, 39), 14: (37, 37), 15: (34, 34), 16: (32, 32)}\n"
     ]
    }
   ],
   "source": [
    "sizes = {}\n",
    "base_res = BASE_RES\n",
    "base_size = 512\n",
    "\n",
    "for factor in range(2, 17):\n",
    "    res = round(base_res * factor,1)\n",
    "    size = round(base_size/factor)\n",
    "    sizes[res] = (size, size)\n",
    "print(\"\\nSizes dictionary:\\n\", sizes)"
   ]
  },
  {
   "cell_type": "markdown",
   "metadata": {},
   "source": [
    "### Load Image Batch into DataFrame"
   ]
  },
  {
   "cell_type": "code",
   "execution_count": 9,
   "metadata": {},
   "outputs": [],
   "source": [
    "base_folder = os.getenv('GDRIVE_FOLDER') + \"MFP - Satellogic/images/usgs_512_res\" + str(BASE_RES) + \"m\"\n",
    "categories = [\"forest-woodland\", \"agriculture\", \"shrubland-grassland\", \"semi-desert\"]\n",
    "data_folder_colab = os.getenv('GDRIVE_FOLDER').replace(\"MDS/\",\"\") + \"Colab/MasterThesis/Data/\" + str(BASE_RES) + \"m\"\n",
    "results_folder_colab = os.getenv('GDRIVE_FOLDER').replace(\"MDS/\",\"\") + \"Colab/MasterThesis/Results_\" + str(BASE_RES) + \"m_excl_label1\""
   ]
  },
  {
   "cell_type": "code",
   "execution_count": 10,
   "metadata": {},
   "outputs": [],
   "source": [
    "labels = [0, 1, 2]\n",
    "df_images = pd.DataFrame(columns = ['filename', 'image', 'resolution', 'label', 'category'])\n",
    "for category in categories:\n",
    "    for label in labels:\n",
    "        df = ima.load_images_into_df_by_category_and_label(base_folder, category, label)\n",
    "        df_images = df_images.append(df)    "
   ]
  },
  {
   "cell_type": "code",
   "execution_count": 11,
   "metadata": {},
   "outputs": [
    {
     "name": "stdout",
     "output_type": "stream",
     "text": [
      "Shape of df_images: (238, 5)\n",
      "Distribution of categories and labels:\n",
      "               category  label  counts\n",
      "0          agriculture      1       2\n",
      "1          agriculture      2       8\n",
      "2      forest-woodland      0      66\n",
      "3      forest-woodland      1      39\n",
      "4      forest-woodland      2      79\n",
      "5          semi-desert      0      14\n",
      "6          semi-desert      1      10\n",
      "7          semi-desert      2       6\n",
      "8  shrubland-grassland      0      14\n",
      "\n",
      "Distribution of labels:\n",
      "    label  counts\n",
      "0      0      94\n",
      "1      1      51\n",
      "2      2      93\n"
     ]
    }
   ],
   "source": [
    "print(\"Shape of df_images:\", df_images.shape)\n",
    "print(\"Distribution of categories and labels:\\n\", df_images.groupby(['category', 'label']).size().reset_index(name='counts'))\n",
    "print(\"\\nDistribution of labels:\\n\", df_images.groupby(['label']).size().reset_index(name='counts'))"
   ]
  },
  {
   "cell_type": "markdown",
   "metadata": {},
   "source": [
    "### Enhance Images DataFrame by Degraded Images"
   ]
  },
  {
   "cell_type": "code",
   "execution_count": 10,
   "metadata": {},
   "outputs": [],
   "source": [
    "if False:\n",
    "\n",
    "    df_degraded = ima.load_degraded_images_into_df(df_images, sizes, label = True)\n",
    "\n",
    "    df_images = df_images.append(df_degraded)\n",
    "    print(\"Shape of df_images:\", df_images.shape)\n",
    "    del df_degraded"
   ]
  },
  {
   "cell_type": "markdown",
   "metadata": {},
   "source": [
    "### Generate data set X and y and save for Colab"
   ]
  },
  {
   "cell_type": "code",
   "execution_count": 12,
   "metadata": {},
   "outputs": [
    {
     "name": "stdout",
     "output_type": "stream",
     "text": [
      "Shape of image array is: (238, 512, 512, 3)\n"
     ]
    }
   ],
   "source": [
    "X, y = dl.generate_X_y_from_df(df_images)"
   ]
  },
  {
   "cell_type": "code",
   "execution_count": 15,
   "metadata": {
    "scrolled": true
   },
   "outputs": [
    {
     "data": {
      "text/plain": [
       "array([[[[ 59,  84,  61],\n",
       "         [ 64,  87,  65],\n",
       "         [ 68,  91,  66],\n",
       "         ...,\n",
       "         [ 56,  69,  54],\n",
       "         [ 67,  89,  61],\n",
       "         [ 68,  88,  63]],\n",
       "\n",
       "        [[ 57,  81,  58],\n",
       "         [ 70,  96,  67],\n",
       "         [ 72, 100,  69],\n",
       "         ...,\n",
       "         [ 62,  79,  61],\n",
       "         [ 69,  85,  61],\n",
       "         [ 55,  77,  58]],\n",
       "\n",
       "        [[ 66,  94,  64],\n",
       "         [ 79, 104,  71],\n",
       "         [ 87, 112,  76],\n",
       "         ...,\n",
       "         [ 36,  43,  46],\n",
       "         [ 22,  34,  41],\n",
       "         [ 28,  40,  45]],\n",
       "\n",
       "        ...,\n",
       "\n",
       "        [[ 31,  47,  46],\n",
       "         [ 17,  30,  38],\n",
       "         [ 20,  35,  39],\n",
       "         ...,\n",
       "         [ 51,  68,  54],\n",
       "         [ 23,  39,  42],\n",
       "         [ 13,  22,  34]],\n",
       "\n",
       "        [[ 38,  54,  48],\n",
       "         [ 28,  42,  43],\n",
       "         [ 37,  56,  48],\n",
       "         ...,\n",
       "         [ 51,  74,  56],\n",
       "         [ 46,  68,  51],\n",
       "         [ 17,  23,  35]],\n",
       "\n",
       "        [[ 26,  45,  44],\n",
       "         [ 40,  56,  49],\n",
       "         [ 53,  73,  55],\n",
       "         ...,\n",
       "         [ 65,  87,  60],\n",
       "         [ 31,  44,  46],\n",
       "         [ 20,  28,  38]]],\n",
       "\n",
       "\n",
       "       [[[ 27,  40,  44],\n",
       "         [ 28,  42,  45],\n",
       "         [ 42,  58,  49],\n",
       "         ...,\n",
       "         [130, 115,  94],\n",
       "         [113, 103,  83],\n",
       "         [114, 119,  87]],\n",
       "\n",
       "        [[ 30,  43,  46],\n",
       "         [ 35,  42,  46],\n",
       "         [ 37,  50,  48],\n",
       "         ...,\n",
       "         [ 63,  62,  59],\n",
       "         [ 46,  50,  49],\n",
       "         [ 76,  96,  68]],\n",
       "\n",
       "        [[ 24,  36,  42],\n",
       "         [ 37,  51,  49],\n",
       "         [ 50,  67,  57],\n",
       "         ...,\n",
       "         [ 18,  35,  41],\n",
       "         [ 33,  53,  47],\n",
       "         [ 67,  94,  64]],\n",
       "\n",
       "        ...,\n",
       "\n",
       "        [[ 21,  31,  38],\n",
       "         [ 37,  58,  47],\n",
       "         [ 63,  81,  62],\n",
       "         ...,\n",
       "         [ 44,  52,  50],\n",
       "         [ 35,  50,  48],\n",
       "         [ 35,  54,  49]],\n",
       "\n",
       "        [[ 19,  33,  39],\n",
       "         [ 44,  54,  49],\n",
       "         [ 55,  74,  58],\n",
       "         ...,\n",
       "         [ 28,  37,  44],\n",
       "         [ 27,  38,  44],\n",
       "         [ 38,  58,  50]],\n",
       "\n",
       "        [[ 50,  52,  48],\n",
       "         [ 58,  72,  56],\n",
       "         [ 78,  93,  64],\n",
       "         ...,\n",
       "         [ 23,  35,  41],\n",
       "         [ 31,  45,  45],\n",
       "         [ 53,  71,  55]]],\n",
       "\n",
       "\n",
       "       [[[ 47,  52,  57],\n",
       "         [ 83,  79,  75],\n",
       "         [ 59,  59,  65],\n",
       "         ...,\n",
       "         [ 49,  67,  53],\n",
       "         [ 45,  55,  50],\n",
       "         [ 16,  24,  37]],\n",
       "\n",
       "        [[ 23,  31,  44],\n",
       "         [ 38,  44,  54],\n",
       "         [ 61,  63,  68],\n",
       "         ...,\n",
       "         [ 47,  64,  55],\n",
       "         [ 35,  52,  49],\n",
       "         [ 35,  43,  48]],\n",
       "\n",
       "        [[ 29,  36,  47],\n",
       "         [ 31,  38,  48],\n",
       "         [ 39,  51,  55],\n",
       "         ...,\n",
       "         [ 58,  69,  58],\n",
       "         [ 53,  68,  55],\n",
       "         [ 54,  70,  56]],\n",
       "\n",
       "        ...,\n",
       "\n",
       "        [[130, 121,  90],\n",
       "         [127, 117,  90],\n",
       "         [130, 121,  92],\n",
       "         ...,\n",
       "         [ 30,  45,  46],\n",
       "         [ 33,  49,  48],\n",
       "         [ 38,  51,  48]],\n",
       "\n",
       "        [[131, 122,  91],\n",
       "         [131, 120,  94],\n",
       "         [134, 123,  96],\n",
       "         ...,\n",
       "         [ 38,  53,  50],\n",
       "         [ 33,  49,  49],\n",
       "         [ 46,  55,  53]],\n",
       "\n",
       "        [[133, 125,  95],\n",
       "         [129, 116,  91],\n",
       "         [137, 128,  97],\n",
       "         ...,\n",
       "         [ 41,  57,  52],\n",
       "         [ 35,  47,  48],\n",
       "         [ 44,  55,  54]]],\n",
       "\n",
       "\n",
       "       ...,\n",
       "\n",
       "\n",
       "       [[[170, 152, 123],\n",
       "         [178, 161, 132],\n",
       "         [181, 164, 140],\n",
       "         ...,\n",
       "         [141, 137, 112],\n",
       "         [143, 135, 106],\n",
       "         [139, 137, 104]],\n",
       "\n",
       "        [[167, 149, 122],\n",
       "         [175, 155, 128],\n",
       "         [177, 162, 136],\n",
       "         ...,\n",
       "         [143, 134, 109],\n",
       "         [148, 137, 109],\n",
       "         [156, 144, 116]],\n",
       "\n",
       "        [[160, 146, 116],\n",
       "         [160, 143, 121],\n",
       "         [178, 161, 133],\n",
       "         ...,\n",
       "         [140, 134, 106],\n",
       "         [156, 143, 111],\n",
       "         [161, 144, 117]],\n",
       "\n",
       "        ...,\n",
       "\n",
       "        [[157, 143, 115],\n",
       "         [164, 151, 122],\n",
       "         [161, 149, 116],\n",
       "         ...,\n",
       "         [149, 146, 117],\n",
       "         [117, 123,  99],\n",
       "         [132, 129, 104]],\n",
       "\n",
       "        [[163, 146, 115],\n",
       "         [161, 147, 119],\n",
       "         [167, 148, 112],\n",
       "         ...,\n",
       "         [153, 147, 119],\n",
       "         [132, 131, 103],\n",
       "         [127, 119,  94]],\n",
       "\n",
       "        [[156, 140, 113],\n",
       "         [140, 135, 109],\n",
       "         [144, 136, 109],\n",
       "         ...,\n",
       "         [153, 148, 118],\n",
       "         [148, 141, 113],\n",
       "         [125, 120,  95]]],\n",
       "\n",
       "\n",
       "       [[[ 98,  92,  78],\n",
       "         [102,  97,  77],\n",
       "         [ 93,  93,  74],\n",
       "         ...,\n",
       "         [ 40,  46,  33],\n",
       "         [ 36,  42,  33],\n",
       "         [ 45,  60,  39]],\n",
       "\n",
       "        [[ 98,  95,  80],\n",
       "         [ 84,  81,  64],\n",
       "         [ 85,  85,  72],\n",
       "         ...,\n",
       "         [ 30,  35,  27],\n",
       "         [ 36,  43,  29],\n",
       "         [ 46,  56,  39]],\n",
       "\n",
       "        [[100,  93,  76],\n",
       "         [ 88,  88,  71],\n",
       "         [ 85,  83,  71],\n",
       "         ...,\n",
       "         [ 31,  38,  30],\n",
       "         [ 42,  49,  31],\n",
       "         [ 39,  44,  31]],\n",
       "\n",
       "        ...,\n",
       "\n",
       "        [[138, 124,  99],\n",
       "         [142, 128, 100],\n",
       "         [140, 127, 101],\n",
       "         ...,\n",
       "         [139, 126,  98],\n",
       "         [127, 117,  93],\n",
       "         [123, 114,  93]],\n",
       "\n",
       "        [[145, 130, 102],\n",
       "         [132, 121,  98],\n",
       "         [142, 130, 103],\n",
       "         ...,\n",
       "         [135, 122,  99],\n",
       "         [136, 122,  98],\n",
       "         [133, 118,  94]],\n",
       "\n",
       "        [[144, 130, 104],\n",
       "         [136, 123,  99],\n",
       "         [144, 129, 106],\n",
       "         ...,\n",
       "         [136, 123,  99],\n",
       "         [131, 120,  96],\n",
       "         [123, 113,  90]]],\n",
       "\n",
       "\n",
       "       [[[ 58,  69,  41],\n",
       "         [ 46,  55,  38],\n",
       "         [ 47,  56,  39],\n",
       "         ...,\n",
       "         [101,  98,  82],\n",
       "         [ 97,  91,  76],\n",
       "         [ 85,  85,  74]],\n",
       "\n",
       "        [[ 44,  55,  37],\n",
       "         [ 42,  50,  35],\n",
       "         [ 44,  53,  37],\n",
       "         ...,\n",
       "         [100,  93,  81],\n",
       "         [ 96,  92,  78],\n",
       "         [ 85,  87,  71]],\n",
       "\n",
       "        [[ 43,  50,  34],\n",
       "         [ 50,  59,  38],\n",
       "         [ 56,  72,  42],\n",
       "         ...,\n",
       "         [ 91,  87,  75],\n",
       "         [ 84,  89,  76],\n",
       "         [ 84,  86,  74]],\n",
       "\n",
       "        ...,\n",
       "\n",
       "        [[123, 118,  94],\n",
       "         [133, 121,  95],\n",
       "         [133, 121,  96],\n",
       "         ...,\n",
       "         [ 63,  69,  57],\n",
       "         [ 79,  82,  61],\n",
       "         [ 75,  83,  56]],\n",
       "\n",
       "        [[131, 122,  98],\n",
       "         [129, 119,  95],\n",
       "         [123, 117,  97],\n",
       "         ...,\n",
       "         [ 58,  63,  50],\n",
       "         [ 80,  82,  62],\n",
       "         [ 77,  82,  58]],\n",
       "\n",
       "        [[129, 119,  98],\n",
       "         [131, 122,  95],\n",
       "         [125, 114,  90],\n",
       "         ...,\n",
       "         [ 58,  63,  46],\n",
       "         [ 75,  75,  59],\n",
       "         [ 67,  70,  52]]]], dtype=uint8)"
      ]
     },
     "execution_count": 15,
     "metadata": {},
     "output_type": "execute_result"
    }
   ],
   "source": [
    "X_l1, y_l1 = X[y == 1], y[y == 1] \n",
    "X_l1"
   ]
  },
  {
   "cell_type": "code",
   "execution_count": 16,
   "metadata": {},
   "outputs": [],
   "source": [
    "from random import shuffle\n",
    "random_order = [i for i in range(len(X))]\n",
    "shuffle(random_order)\n",
    "\n",
    "X, y = X[random_order], y[random_order]\n",
    "\n",
    "not_label = y != 1\n",
    "X, y = X[not_label], y[not_label]\n",
    "y = np.array(ml.convert_encoding(y, ml.zero_encoding))"
   ]
  },
  {
   "cell_type": "code",
   "execution_count": 17,
   "metadata": {},
   "outputs": [],
   "source": [
    "X_name = 'X_images_res' + str(BASE_RES) + '.npy'\n",
    "y_name = 'y_images_res' + str(BASE_RES) + '.npy'"
   ]
  },
  {
   "cell_type": "code",
   "execution_count": 18,
   "metadata": {},
   "outputs": [],
   "source": [
    "np.save(os.path.join(data_folder_colab, X_name), X)\n",
    "np.save(os.path.join(data_folder_colab, y_name), y)"
   ]
  },
  {
   "cell_type": "code",
   "execution_count": 20,
   "metadata": {},
   "outputs": [],
   "source": [
    "X_l1_name = 'X_l1_images_res' + str(BASE_RES) + '.npy'\n",
    "y_l1_name = 'y_l1_images_res' + str(BASE_RES) + '.npy'\n",
    "\n",
    "np.save(os.path.join(results_folder_colab, X_l1_name), X_l1)\n",
    "np.save(os.path.join(results_folder_colab, y_l1_name), y_l1)"
   ]
  },
  {
   "cell_type": "code",
   "execution_count": null,
   "metadata": {},
   "outputs": [],
   "source": []
  }
 ],
 "metadata": {
  "kernelspec": {
   "display_name": "Python 3",
   "language": "python",
   "name": "python3"
  },
  "language_info": {
   "codemirror_mode": {
    "name": "ipython",
    "version": 3
   },
   "file_extension": ".py",
   "mimetype": "text/x-python",
   "name": "python",
   "nbconvert_exporter": "python",
   "pygments_lexer": "ipython3",
   "version": "3.6.5"
  }
 },
 "nbformat": 4,
 "nbformat_minor": 2
}
