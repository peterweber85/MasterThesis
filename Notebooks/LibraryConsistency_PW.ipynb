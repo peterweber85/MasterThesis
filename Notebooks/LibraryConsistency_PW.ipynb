{
 "cells": [
  {
   "cell_type": "markdown",
   "metadata": {},
   "source": [
    "# Library Consistency\n",
    "\n",
    "To check if all downloaded images (files in GDrive folder) have the corresponding metadata saved in the DB and, viceversa, if all metadata in the DB corresponds to existing files.\n",
    "\n",
    "TO-DO:\n",
    "    - implement scripts to automatically remove inconsistencies"
   ]
  },
  {
   "cell_type": "code",
   "execution_count": 37,
   "metadata": {},
   "outputs": [
    {
     "name": "stdout",
     "output_type": "stream",
     "text": [
      "The autoreload extension is already loaded. To reload it, use:\n",
      "  %reload_ext autoreload\n"
     ]
    }
   ],
   "source": [
    "import sys\n",
    "sys.path.append(\"../Library/\")\n",
    "import image_download as imd\n",
    "import image_manipulation as ima\n",
    "\n",
    "from dotenv import load_dotenv\n",
    "import os\n",
    "load_dotenv(\"../.env\")\n",
    "\n",
    "import numpy as np\n",
    "import db_connection\n",
    "\n",
    "%matplotlib inline\n",
    "%load_ext autoreload\n",
    "%autoreload 2"
   ]
  },
  {
   "cell_type": "code",
   "execution_count": 38,
   "metadata": {},
   "outputs": [
    {
     "data": {
      "text/plain": [
       "'/Users/peterweber/Google Drive/MFP - Satellogic/images/'"
      ]
     },
     "execution_count": 38,
     "metadata": {},
     "output_type": "execute_result"
    }
   ],
   "source": [
    "IMG_FOLDER = os.environ[\"MFP_IMG_FOLDER\"]"
   ]
  },
  {
   "cell_type": "markdown",
   "metadata": {},
   "source": [
    "## Images files (GDrive folder)"
   ]
  },
  {
   "cell_type": "code",
   "execution_count": 39,
   "metadata": {},
   "outputs": [
    {
     "name": "stdout",
     "output_type": "stream",
     "text": [
      "Existing images files: 415\n"
     ]
    }
   ],
   "source": [
    "images_files = ima.get_image_filenames(IMG_FOLDER)"
   ]
  },
  {
   "cell_type": "markdown",
   "metadata": {},
   "source": [
    "## Images metadata (DB)"
   ]
  },
  {
   "cell_type": "code",
   "execution_count": 41,
   "metadata": {},
   "outputs": [
    {
     "name": "stdout",
     "output_type": "stream",
     "text": [
      "DB Credentials from file\n",
      "DB connected successfully!!!\n"
     ]
    }
   ],
   "source": [
    "db = db_connection.connect(\"../credentials/mlab_db.txt\",\"mfp\")\n",
    "images_lib_col = db[\"images_lib\"]"
   ]
  },
  {
   "cell_type": "code",
   "execution_count": 42,
   "metadata": {},
   "outputs": [
    {
     "name": "stdout",
     "output_type": "stream",
     "text": [
      "Existing images metadata: 335\n"
     ]
    }
   ],
   "source": [
    "images_metadata = ima.get_metadata_filenames(images_lib_col)"
   ]
  },
  {
   "cell_type": "markdown",
   "metadata": {},
   "source": [
    "## Missing metadata for file and missing files"
   ]
  },
  {
   "cell_type": "code",
   "execution_count": 44,
   "metadata": {},
   "outputs": [
    {
     "name": "stdout",
     "output_type": "stream",
     "text": [
      "Missing metadata for 80 files:\n",
      " US_2_33.02613505849492_-95.22068486491332_15_600.png\n",
      " US_3_37.66401321425672_-97.21715817753926_14_600.png\n",
      " US_3_35.399516906014156_-86.419580559389_14_600.png\n",
      " US_3_47.39031094307566_-80.9920299256121_16_600.png\n",
      " US_4_47.29428238136259_-111.43562902469873_15_600.png\n",
      " US_3_42.98806525060572_-110.44960348626935_16_600.png\n",
      " US_2_33.02613505849492_-95.22068486491332_16_600.png\n",
      " US_5_52.61157891326431_-111.29250648393565_14_600.png\n",
      " US_4_34.29070286236522_-106.9256014628645_15_600.png\n",
      " US_2_48.9599419343183_-101.5693035409191_16_600.png\n",
      " US_3_47.39031094307566_-80.9920299256121_15_600.png\n",
      " US_2_36.57250287336959_-112.1243744002766_15_600.png\n",
      " US_3_35.399516906014156_-86.419580559389_15_600.png\n",
      " US_2_33.02613505849492_-95.22068486491332_13_600.png\n",
      " US_5_51.780354429955324_-112.36480570639523_14_600.png\n",
      " US_4_41.21642954715827_-122.06630348076318_16_600.png\n",
      " US_2_39.32840671980378_-82.51508090746711_14_600.png\n",
      " US_2_32.43355025201006_-99.24849463173878_14_600.png\n",
      " US_3_42.98806525060572_-110.44960348626935_15_600.png\n",
      " US_3_37.66401321425672_-97.21715817753926_16_600.png\n",
      " US_2_39.32840671980378_-82.51508090746711_13_600.png\n",
      " US_3_53.346343896462706_-116.8038694589654_14_600.png\n",
      " US_5_46.980424852273295_-118.1859437695452_14_600.png\n",
      " US_5_51.780354429955324_-112.36480570639523_15_600.png\n",
      " US_4_50.76376356968391_-97.791185750363_16_600.png\n",
      " US_3_35.399516906014156_-86.419580559389_16_600.png\n",
      " US_5_52.61157891326431_-111.29250648393565_16_600.png\n",
      " US_3_47.39031094307566_-80.9920299256121_14_600.png\n",
      " US_2_36.57250287336959_-112.1243744002766_14_600.png\n",
      " US_5_52.03956254403858_-76.34046752751553_13_600.png\n",
      " US_4_50.76376356968391_-97.791185750363_15_600.png\n",
      " US_3_53.346343896462706_-116.8038694589654_16_600.png\n",
      " US_5_52.03956254403858_-76.34046752751553_14_600.png\n",
      " US_5_52.03956254403858_-76.34046752751553_15_600.png\n",
      " US_2_32.43355025201006_-99.24849463173878_15_600.png\n",
      " US_2_33.02613505849492_-95.22068486491332_14_600.png\n",
      " US_4_39.459239912702316_-87.31816449879113_13_600.png\n",
      " US_3_37.66401321425672_-97.21715817753926_13_600.png\n",
      " US_3_42.98806525060572_-110.44960348626935_14_600.png\n",
      " US_5_52.61157891326431_-111.29250648393565_15_600.png\n",
      " US_4_50.76376356968391_-97.791185750363_14_600.png\n",
      " US_2_39.32840671980378_-82.51508090746711_16_600.png\n",
      " US_5_52.03956254403858_-76.34046752751553_16_600.png\n",
      " US_4_39.459239912702316_-87.31816449879113_16_600.png\n",
      " US_2_48.9599419343183_-101.5693035409191_13_600.png\n",
      " US_2_48.9599419343183_-101.5693035409191_15_600.png\n",
      " US_2_36.57250287336959_-112.1243744002766_16_600.png\n",
      " US_4_41.21642954715827_-122.06630348076318_13_600.png\n",
      " US_4_39.459239912702316_-87.31816449879113_14_600.png\n",
      " US_4_47.29428238136259_-111.43562902469873_13_600.png\n",
      " US_4_50.76376356968391_-97.791185750363_13_600.png\n",
      " US_5_52.61157891326431_-111.29250648393565_13_600.png\n",
      " US_5_46.980424852273295_-118.1859437695452_16_600.png\n",
      " US_4_34.29070286236522_-106.9256014628645_16_600.png\n",
      " US_3_47.39031094307566_-80.9920299256121_13_600.png\n",
      " US_5_42.19698676932016_-81.73131900684834_16_600.png\n",
      " US_4_47.29428238136259_-111.43562902469873_16_600.png\n",
      " US_2_39.32840671980378_-82.51508090746711_15_600.png\n",
      " US_4_39.459239912702316_-87.31816449879113_15_600.png\n",
      " US_2_32.43355025201006_-99.24849463173878_16_600.png\n",
      " US_4_34.29070286236522_-106.9256014628645_14_600.png\n",
      " US_4_47.29428238136259_-111.43562902469873_14_600.png\n",
      " US_2_36.57250287336959_-112.1243744002766_13_600.png\n",
      " US_4_41.21642954715827_-122.06630348076318_15_600.png\n",
      " US_3_42.98806525060572_-110.44960348626935_13_600.png\n",
      " US_2_32.43355025201006_-99.24849463173878_13_600.png\n",
      " US_5_42.19698676932016_-81.73131900684834_15_600.png\n",
      " US_5_46.980424852273295_-118.1859437695452_13_600.png\n",
      " US_5_51.780354429955324_-112.36480570639523_16_600.png\n",
      " US_5_42.19698676932016_-81.73131900684834_14_600.png\n",
      " US_5_42.19698676932016_-81.73131900684834_13_600.png\n",
      " US_3_53.346343896462706_-116.8038694589654_13_600.png\n",
      " US_3_53.346343896462706_-116.8038694589654_15_600.png\n",
      " US_4_34.29070286236522_-106.9256014628645_13_600.png\n",
      " US_3_35.399516906014156_-86.419580559389_13_600.png\n",
      " US_4_41.21642954715827_-122.06630348076318_14_600.png\n",
      " US_5_46.980424852273295_-118.1859437695452_15_600.png\n",
      " US_2_48.9599419343183_-101.5693035409191_14_600.png\n",
      " US_3_37.66401321425672_-97.21715817753926_15_600.png\n",
      " US_5_51.780354429955324_-112.36480570639523_13_600.png\n",
      "Missing files for 0 metadata:\n"
     ]
    }
   ],
   "source": [
    "missing_metadata, missing_files = ima.get_discrepancies_between_metadata_and_images(images_files, images_metadata)"
   ]
  },
  {
   "cell_type": "markdown",
   "metadata": {},
   "source": [
    "## Delete inconsistencies"
   ]
  },
  {
   "cell_type": "code",
   "execution_count": 45,
   "metadata": {},
   "outputs": [
    {
     "name": "stdout",
     "output_type": "stream",
     "text": [
      "File US_2_33.02613505849492_-95.22068486491332_15_600.png removed!\n",
      "File US_3_37.66401321425672_-97.21715817753926_14_600.png removed!\n",
      "File US_3_35.399516906014156_-86.419580559389_14_600.png removed!\n",
      "File US_3_47.39031094307566_-80.9920299256121_16_600.png removed!\n",
      "File US_4_47.29428238136259_-111.43562902469873_15_600.png removed!\n",
      "File US_3_42.98806525060572_-110.44960348626935_16_600.png removed!\n",
      "File US_2_33.02613505849492_-95.22068486491332_16_600.png removed!\n",
      "File US_5_52.61157891326431_-111.29250648393565_14_600.png removed!\n",
      "File US_4_34.29070286236522_-106.9256014628645_15_600.png removed!\n",
      "File US_2_48.9599419343183_-101.5693035409191_16_600.png removed!\n",
      "File US_3_47.39031094307566_-80.9920299256121_15_600.png removed!\n",
      "File US_2_36.57250287336959_-112.1243744002766_15_600.png removed!\n",
      "File US_3_35.399516906014156_-86.419580559389_15_600.png removed!\n",
      "File US_2_33.02613505849492_-95.22068486491332_13_600.png removed!\n",
      "File US_5_51.780354429955324_-112.36480570639523_14_600.png removed!\n",
      "File US_4_41.21642954715827_-122.06630348076318_16_600.png removed!\n",
      "File US_2_39.32840671980378_-82.51508090746711_14_600.png removed!\n",
      "File US_2_32.43355025201006_-99.24849463173878_14_600.png removed!\n",
      "File US_3_42.98806525060572_-110.44960348626935_15_600.png removed!\n",
      "File US_3_37.66401321425672_-97.21715817753926_16_600.png removed!\n",
      "File US_2_39.32840671980378_-82.51508090746711_13_600.png removed!\n",
      "File US_3_53.346343896462706_-116.8038694589654_14_600.png removed!\n",
      "File US_5_46.980424852273295_-118.1859437695452_14_600.png removed!\n",
      "File US_5_51.780354429955324_-112.36480570639523_15_600.png removed!\n",
      "File US_4_50.76376356968391_-97.791185750363_16_600.png removed!\n",
      "File US_3_35.399516906014156_-86.419580559389_16_600.png removed!\n",
      "File US_5_52.61157891326431_-111.29250648393565_16_600.png removed!\n",
      "File US_3_47.39031094307566_-80.9920299256121_14_600.png removed!\n",
      "File US_2_36.57250287336959_-112.1243744002766_14_600.png removed!\n",
      "File US_5_52.03956254403858_-76.34046752751553_13_600.png removed!\n",
      "File US_4_50.76376356968391_-97.791185750363_15_600.png removed!\n",
      "File US_3_53.346343896462706_-116.8038694589654_16_600.png removed!\n",
      "File US_5_52.03956254403858_-76.34046752751553_14_600.png removed!\n",
      "File US_5_52.03956254403858_-76.34046752751553_15_600.png removed!\n",
      "File US_2_32.43355025201006_-99.24849463173878_15_600.png removed!\n",
      "File US_2_33.02613505849492_-95.22068486491332_14_600.png removed!\n",
      "File US_4_39.459239912702316_-87.31816449879113_13_600.png removed!\n",
      "File US_3_37.66401321425672_-97.21715817753926_13_600.png removed!\n",
      "File US_3_42.98806525060572_-110.44960348626935_14_600.png removed!\n",
      "File US_5_52.61157891326431_-111.29250648393565_15_600.png removed!\n",
      "File US_4_50.76376356968391_-97.791185750363_14_600.png removed!\n",
      "File US_2_39.32840671980378_-82.51508090746711_16_600.png removed!\n",
      "File US_5_52.03956254403858_-76.34046752751553_16_600.png removed!\n",
      "File US_4_39.459239912702316_-87.31816449879113_16_600.png removed!\n",
      "File US_2_48.9599419343183_-101.5693035409191_13_600.png removed!\n",
      "File US_2_48.9599419343183_-101.5693035409191_15_600.png removed!\n",
      "File US_2_36.57250287336959_-112.1243744002766_16_600.png removed!\n",
      "File US_4_41.21642954715827_-122.06630348076318_13_600.png removed!\n",
      "File US_4_39.459239912702316_-87.31816449879113_14_600.png removed!\n",
      "File US_4_47.29428238136259_-111.43562902469873_13_600.png removed!\n",
      "File US_4_50.76376356968391_-97.791185750363_13_600.png removed!\n",
      "File US_5_52.61157891326431_-111.29250648393565_13_600.png removed!\n",
      "File US_5_46.980424852273295_-118.1859437695452_16_600.png removed!\n",
      "File US_4_34.29070286236522_-106.9256014628645_16_600.png removed!\n",
      "File US_3_47.39031094307566_-80.9920299256121_13_600.png removed!\n",
      "File US_5_42.19698676932016_-81.73131900684834_16_600.png removed!\n",
      "File US_4_47.29428238136259_-111.43562902469873_16_600.png removed!\n",
      "File US_2_39.32840671980378_-82.51508090746711_15_600.png removed!\n",
      "File US_4_39.459239912702316_-87.31816449879113_15_600.png removed!\n",
      "File US_2_32.43355025201006_-99.24849463173878_16_600.png removed!\n",
      "File US_4_34.29070286236522_-106.9256014628645_14_600.png removed!\n",
      "File US_4_47.29428238136259_-111.43562902469873_14_600.png removed!\n",
      "File US_2_36.57250287336959_-112.1243744002766_13_600.png removed!\n",
      "File US_4_41.21642954715827_-122.06630348076318_15_600.png removed!\n",
      "File US_3_42.98806525060572_-110.44960348626935_13_600.png removed!\n",
      "File US_2_32.43355025201006_-99.24849463173878_13_600.png removed!\n",
      "File US_5_42.19698676932016_-81.73131900684834_15_600.png removed!\n",
      "File US_5_46.980424852273295_-118.1859437695452_13_600.png removed!\n",
      "File US_5_51.780354429955324_-112.36480570639523_16_600.png removed!\n",
      "File US_5_42.19698676932016_-81.73131900684834_14_600.png removed!\n",
      "File US_5_42.19698676932016_-81.73131900684834_13_600.png removed!\n",
      "File US_3_53.346343896462706_-116.8038694589654_13_600.png removed!\n",
      "File US_3_53.346343896462706_-116.8038694589654_15_600.png removed!\n",
      "File US_4_34.29070286236522_-106.9256014628645_13_600.png removed!\n",
      "File US_3_35.399516906014156_-86.419580559389_13_600.png removed!\n",
      "File US_4_41.21642954715827_-122.06630348076318_14_600.png removed!\n",
      "File US_5_46.980424852273295_-118.1859437695452_15_600.png removed!\n",
      "File US_2_48.9599419343183_-101.5693035409191_14_600.png removed!\n",
      "File US_3_37.66401321425672_-97.21715817753926_15_600.png removed!\n",
      "File US_5_51.780354429955324_-112.36480570639523_13_600.png removed!\n"
     ]
    }
   ],
   "source": [
    "def delete_image_metadata_inconsistencies(db_collection, img_folder, missing_metadata, missing_files):\n",
    "    for file in missing_files:\n",
    "        query = {\"filename\": file}\n",
    "        try:\n",
    "            db_collection.delete_one(query)\n",
    "            print(\"Deleted filename\", file, \"from collection!\")\n",
    "        except:\n",
    "            print(\"Filename\", file, \"not found in collection!\")\n",
    "    for metadata in missing_metadata:\n",
    "        full_filename = img_folder + metadata\n",
    "        try:\n",
    "            os.remove(full_filename)\n",
    "            print(\"File\", metadata, \"removed!\")\n",
    "        except:\n",
    "            print(\"Image\", metadata, \"not found!\")\n",
    "        \n",
    "delete_image_metadata_inconsistencies(images_lib_col, IMG_FOLDER, missing_metadata, missing_files)"
   ]
  },
  {
   "cell_type": "code",
   "execution_count": null,
   "metadata": {},
   "outputs": [],
   "source": []
  },
  {
   "cell_type": "code",
   "execution_count": null,
   "metadata": {},
   "outputs": [],
   "source": []
  },
  {
   "cell_type": "code",
   "execution_count": null,
   "metadata": {},
   "outputs": [],
   "source": []
  }
 ],
 "metadata": {
  "kernelspec": {
   "display_name": "Python 3",
   "language": "python",
   "name": "python3"
  },
  "language_info": {
   "codemirror_mode": {
    "name": "ipython",
    "version": 3
   },
   "file_extension": ".py",
   "mimetype": "text/x-python",
   "name": "python",
   "nbconvert_exporter": "python",
   "pygments_lexer": "ipython3",
   "version": "3.6.8"
  }
 },
 "nbformat": 4,
 "nbformat_minor": 2
}
