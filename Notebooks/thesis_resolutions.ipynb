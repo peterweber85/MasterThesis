{
 "cells": [
  {
   "cell_type": "markdown",
   "metadata": {},
   "source": [
    "# Resolutions\n",
    "\n",
    "Export resolution tables of each dataset to LaTeX"
   ]
  },
  {
   "cell_type": "code",
   "execution_count": 1,
   "metadata": {},
   "outputs": [],
   "source": [
    "tab_filename_formatter = \"../report/Tables/{}.tex\"\n",
    "\n",
    "def export_resolutions_to_latex(base_res, base_size, n_res, fname):\n",
    "    \n",
    "    resolutions = [round(base_res * factor,1) for factor in range(1, n_res)]\n",
    "    sizes = [round(base_size/factor) for factor in range(1, n_res)]\n",
    "    sizes_str = [str(size) + \"x\" + str(size) for size in sizes]\n",
    "    \n",
    "    latex = \"\\\\begin{tabular}{@{\\hskip3pt}r@{\\hskip3pt}|\" + \"@{\\hskip3pt}c@{\\hskip3pt}\"*len(resolutions) + \"}\\n\"\n",
    "    \n",
    "    latex += \"\\\\textbf{resolution (m)}\"\n",
    "    for res in resolutions:\n",
    "        latex += \" & \" + str(res)\n",
    "    latex += \" \\\\\\\\\\n\"\n",
    "    \n",
    "    latex += \"\\\\midrule\\n\"\n",
    "    \n",
    "    latex += \"\\\\textbf{size (pixels)}\"\n",
    "    for size in sizes:\n",
    "        latex += \" & \" + str(size)\n",
    "    latex += \" \\\\\\\\\\n\"\n",
    "    \n",
    "    latex += \"\\\\end{tabular}\\n\"\n",
    "    \n",
    "    with open(fname, \"w\") as f:\n",
    "        f.write(latex)\n",
    "        \n",
    "    return latex"
   ]
  },
  {
   "cell_type": "markdown",
   "metadata": {},
   "source": [
    "### 0.3m dataset"
   ]
  },
  {
   "cell_type": "code",
   "execution_count": 2,
   "metadata": {},
   "outputs": [
    {
     "data": {
      "text/plain": [
       "'\\\\begin{tabular}{@{\\\\hskip3pt}r@{\\\\hskip3pt}|@{\\\\hskip3pt}c@{\\\\hskip3pt}@{\\\\hskip3pt}c@{\\\\hskip3pt}@{\\\\hskip3pt}c@{\\\\hskip3pt}@{\\\\hskip3pt}c@{\\\\hskip3pt}@{\\\\hskip3pt}c@{\\\\hskip3pt}@{\\\\hskip3pt}c@{\\\\hskip3pt}@{\\\\hskip3pt}c@{\\\\hskip3pt}@{\\\\hskip3pt}c@{\\\\hskip3pt}@{\\\\hskip3pt}c@{\\\\hskip3pt}@{\\\\hskip3pt}c@{\\\\hskip3pt}@{\\\\hskip3pt}c@{\\\\hskip3pt}@{\\\\hskip3pt}c@{\\\\hskip3pt}@{\\\\hskip3pt}c@{\\\\hskip3pt}@{\\\\hskip3pt}c@{\\\\hskip3pt}@{\\\\hskip3pt}c@{\\\\hskip3pt}@{\\\\hskip3pt}c@{\\\\hskip3pt}}\\n\\\\textbf{resolution (m)} & 0.3 & 0.6 & 0.9 & 1.2 & 1.5 & 1.8 & 2.1 & 2.4 & 2.7 & 3.0 & 3.3 & 3.6 & 3.9 & 4.2 & 4.5 & 4.8 \\\\\\\\\\n\\\\midrule\\n\\\\textbf{size (pixels)} & 512 & 256 & 171 & 128 & 102 & 85 & 73 & 64 & 57 & 51 & 47 & 43 & 39 & 37 & 34 & 32 \\\\\\\\\\n\\\\end{tabular}\\n'"
      ]
     },
     "execution_count": 2,
     "metadata": {},
     "output_type": "execute_result"
    }
   ],
   "source": [
    "base_res = 0.3\n",
    "base_size = 512\n",
    "n_res = 17\n",
    "fname = tab_filename_formatter.format(\"Ch4_Resolutions_03m\")\n",
    "export_resolutions_to_latex(base_res, base_size, n_res, fname)"
   ]
  },
  {
   "cell_type": "markdown",
   "metadata": {},
   "source": [
    "### 1m dataset"
   ]
  },
  {
   "cell_type": "code",
   "execution_count": 3,
   "metadata": {},
   "outputs": [
    {
     "data": {
      "text/plain": [
       "'\\\\begin{tabular}{@{\\\\hskip3pt}r@{\\\\hskip3pt}|@{\\\\hskip3pt}c@{\\\\hskip3pt}@{\\\\hskip3pt}c@{\\\\hskip3pt}@{\\\\hskip3pt}c@{\\\\hskip3pt}@{\\\\hskip3pt}c@{\\\\hskip3pt}@{\\\\hskip3pt}c@{\\\\hskip3pt}@{\\\\hskip3pt}c@{\\\\hskip3pt}@{\\\\hskip3pt}c@{\\\\hskip3pt}@{\\\\hskip3pt}c@{\\\\hskip3pt}@{\\\\hskip3pt}c@{\\\\hskip3pt}@{\\\\hskip3pt}c@{\\\\hskip3pt}@{\\\\hskip3pt}c@{\\\\hskip3pt}@{\\\\hskip3pt}c@{\\\\hskip3pt}@{\\\\hskip3pt}c@{\\\\hskip3pt}@{\\\\hskip3pt}c@{\\\\hskip3pt}@{\\\\hskip3pt}c@{\\\\hskip3pt}@{\\\\hskip3pt}c@{\\\\hskip3pt}}\\n\\\\textbf{resolution (m)} & 1 & 2 & 3 & 4 & 5 & 6 & 7 & 8 & 9 & 10 & 11 & 12 & 13 & 14 & 15 & 16 \\\\\\\\\\n\\\\midrule\\n\\\\textbf{size (pixels)} & 512 & 256 & 171 & 128 & 102 & 85 & 73 & 64 & 57 & 51 & 47 & 43 & 39 & 37 & 34 & 32 \\\\\\\\\\n\\\\end{tabular}\\n'"
      ]
     },
     "execution_count": 3,
     "metadata": {},
     "output_type": "execute_result"
    }
   ],
   "source": [
    "base_res = 1\n",
    "base_size = 512\n",
    "n_res = 17\n",
    "fname = tab_filename_formatter.format(\"Ch4_Resolutions_1m\")\n",
    "export_resolutions_to_latex(base_res, base_size, n_res, fname)"
   ]
  }
 ],
 "metadata": {
  "kernelspec": {
   "display_name": "Python 3",
   "language": "python",
   "name": "python3"
  },
  "language_info": {
   "codemirror_mode": {
    "name": "ipython",
    "version": 3
   },
   "file_extension": ".py",
   "mimetype": "text/x-python",
   "name": "python",
   "nbconvert_exporter": "python",
   "pygments_lexer": "ipython3",
   "version": "3.6.5"
  }
 },
 "nbformat": 4,
 "nbformat_minor": 2
}
