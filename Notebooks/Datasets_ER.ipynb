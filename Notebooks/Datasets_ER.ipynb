{
 "cells": [
  {
   "cell_type": "markdown",
   "metadata": {},
   "source": [
    "# Dataset"
   ]
  },
  {
   "cell_type": "code",
   "execution_count": 1,
   "metadata": {},
   "outputs": [],
   "source": [
    "from matplotlib import pyplot as plt\n",
    "%matplotlib inline\n",
    "\n",
    "import numpy as np\n",
    "import pandas as pd\n",
    "import sys\n",
    "import os\n",
    "import datetime\n",
    "\n",
    "import altair as alt\n",
    "alt.renderers.enable('notebook')\n",
    "\n",
    "from PIL import Image\n",
    "\n",
    "from dotenv import load_dotenv\n",
    "\n",
    "from sklearn.model_selection import train_test_split\n",
    "from sklearn.metrics import accuracy_score"
   ]
  },
  {
   "cell_type": "code",
   "execution_count": 2,
   "metadata": {},
   "outputs": [
    {
     "name": "stderr",
     "output_type": "stream",
     "text": [
      "/anaconda3/lib/python3.6/site-packages/h5py/__init__.py:36: FutureWarning: Conversion of the second argument of issubdtype from `float` to `np.floating` is deprecated. In future, it will be treated as `np.float64 == np.dtype(float).type`.\n",
      "  from ._conv import register_converters as _register_converters\n",
      "Using TensorFlow backend.\n"
     ]
    }
   ],
   "source": [
    "sys.path.append(\"../Library/\")\n",
    "import deep_learning as dl\n",
    "import image_manipulation as ima\n",
    "import machine_learning as ml"
   ]
  },
  {
   "cell_type": "code",
   "execution_count": 3,
   "metadata": {},
   "outputs": [],
   "source": [
    "%load_ext autoreload\n",
    "%autoreload 2"
   ]
  },
  {
   "cell_type": "code",
   "execution_count": 5,
   "metadata": {},
   "outputs": [],
   "source": [
    "def print_time(string=''):\n",
    "    print('', str(datetime.datetime.today())[:22], string)\n",
    "    return"
   ]
  },
  {
   "cell_type": "code",
   "execution_count": 7,
   "metadata": {},
   "outputs": [],
   "source": [
    "categories = [\"forest-woodland\", \"agriculture\", \"shrubland-grassland\", \"semi-desert\"]\n",
    "labels = [0, 1, 2]"
   ]
  },
  {
   "cell_type": "markdown",
   "metadata": {},
   "source": [
    "## 0.3m"
   ]
  },
  {
   "cell_type": "code",
   "execution_count": 8,
   "metadata": {},
   "outputs": [
    {
     "name": "stdout",
     "output_type": "stream",
     "text": [
      "Shape of df_images: (2220, 5)\n",
      "Distribution of categories and labels:\n",
      "                category  label  counts\n",
      "0           agriculture      0       1\n",
      "1           agriculture      1       1\n",
      "2           agriculture      2     417\n",
      "3       forest-woodland      0     335\n",
      "4       forest-woodland      1      44\n",
      "5       forest-woodland      2     107\n",
      "6           semi-desert      0     304\n",
      "7           semi-desert      1      67\n",
      "8           semi-desert      2     231\n",
      "9   shrubland-grassland      0     415\n",
      "10  shrubland-grassland      1      84\n",
      "11  shrubland-grassland      2     214\n",
      "\n",
      "Distribution of labels:\n",
      "    label  counts\n",
      "0      0    1055\n",
      "1      1     196\n",
      "2      2     969\n"
     ]
    },
    {
     "data": {
      "application/javascript": [
       "var spec = {\"config\": {\"view\": {\"width\": 400, \"height\": 300}}, \"data\": {\"name\": \"data-f40d8e473f048047044970ea7208ad5f\"}, \"mark\": \"bar\", \"encoding\": {\"color\": {\"type\": \"nominal\", \"field\": \"category\"}, \"x\": {\"type\": \"nominal\", \"field\": \"label\"}, \"y\": {\"type\": \"quantitative\", \"field\": \"n_images\"}}, \"width\": 200, \"$schema\": \"https://vega.github.io/schema/vega-lite/v2.6.0.json\", \"datasets\": {\"data-f40d8e473f048047044970ea7208ad5f\": [{\"category\": \"agriculture\", \"label\": 0, \"n_images\": 1}, {\"category\": \"agriculture\", \"label\": 1, \"n_images\": 1}, {\"category\": \"agriculture\", \"label\": 2, \"n_images\": 417}, {\"category\": \"forest-woodland\", \"label\": 0, \"n_images\": 335}, {\"category\": \"forest-woodland\", \"label\": 1, \"n_images\": 44}, {\"category\": \"forest-woodland\", \"label\": 2, \"n_images\": 107}, {\"category\": \"semi-desert\", \"label\": 0, \"n_images\": 304}, {\"category\": \"semi-desert\", \"label\": 1, \"n_images\": 67}, {\"category\": \"semi-desert\", \"label\": 2, \"n_images\": 231}, {\"category\": \"shrubland-grassland\", \"label\": 0, \"n_images\": 415}, {\"category\": \"shrubland-grassland\", \"label\": 1, \"n_images\": 84}, {\"category\": \"shrubland-grassland\", \"label\": 2, \"n_images\": 214}]}};\n",
       "var opt = {};\n",
       "var type = \"vega-lite\";\n",
       "var id = \"548493bc-752e-4e84-aa32-7a91c5cac390\";\n",
       "\n",
       "var output_area = this;\n",
       "\n",
       "require([\"nbextensions/jupyter-vega/index\"], function(vega) {\n",
       "  var target = document.createElement(\"div\");\n",
       "  target.id = id;\n",
       "  target.className = \"vega-embed\";\n",
       "\n",
       "  var style = document.createElement(\"style\");\n",
       "  style.textContent = [\n",
       "    \".vega-embed .error p {\",\n",
       "    \"  color: firebrick;\",\n",
       "    \"  font-size: 14px;\",\n",
       "    \"}\",\n",
       "  ].join(\"\\\\n\");\n",
       "\n",
       "  // element is a jQuery wrapped DOM element inside the output area\n",
       "  // see http://ipython.readthedocs.io/en/stable/api/generated/\\\n",
       "  // IPython.display.html#IPython.display.Javascript.__init__\n",
       "  element[0].appendChild(target);\n",
       "  element[0].appendChild(style);\n",
       "\n",
       "  vega.render(\"#\" + id, spec, type, opt, output_area);\n",
       "}, function (err) {\n",
       "  if (err.requireType !== \"scripterror\") {\n",
       "    throw(err);\n",
       "  }\n",
       "});\n"
      ],
      "text/plain": [
       "<vega.vegalite.VegaLite at 0x1a8e2f7390>"
      ]
     },
     "metadata": {
      "jupyter-vega": "#548493bc-752e-4e84-aa32-7a91c5cac390"
     },
     "output_type": "display_data"
    },
    {
     "data": {
      "text/plain": []
     },
     "execution_count": 8,
     "metadata": {},
     "output_type": "execute_result"
    },
    {
     "data": {
      "image/png": "[encoded data removed]"
     },
     "metadata": {
      "jupyter-vega": "#548493bc-752e-4e84-aa32-7a91c5cac390"
     },
     "output_type": "display_data"
    }
   ],
   "source": [
    "BASE_RES = 0.3\n",
    "base_folder = os.getenv('GDRIVE_FOLDER') + \"MFP - Satellogic/images/usgs_512_res\" + str(BASE_RES) + \"m\"\n",
    "\n",
    "df_images = pd.DataFrame(columns = ['filename', 'image', 'resolution', 'label', 'category'])\n",
    "for category in categories:\n",
    "    for label in labels:\n",
    "        df = ima.load_images_into_df_by_category_and_label(base_folder, category, label)\n",
    "        df_images = df_images.append(df)    \n",
    "\n",
    "print(\"Shape of df_images:\", df_images.shape)\n",
    "print(\"Distribution of categories and labels:\\n\", df_images.groupby(['category', 'label']).size().reset_index(name='counts'))\n",
    "print(\"\\nDistribution of labels:\\n\", df_images.groupby(['label']).size().reset_index(name='counts'))\n",
    "\n",
    "df_images_counts = df_images.groupby(['category', 'label']).size().reset_index(name='n_images')\n",
    "alt.Chart(df_images_counts, width=200).mark_bar().encode(\n",
    "    x='label:N',\n",
    "    y='n_images:Q',\n",
    "    color='category:N'\n",
    ")"
   ]
  },
  {
   "cell_type": "markdown",
   "metadata": {},
   "source": [
    "## 1m"
   ]
  },
  {
   "cell_type": "code",
   "execution_count": 11,
   "metadata": {},
   "outputs": [
    {
     "name": "stdout",
     "output_type": "stream",
     "text": [
      "Shape of df_images: (1366, 5)\n",
      "Distribution of categories and labels:\n",
      "                category  label  counts\n",
      "0           agriculture      0       4\n",
      "1           agriculture      1       2\n",
      "2           agriculture      2     134\n",
      "3       forest-woodland      0     241\n",
      "4       forest-woodland      1      39\n",
      "5       forest-woodland      2     175\n",
      "6           semi-desert      0     248\n",
      "7           semi-desert      1      13\n",
      "8           semi-desert      2     169\n",
      "9   shrubland-grassland      0     174\n",
      "10  shrubland-grassland      2     167\n",
      "\n",
      "Distribution of labels:\n",
      "    label  counts\n",
      "0      0     667\n",
      "1      1      54\n",
      "2      2     645\n"
     ]
    },
    {
     "data": {
      "application/javascript": [
       "var spec = {\"config\": {\"view\": {\"width\": 400, \"height\": 300}}, \"data\": {\"name\": \"data-43e794dace62a852b392fb926a3ecde5\"}, \"mark\": \"bar\", \"encoding\": {\"color\": {\"type\": \"nominal\", \"field\": \"category\"}, \"x\": {\"type\": \"nominal\", \"field\": \"label\"}, \"y\": {\"type\": \"quantitative\", \"field\": \"n_images\"}}, \"width\": 200, \"$schema\": \"https://vega.github.io/schema/vega-lite/v2.6.0.json\", \"datasets\": {\"data-43e794dace62a852b392fb926a3ecde5\": [{\"category\": \"agriculture\", \"label\": 0, \"n_images\": 4}, {\"category\": \"agriculture\", \"label\": 1, \"n_images\": 2}, {\"category\": \"agriculture\", \"label\": 2, \"n_images\": 134}, {\"category\": \"forest-woodland\", \"label\": 0, \"n_images\": 241}, {\"category\": \"forest-woodland\", \"label\": 1, \"n_images\": 39}, {\"category\": \"forest-woodland\", \"label\": 2, \"n_images\": 175}, {\"category\": \"semi-desert\", \"label\": 0, \"n_images\": 248}, {\"category\": \"semi-desert\", \"label\": 1, \"n_images\": 13}, {\"category\": \"semi-desert\", \"label\": 2, \"n_images\": 169}, {\"category\": \"shrubland-grassland\", \"label\": 0, \"n_images\": 174}, {\"category\": \"shrubland-grassland\", \"label\": 2, \"n_images\": 167}]}};\n",
       "var opt = {};\n",
       "var type = \"vega-lite\";\n",
       "var id = \"e19ed7b8-6544-4372-a625-b1d7242c9eff\";\n",
       "\n",
       "var output_area = this;\n",
       "\n",
       "require([\"nbextensions/jupyter-vega/index\"], function(vega) {\n",
       "  var target = document.createElement(\"div\");\n",
       "  target.id = id;\n",
       "  target.className = \"vega-embed\";\n",
       "\n",
       "  var style = document.createElement(\"style\");\n",
       "  style.textContent = [\n",
       "    \".vega-embed .error p {\",\n",
       "    \"  color: firebrick;\",\n",
       "    \"  font-size: 14px;\",\n",
       "    \"}\",\n",
       "  ].join(\"\\\\n\");\n",
       "\n",
       "  // element is a jQuery wrapped DOM element inside the output area\n",
       "  // see http://ipython.readthedocs.io/en/stable/api/generated/\\\n",
       "  // IPython.display.html#IPython.display.Javascript.__init__\n",
       "  element[0].appendChild(target);\n",
       "  element[0].appendChild(style);\n",
       "\n",
       "  vega.render(\"#\" + id, spec, type, opt, output_area);\n",
       "}, function (err) {\n",
       "  if (err.requireType !== \"scripterror\") {\n",
       "    throw(err);\n",
       "  }\n",
       "});\n"
      ],
      "text/plain": [
       "<vega.vegalite.VegaLite at 0x1a95fe0898>"
      ]
     },
     "metadata": {
      "jupyter-vega": "#e19ed7b8-6544-4372-a625-b1d7242c9eff"
     },
     "output_type": "display_data"
    },
    {
     "data": {
      "text/plain": []
     },
     "execution_count": 11,
     "metadata": {},
     "output_type": "execute_result"
    },
    {
     "data": {
      "image/png": "[encoded data removed]"
     },
     "metadata": {
      "jupyter-vega": "#e19ed7b8-6544-4372-a625-b1d7242c9eff"
     },
     "output_type": "display_data"
    }
   ],
   "source": [
    "BASE_RES = 1\n",
    "base_folder = os.getenv('GDRIVE_FOLDER') + \"MFP - Satellogic/images/usgs_512_res\" + str(BASE_RES) + \"m\"\n",
    "\n",
    "df_images = pd.DataFrame(columns = ['filename', 'image', 'resolution', 'label', 'category'])\n",
    "for category in categories:\n",
    "    for label in labels:\n",
    "        df = ima.load_images_into_df_by_category_and_label(base_folder, category, label)\n",
    "        df_images = df_images.append(df)    \n",
    "\n",
    "print(\"Shape of df_images:\", df_images.shape)\n",
    "print(\"Distribution of categories and labels:\\n\", df_images.groupby(['category', 'label']).size().reset_index(name='counts'))\n",
    "print(\"\\nDistribution of labels:\\n\", df_images.groupby(['label']).size().reset_index(name='counts'))\n",
    "\n",
    "df_images_counts = df_images.groupby(['category', 'label']).size().reset_index(name='n_images')\n",
    "alt.Chart(df_images_counts, width=200).mark_bar().encode(\n",
    "    x='label:N',\n",
    "    y='n_images:Q',\n",
    "    color='category:N'\n",
    ")"
   ]
  },
  {
   "cell_type": "markdown",
   "metadata": {},
   "source": [
    "## Matplotlib"
   ]
  },
  {
   "cell_type": "code",
   "execution_count": 36,
   "metadata": {},
   "outputs": [
    {
     "name": "stdout",
     "output_type": "stream",
     "text": [
      "[66, 39, 79]\n",
      "[71, 41, 140]\n"
     ]
    },
    {
     "ename": "IndexError",
     "evalue": "list index out of range",
     "output_type": "error",
     "traceback": [
      "\u001b[0;31m---------------------------------------------------------------------------\u001b[0m",
      "\u001b[0;31mIndexError\u001b[0m                                Traceback (most recent call last)",
      "\u001b[0;32m<ipython-input-36-a91ad30581b0>\u001b[0m in \u001b[0;36m<module>\u001b[0;34m()\u001b[0m\n\u001b[1;32m     10\u001b[0m     \u001b[0mvals\u001b[0m \u001b[0;34m=\u001b[0m \u001b[0mdf_images_counts\u001b[0m\u001b[0;34m[\u001b[0m\u001b[0mdf_images_counts\u001b[0m\u001b[0;34m[\u001b[0m\u001b[0;34m\"category\"\u001b[0m\u001b[0;34m]\u001b[0m \u001b[0;34m==\u001b[0m \u001b[0mcategory\u001b[0m\u001b[0;34m]\u001b[0m\u001b[0;34m[\u001b[0m\u001b[0;34m\"n_images\"\u001b[0m\u001b[0;34m]\u001b[0m\u001b[0;34m.\u001b[0m\u001b[0mtolist\u001b[0m\u001b[0;34m(\u001b[0m\u001b[0;34m)\u001b[0m\u001b[0;34m\u001b[0m\u001b[0m\n\u001b[1;32m     11\u001b[0m     \u001b[0mplt\u001b[0m\u001b[0;34m.\u001b[0m\u001b[0mbar\u001b[0m\u001b[0;34m(\u001b[0m\u001b[0mlabels\u001b[0m\u001b[0;34m,\u001b[0m \u001b[0mvals\u001b[0m\u001b[0;34m,\u001b[0m \u001b[0mwidth\u001b[0m\u001b[0;34m,\u001b[0m \u001b[0mbottom\u001b[0m\u001b[0;34m=\u001b[0m\u001b[0mbottom_vals\u001b[0m\u001b[0;34m,\u001b[0m \u001b[0mlabel\u001b[0m\u001b[0;34m=\u001b[0m\u001b[0mcategory\u001b[0m\u001b[0;34m)\u001b[0m\u001b[0;34m\u001b[0m\u001b[0m\n\u001b[0;32m---> 12\u001b[0;31m     \u001b[0mbottom_vals\u001b[0m \u001b[0;34m=\u001b[0m \u001b[0;34m[\u001b[0m\u001b[0mbottom_vals\u001b[0m\u001b[0;34m[\u001b[0m\u001b[0mi\u001b[0m\u001b[0;34m]\u001b[0m \u001b[0;34m+\u001b[0m \u001b[0mvals\u001b[0m\u001b[0;34m[\u001b[0m\u001b[0mi\u001b[0m\u001b[0;34m]\u001b[0m \u001b[0;32mfor\u001b[0m \u001b[0mi\u001b[0m \u001b[0;32min\u001b[0m \u001b[0mrange\u001b[0m\u001b[0;34m(\u001b[0m\u001b[0mlen\u001b[0m\u001b[0;34m(\u001b[0m\u001b[0mbottom_vals\u001b[0m\u001b[0;34m)\u001b[0m\u001b[0;34m)\u001b[0m\u001b[0;34m]\u001b[0m\u001b[0;34m\u001b[0m\u001b[0m\n\u001b[0m\u001b[1;32m     13\u001b[0m     \u001b[0mprint\u001b[0m\u001b[0;34m(\u001b[0m\u001b[0mbottom_vals\u001b[0m\u001b[0;34m)\u001b[0m\u001b[0;34m\u001b[0m\u001b[0m\n\u001b[1;32m     14\u001b[0m \u001b[0;34m\u001b[0m\u001b[0m\n",
      "\u001b[0;32m<ipython-input-36-a91ad30581b0>\u001b[0m in \u001b[0;36m<listcomp>\u001b[0;34m(.0)\u001b[0m\n\u001b[1;32m     10\u001b[0m     \u001b[0mvals\u001b[0m \u001b[0;34m=\u001b[0m \u001b[0mdf_images_counts\u001b[0m\u001b[0;34m[\u001b[0m\u001b[0mdf_images_counts\u001b[0m\u001b[0;34m[\u001b[0m\u001b[0;34m\"category\"\u001b[0m\u001b[0;34m]\u001b[0m \u001b[0;34m==\u001b[0m \u001b[0mcategory\u001b[0m\u001b[0;34m]\u001b[0m\u001b[0;34m[\u001b[0m\u001b[0;34m\"n_images\"\u001b[0m\u001b[0;34m]\u001b[0m\u001b[0;34m.\u001b[0m\u001b[0mtolist\u001b[0m\u001b[0;34m(\u001b[0m\u001b[0;34m)\u001b[0m\u001b[0;34m\u001b[0m\u001b[0m\n\u001b[1;32m     11\u001b[0m     \u001b[0mplt\u001b[0m\u001b[0;34m.\u001b[0m\u001b[0mbar\u001b[0m\u001b[0;34m(\u001b[0m\u001b[0mlabels\u001b[0m\u001b[0;34m,\u001b[0m \u001b[0mvals\u001b[0m\u001b[0;34m,\u001b[0m \u001b[0mwidth\u001b[0m\u001b[0;34m,\u001b[0m \u001b[0mbottom\u001b[0m\u001b[0;34m=\u001b[0m\u001b[0mbottom_vals\u001b[0m\u001b[0;34m,\u001b[0m \u001b[0mlabel\u001b[0m\u001b[0;34m=\u001b[0m\u001b[0mcategory\u001b[0m\u001b[0;34m)\u001b[0m\u001b[0;34m\u001b[0m\u001b[0m\n\u001b[0;32m---> 12\u001b[0;31m     \u001b[0mbottom_vals\u001b[0m \u001b[0;34m=\u001b[0m \u001b[0;34m[\u001b[0m\u001b[0mbottom_vals\u001b[0m\u001b[0;34m[\u001b[0m\u001b[0mi\u001b[0m\u001b[0;34m]\u001b[0m \u001b[0;34m+\u001b[0m \u001b[0mvals\u001b[0m\u001b[0;34m[\u001b[0m\u001b[0mi\u001b[0m\u001b[0;34m]\u001b[0m \u001b[0;32mfor\u001b[0m \u001b[0mi\u001b[0m \u001b[0;32min\u001b[0m \u001b[0mrange\u001b[0m\u001b[0;34m(\u001b[0m\u001b[0mlen\u001b[0m\u001b[0;34m(\u001b[0m\u001b[0mbottom_vals\u001b[0m\u001b[0;34m)\u001b[0m\u001b[0;34m)\u001b[0m\u001b[0;34m]\u001b[0m\u001b[0;34m\u001b[0m\u001b[0m\n\u001b[0m\u001b[1;32m     13\u001b[0m     \u001b[0mprint\u001b[0m\u001b[0;34m(\u001b[0m\u001b[0mbottom_vals\u001b[0m\u001b[0;34m)\u001b[0m\u001b[0;34m\u001b[0m\u001b[0m\n\u001b[1;32m     14\u001b[0m \u001b[0;34m\u001b[0m\u001b[0m\n",
      "\u001b[0;31mIndexError\u001b[0m: list index out of range"
     ]
    },
    {
     "data": {
      "image/png": "[encoded data removed]",
      "text/plain": [
       "<Figure size 576x360 with 1 Axes>"
      ]
     },
     "metadata": {},
     "output_type": "display_data"
    }
   ],
   "source": [
    "df_images_counts = df_images.groupby(['category', 'label']).size().reset_index(name='n_images')\n",
    "\n",
    "fig, ax = plt.subplots()\n",
    "fig.set_size_inches(8,5)\n",
    "width = 0.3\n",
    "\n",
    "bottom_vals = [0 for x in labels]\n",
    "for category in categories:\n",
    "    labels = df_images_counts[df_images_counts[\"category\"] == category][\"label\"].tolist()\n",
    "    vals = df_images_counts[df_images_counts[\"category\"] == category][\"n_images\"].tolist()\n",
    "    plt.bar(labels, vals, width, bottom=bottom_vals, label=category)\n",
    "    bottom_vals = [bottom_vals[i] + vals[i] for i in range(len(bottom_vals))]\n",
    "    print(bottom_vals)\n",
    "    \n",
    "    \n",
    "ax.set(\n",
    "    xlabel=\"Label\",\n",
    "    ylabel=\"Image count\",\n",
    "    title = \"Dataset balance\"\n",
    ")\n",
    "#ax.grid()\n",
    "ax.legend()\n",
    "\n",
    "plt.show()"
   ]
  }
 ],
 "metadata": {
  "kernelspec": {
   "display_name": "Python 3",
   "language": "python",
   "name": "python3"
  },
  "language_info": {
   "codemirror_mode": {
    "name": "ipython",
    "version": 3
   },
   "file_extension": ".py",
   "mimetype": "text/x-python",
   "name": "python",
   "nbconvert_exporter": "python",
   "pygments_lexer": "ipython3",
   "version": "3.6.5"
  }
 },
 "nbformat": 4,
 "nbformat_minor": 2
}
