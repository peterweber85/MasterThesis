{
 "cells": [
  {
   "cell_type": "markdown",
   "metadata": {},
   "source": [
    "# Image Labeling (Edu)"
   ]
  },
  {
   "cell_type": "markdown",
   "metadata": {},
   "source": [
    "## Imports and Parameters"
   ]
  },
  {
   "cell_type": "code",
   "execution_count": 1,
   "metadata": {},
   "outputs": [],
   "source": [
    "import sys\n",
    "import os\n",
    "import numpy as np\n",
    "import pandas as pd\n",
    "import matplotlib.pyplot as plt\n",
    "import datetime\n",
    "\n",
    "sys.path.append(\"../Library/\")\n",
    "import image_download as imd\n",
    "import image_manipulation as ima\n",
    "import db_connection as dbcon\n",
    "\n",
    "#%matplotlib inline\n",
    "%load_ext autoreload\n",
    "%autoreload 2\n",
    "\n",
    "#from PIL import Image\n",
    "#import imageio\n",
    "#from IPython.display import display, clear_output\n",
    "#\n",
    "#from dotenv import load_dotenv\n",
    "#import os\n",
    "#load_dotenv(\"../.env\")\n",
    "#import csv"
   ]
  },
  {
   "cell_type": "code",
   "execution_count": 2,
   "metadata": {},
   "outputs": [
    {
     "name": "stdout",
     "output_type": "stream",
     "text": [
      "DB Credentials from file\n",
      "DB connected successfully!!!\n"
     ]
    }
   ],
   "source": [
    "# parameters\n",
    "GMAPS_API_KEY = os.getenv('GMAPS_API_KEY')\n",
    "IMG_FOLDER = os.getenv('MFP_IMG_FOLDER')\n",
    "DATASET = 'gmaps'\n",
    "\n",
    "# connect to db\n",
    "db = dbcon.connect(\"../credentials/mlab_db.txt\",\"mfp\")\n",
    "images_lib_col = db[\"images_lib\"]"
   ]
  },
  {
   "cell_type": "markdown",
   "metadata": {},
   "source": [
    "---"
   ]
  },
  {
   "cell_type": "markdown",
   "metadata": {},
   "source": [
    "## Load filenames from DB"
   ]
  },
  {
   "cell_type": "code",
   "execution_count": 10,
   "metadata": {},
   "outputs": [
    {
     "name": "stdout",
     "output_type": "stream",
     "text": [
      "1508 query matches\n",
      "\n",
      "50 images to label:\n",
      "US5_47.59760919737333_-120.89302362280527_13_640.png\n",
      "US5_47.59760919737333_-120.89302362280527_14_640.png\n",
      "US6_40.233726020349536_-104.61811392363397_13_640.png\n",
      "US6_40.233726020349536_-104.61811392363397_14_640.png\n",
      "US6_40.233726020349536_-104.61811392363397_15_640.png\n",
      "US6_40.233726020349536_-104.61811392363397_16_640.png\n",
      "US6_33.250219280026144_-111.99812426877759_13_640.png\n",
      "US6_33.250219280026144_-111.99812426877759_14_640.png\n",
      "US6_33.250219280026144_-111.99812426877759_15_640.png\n",
      "US6_33.250219280026144_-111.99812426877759_16_640.png\n"
     ]
    }
   ],
   "source": [
    "MAX_IMG_TO_LABEL = 50 # limit the images to label\n",
    "\n",
    "query = {\n",
    "    \"$and\" : [\n",
    "        {\"dataset\":DATASET},\n",
    "        {\"label_multi_er\": {\"$exists\": False} },\n",
    "        {\"gist\": {\"$exists\": True} },\n",
    "        #{\"gist\": {\"$exists\": False} }\n",
    "    ]  \n",
    "}\n",
    "\n",
    "images_metadata = [img_metadata for img_metadata in images_lib_col.find(query)]\n",
    "print(len(images_metadata), \"query matches\\n\")\n",
    "\n",
    "images_filenames = [image[\"filename\"] for image in images_metadata[:MAX_IMG_TO_LABEL]]\n",
    "print(len(images_filenames), \"images to label:\")\n",
    "for image in images_filenames[:10]:\n",
    "    print(image)\n",
    "    \n",
    "# Get image info of all the files of area name provided above (filenames, images, np.array)\n",
    "images_info = ima.load_images_from_gdrive(images_filenames, IMG_FOLDER + DATASET + \"/\")"
   ]
  },
  {
   "cell_type": "markdown",
   "metadata": {},
   "source": [
    "## Start labeling app and save csv\n",
    "\n",
    "THIS WILL OPEN AN INTERACTIVE WINDOW FOR LABELLING THE IMAGES!!!\n",
    "\n",
    "* FIRST PUT IN YOUR NAME AND THEN GO AHEAD WITH LABELLING\n",
    "* Click ENTER without input to stop labelling"
   ]
  },
  {
   "cell_type": "code",
   "execution_count": 11,
   "metadata": {},
   "outputs": [
    {
     "name": "stdout",
     "output_type": "stream",
     "text": [
      "DONE!\n",
      "Output file: labels/ER - 2019-03-26 17.06.14.csv\n"
     ]
    }
   ],
   "source": [
    "filename_upload_to_db = 'labels/ER - ' + str(datetime.datetime.today())[:19].replace(':','.') + '.csv'\n",
    "\n",
    "images_info = ima.add_labels_and_save_csv(images_info, IMG_FOLDER, filename_upload_to_db)"
   ]
  },
  {
   "cell_type": "markdown",
   "metadata": {},
   "source": [
    "## Load labels into DB"
   ]
  },
  {
   "cell_type": "code",
   "execution_count": 12,
   "metadata": {},
   "outputs": [
    {
     "name": "stdout",
     "output_type": "stream",
     "text": [
      "loading labels 'label_multi_er' and 'label_binary_er' from file 'labels/ER - 2019-03-26 17.06.14.csv' to db ...\n",
      "50 labels added to db!\n"
     ]
    }
   ],
   "source": [
    "dbcon.write_labels_from_csv_to_db(images_lib_col, IMG_FOLDER, filename_upload_to_db)"
   ]
  },
  {
   "cell_type": "markdown",
   "metadata": {},
   "source": [
    "---"
   ]
  },
  {
   "cell_type": "markdown",
   "metadata": {},
   "source": [
    "## Check labels"
   ]
  },
  {
   "cell_type": "markdown",
   "metadata": {},
   "source": [
    "### Number of labels"
   ]
  },
  {
   "cell_type": "code",
   "execution_count": 9,
   "metadata": {},
   "outputs": [
    {
     "name": "stdout",
     "output_type": "stream",
     "text": [
      "412 query matches\n",
      "\n"
     ]
    }
   ],
   "source": [
    "query = {\n",
    "    \"$and\" : [\n",
    "        #{ \"name\":\"Spain\" },\n",
    "        {\"label_multi_er\": {\"$exists\": True} },\n",
    "        #{\"gist\": {\"$exists\": True} },\n",
    "        #{\"gist\": {\"$exists\": False} }\n",
    "    ]  \n",
    "}\n",
    "\n",
    "images_metadata = [img_metadata for img_metadata in images_lib_col.find(query)]\n",
    "print(len(images_metadata), \"query matches\\n\")"
   ]
  },
  {
   "cell_type": "markdown",
   "metadata": {},
   "source": [
    "### Binary labels"
   ]
  },
  {
   "cell_type": "code",
   "execution_count": 35,
   "metadata": {},
   "outputs": [
    {
     "name": "stdout",
     "output_type": "stream",
     "text": [
      "Barcelona_41.410605353795084_2.256397435446208_15_640.png has label 0\n",
      "Barcelona_41.36939464620492_2.256397435446208_15_640.png has label 0\n",
      "Barcelona_41.32818393861475_2.2014658118154027_15_640.png has label 0\n",
      "Barcelona_41.32818393861475_2.256397435446208_15_640.png has label 0\n",
      "Barcelona_41.4425_2.2596_16_600.png has label 0\n",
      "Barcelona_41.3183_2.3124_13_600.png has label 0\n",
      "Barcelona_41.3183_2.3124_14_600.png has label 0\n",
      "Chicago_42.03925471535533_-87.64353459570675_15_640.png has label 0\n",
      "Chicago_42.03925471535533_-87.58860378712025_15_640.png has label 0\n",
      "Chicago_41.99841823845178_-87.58860378712025_15_640.png has label 0\n",
      "US1_52.20482183860124_-92.48891258998856_13_640.png has label 0\n",
      "US1_52.20482183860124_-92.48891258998856_14_640.png has label 0\n",
      "US1_52.20482183860124_-92.48891258998856_15_640.png has label 0\n",
      "US1_52.20482183860124_-92.48891258998856_16_640.png has label 0\n",
      "US1_33.01060691483008_-118.04101400786547_13_640.png has label 0\n",
      "US2_41.76932454759587_-105.42877312370616_15_640.png has label 0\n",
      "US2_41.76932454759587_-105.42877312370616_16_640.png has label 0\n"
     ]
    }
   ],
   "source": [
    "label_name = 'label_binary_er'\n",
    "query = {label_name: '0'}\n",
    "\n",
    "doc = images_lib_col.find(query)\n",
    "for x in doc:\n",
    "    print(x['filename'], \"has label\", x[label_name])"
   ]
  },
  {
   "cell_type": "code",
   "execution_count": 37,
   "metadata": {
    "scrolled": true
   },
   "outputs": [
    {
     "name": "stdout",
     "output_type": "stream",
     "text": [
      "Andorra la Vella_42.5588_1.5956_13_600.png has label 1\n",
      "Andorra la Vella_42.5588_1.5956_14_600.png has label 1\n",
      "Andorra la Vella_42.5588_1.5956_15_600.png has label 1\n",
      "Andorra la Vella_42.5588_1.5956_16_600.png has label 1\n",
      "Barcelona_41.45181606138525_2.0916025645537917_15_640.png has label 1\n",
      "Barcelona_41.45181606138525_2.146534188184597_15_640.png has label 1\n",
      "Barcelona_41.45181606138525_2.2014658118154027_15_640.png has label 1\n",
      "Barcelona_41.45181606138525_2.256397435446208_15_640.png has label 1\n",
      "Barcelona_41.410605353795084_2.0916025645537917_15_640.png has label 1\n",
      "Barcelona_41.410605353795084_2.146534188184597_15_640.png has label 1\n",
      "Barcelona_41.410605353795084_2.2014658118154027_15_640.png has label 1\n",
      "Barcelona_41.36939464620492_2.0916025645537917_15_640.png has label 1\n",
      "Barcelona_41.36939464620492_2.146534188184597_15_640.png has label 1\n",
      "Barcelona_41.36939464620492_2.2014658118154027_15_640.png has label 1\n",
      "Barcelona_41.32818393861475_2.0916025645537917_15_640.png has label 1\n",
      "Barcelona_41.32818393861475_2.146534188184597_15_640.png has label 1\n",
      "Barcelona_41.293_2.0485_13_600.png has label 1\n",
      "Barcelona_41.293_2.0485_14_600.png has label 1\n",
      "Barcelona_41.293_2.0485_15_600.png has label 1\n",
      "Barcelona_41.293_2.0485_16_600.png has label 1\n",
      "Barcelona_41.4425_2.2596_13_600.png has label 1\n",
      "Barcelona_41.4425_2.2596_14_600.png has label 1\n",
      "Barcelona_41.4425_2.2596_15_600.png has label 1\n",
      "Barcelona_41.5103_2.3198_13_600.png has label 1\n",
      "Barcelona_41.5103_2.3198_14_600.png has label 1\n",
      "Barcelona_41.5103_2.3198_15_600.png has label 1\n",
      "Barcelona_41.5103_2.3198_16_600.png has label 1\n",
      "Barcelona_41.3183_2.3124_15_600.png has label 1\n",
      "Barcelona_41.3183_2.3124_16_600.png has label 1\n",
      "Spain_53.9983_-8.7572_13_600.png has label 1\n",
      "Houston_29.83252964918823_-95.27860457984664_15_640.png has label 1\n",
      "Houston_29.784843216396077_-95.44339542015337_15_640.png has label 1\n",
      "Houston_29.784843216396077_-95.38846514005112_15_640.png has label 1\n",
      "Houston_29.784843216396077_-95.33353485994888_15_640.png has label 1\n",
      "Houston_29.784843216396077_-95.27860457984664_15_640.png has label 1\n",
      "Houston_29.737156783603922_-95.44339542015337_15_640.png has label 1\n",
      "Houston_29.737156783603922_-95.38846514005112_15_640.png has label 1\n",
      "Houston_29.737156783603922_-95.33353485994888_15_640.png has label 1\n",
      "Houston_29.737156783603922_-95.27860457984664_15_640.png has label 1\n",
      "Houston_29.689470350811767_-95.44339542015337_15_640.png has label 1\n",
      "Houston_29.689470350811767_-95.38846514005112_15_640.png has label 1\n",
      "Houston_29.689470350811767_-95.33353485994888_15_640.png has label 1\n",
      "Houston_29.689470350811767_-95.27860457984664_15_640.png has label 1\n",
      "Boston_42.433873846302525_-71.13939792504084_15_640.png has label 1\n",
      "Boston_42.433873846302525_-71.08446597501361_15_640.png has label 1\n",
      "New York_40.74981370793658_-74.07439806792571_15_640.png has label 1\n",
      "New York_40.74981370793658_-74.01946602264191_15_640.png has label 1\n",
      "New York_40.74981370793658_-73.9645339773581_15_640.png has label 1\n",
      "New York_40.74981370793658_-73.9096019320743_15_640.png has label 1\n",
      "New York_40.70818629206342_-74.07439806792571_15_640.png has label 1\n",
      "New York_40.70818629206342_-74.01946602264191_15_640.png has label 1\n",
      "New York_40.70818629206342_-73.9645339773581_15_640.png has label 1\n",
      "New York_40.70818629206342_-73.9096019320743_15_640.png has label 1\n",
      "New York_40.66655887619025_-74.07439806792571_15_640.png has label 1\n",
      "New York_40.66655887619025_-74.01946602264191_15_640.png has label 1\n",
      "New York_40.66655887619025_-73.9645339773581_15_640.png has label 1\n",
      "New York_40.66655887619025_-73.9096019320743_15_640.png has label 1\n",
      "Washington_38.98210844163559_-77.12839793109927_15_640.png has label 1\n",
      "Washington_38.98210844163559_-77.0734659770331_15_640.png has label 1\n",
      "Washington_38.98210844163559_-77.01853402296692_15_640.png has label 1\n",
      "Washington_38.98210844163559_-76.96360206890074_15_640.png has label 1\n",
      "Washington_38.939369480545196_-77.12839793109927_15_640.png has label 1\n",
      "Washington_38.939369480545196_-77.0734659770331_15_640.png has label 1\n",
      "Washington_38.939369480545196_-77.01853402296692_15_640.png has label 1\n",
      "Washington_38.939369480545196_-76.96360206890074_15_640.png has label 1\n",
      "Washington_38.8966305194548_-77.12839793109927_15_640.png has label 1\n",
      "Washington_38.8966305194548_-77.0734659770331_15_640.png has label 1\n",
      "Washington_38.8966305194548_-77.01853402296692_15_640.png has label 1\n",
      "Washington_38.8966305194548_-76.96360206890074_15_640.png has label 1\n",
      "Washington_38.85389155836441_-77.12839793109927_15_640.png has label 1\n",
      "Washington_38.85389155836441_-77.0734659770331_15_640.png has label 1\n",
      "Washington_38.85389155836441_-77.01853402296692_15_640.png has label 1\n",
      "Washington_38.85389155836441_-76.96360206890074_15_640.png has label 1\n",
      "Los Angeles_34.10627952001483_-117.99340098295337_15_640.png has label 1\n",
      "Los Angeles_34.10627952001483_-117.93846699431779_15_640.png has label 1\n",
      "Los Angeles_34.10627952001483_-117.88353300568221_15_640.png has label 1\n",
      "Los Angeles_34.10627952001483_-117.82859901704663_15_640.png has label 1\n",
      "Los Angeles_34.06075984000494_-117.99340098295337_15_640.png has label 1\n",
      "Los Angeles_34.06075984000494_-117.93846699431779_15_640.png has label 1\n",
      "Los Angeles_34.06075984000494_-117.88353300568221_15_640.png has label 1\n",
      "Los Angeles_34.06075984000494_-117.82859901704663_15_640.png has label 1\n",
      "Los Angeles_34.01524015999505_-117.99340098295337_15_640.png has label 1\n",
      "Los Angeles_34.01524015999505_-117.93846699431779_15_640.png has label 1\n",
      "Los Angeles_34.01524015999505_-117.88353300568221_15_640.png has label 1\n",
      "Los Angeles_34.01524015999505_-117.82859901704663_15_640.png has label 1\n",
      "Los Angeles_33.96972047998516_-117.99340098295337_15_640.png has label 1\n",
      "Los Angeles_33.96972047998516_-117.93846699431779_15_640.png has label 1\n",
      "Los Angeles_33.96972047998516_-117.88353300568221_15_640.png has label 1\n",
      "Los Angeles_33.96972047998516_-117.82859901704663_15_640.png has label 1\n",
      "Chicago_42.03925471535533_-87.75339621287976_15_640.png has label 1\n",
      "Chicago_42.03925471535533_-87.69846540429326_15_640.png has label 1\n",
      "Chicago_41.99841823845178_-87.75339621287976_15_640.png has label 1\n",
      "Chicago_41.99841823845178_-87.69846540429326_15_640.png has label 1\n",
      "Chicago_41.99841823845178_-87.64353459570675_15_640.png has label 1\n",
      "Chicago_41.95758176154823_-87.75339621287976_15_640.png has label 1\n",
      "Chicago_41.95758176154823_-87.69846540429326_15_640.png has label 1\n",
      "US1_45.21160965529817_-93.54554509042913_13_640.png has label 1\n",
      "US1_45.21160965529817_-93.54554509042913_14_640.png has label 1\n",
      "US1_45.21160965529817_-93.54554509042913_15_640.png has label 1\n",
      "US1_45.21160965529817_-93.54554509042913_16_640.png has label 1\n",
      "US1_33.01060691483008_-118.04101400786547_14_640.png has label 1\n",
      "US1_33.01060691483008_-118.04101400786547_15_640.png has label 1\n",
      "US1_33.01060691483008_-118.04101400786547_16_640.png has label 1\n",
      "US1_50.53186589235239_-108.35386180596005_13_640.png has label 1\n",
      "US1_50.53186589235239_-108.35386180596005_14_640.png has label 1\n",
      "US1_50.53186589235239_-108.35386180596005_15_640.png has label 1\n",
      "US1_50.53186589235239_-108.35386180596005_16_640.png has label 1\n",
      "US1_45.14093597874625_-101.4861640355236_13_640.png has label 1\n",
      "US1_45.14093597874625_-101.4861640355236_14_640.png has label 1\n",
      "US1_45.14093597874625_-101.4861640355236_15_640.png has label 1\n",
      "US1_45.14093597874625_-101.4861640355236_16_640.png has label 1\n",
      "US2_32.98997192625039_-84.91875948901313_13_640.png has label 1\n",
      "US2_32.98997192625039_-84.91875948901313_14_640.png has label 1\n",
      "US2_32.98997192625039_-84.91875948901313_15_640.png has label 1\n",
      "US2_32.98997192625039_-84.91875948901313_16_640.png has label 1\n",
      "US2_32.73241903193594_-96.09959920826273_13_640.png has label 1\n",
      "US2_32.73241903193594_-96.09959920826273_14_640.png has label 1\n",
      "US2_32.73241903193594_-96.09959920826273_15_640.png has label 1\n",
      "US2_32.73241903193594_-96.09959920826273_16_640.png has label 1\n",
      "US2_41.24686281982255_-121.72391747542048_13_640.png has label 1\n",
      "US2_41.24686281982255_-121.72391747542048_14_640.png has label 1\n",
      "US2_41.24686281982255_-121.72391747542048_15_640.png has label 1\n",
      "US2_41.24686281982255_-121.72391747542048_16_640.png has label 1\n",
      "US2_41.76932454759587_-105.42877312370616_13_640.png has label 1\n",
      "US2_41.76932454759587_-105.42877312370616_14_640.png has label 1\n",
      "US2_38.48142233892045_-101.11610421946183_13_640.png has label 1\n",
      "US2_38.48142233892045_-101.11610421946183_14_640.png has label 1\n",
      "US2_38.48142233892045_-101.11610421946183_15_640.png has label 1\n",
      "US2_38.48142233892045_-101.11610421946183_16_640.png has label 1\n"
     ]
    }
   ],
   "source": [
    "label_name = 'label_binary_er'\n",
    "query = {label_name: '1'}\n",
    "\n",
    "doc = images_lib_col.find(query)\n",
    "for x in doc:\n",
    "    print(x['filename'], \"has label\", x[label_name])"
   ]
  },
  {
   "cell_type": "markdown",
   "metadata": {},
   "source": [
    "### Images to delete"
   ]
  },
  {
   "cell_type": "code",
   "execution_count": 41,
   "metadata": {},
   "outputs": [
    {
     "name": "stdout",
     "output_type": "stream",
     "text": [
      "Images to delete:\n",
      "\n",
      "Barcelona_41.3183_2.3124_15_600.png\n",
      "Barcelona_41.3183_2.3124_16_600.png\n",
      "US1_33.01060691483008_-118.04101400786547_14_640.png\n",
      "US1_33.01060691483008_-118.04101400786547_15_640.png\n",
      "US1_33.01060691483008_-118.04101400786547_16_640.png\n"
     ]
    }
   ],
   "source": [
    "label_name = 'label_multi_er'\n",
    "query = {label_name: '10'}\n",
    "\n",
    "doc = images_lib_col.find(query)\n",
    "print(\"Images to delete:\")\n",
    "print()\n",
    "for x in doc:\n",
    "    print(x['filename'])"
   ]
  },
  {
   "cell_type": "code",
   "execution_count": null,
   "metadata": {},
   "outputs": [],
   "source": []
  }
 ],
 "metadata": {
  "kernelspec": {
   "display_name": "Python 3",
   "language": "python",
   "name": "python3"
  },
  "language_info": {
   "codemirror_mode": {
    "name": "ipython",
    "version": 3
   },
   "file_extension": ".py",
   "mimetype": "text/x-python",
   "name": "python",
   "nbconvert_exporter": "python",
   "pygments_lexer": "ipython3",
   "version": "3.6.5"
  }
 },
 "nbformat": 4,
 "nbformat_minor": 2
}
