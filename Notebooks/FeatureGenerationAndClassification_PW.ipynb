{
 "cells": [
  {
   "cell_type": "code",
   "execution_count": 114,
   "metadata": {},
   "outputs": [
    {
     "name": "stdout",
     "output_type": "stream",
     "text": [
      "The autoreload extension is already loaded. To reload it, use:\n",
      "  %reload_ext autoreload\n"
     ]
    }
   ],
   "source": [
    "import gist ### https://github.com/tuttieee/lear-gist-python\n",
    "\n",
    "from PIL import Image\n",
    "import imageio\n",
    "from IPython.display import display, clear_output\n",
    "\n",
    "import sys\n",
    "sys.path.append(\"../Library/\")\n",
    "import image_download as imd\n",
    "import image_manipulation as ima\n",
    "\n",
    "import numpy as np\n",
    "import pandas as pd\n",
    "import matplotlib.pyplot as plt\n",
    "from dotenv import load_dotenv\n",
    "import os\n",
    "load_dotenv(\"../.env\")\n",
    "import csv\n",
    "\n",
    "import numpy as np\n",
    "import db_connection as dbcon\n",
    "\n",
    "from sklearn.model_selection import train_test_split\n",
    "from sklearn.svm import LinearSVC\n",
    "from sklearn.metrics import accuracy_score\n",
    "\n",
    "\n",
    "#%matplotlib inline\n",
    "%load_ext autoreload\n",
    "%autoreload 2"
   ]
  },
  {
   "cell_type": "markdown",
   "metadata": {},
   "source": [
    "### Set Parameters"
   ]
  },
  {
   "cell_type": "code",
   "execution_count": 115,
   "metadata": {},
   "outputs": [
    {
     "name": "stdout",
     "output_type": "stream",
     "text": [
      "DB Credentials from file\n",
      "DB connected successfully!!!\n",
      "Meters per pixel: 4.12\n",
      "Image size: 2636.76 in meters\n"
     ]
    }
   ],
   "source": [
    "# parameters\n",
    "zoom = 15\n",
    "lat = 30.4131736\n",
    "lon = -87.600026\n",
    "pixels = 640\n",
    "samples_per_location = 1\n",
    "precision = 4\n",
    "num_images = 4\n",
    "GMAPS_API_KEY = os.getenv('GMAPS_API_KEY')\n",
    "IMG_FOLDER = os.getenv('MFP_IMG_FOLDER')\n",
    "\n",
    "# connect to db\n",
    "db = dbcon.connect(\"../credentials/mlab_db.txt\",\"mfp\")\n",
    "images_lib_col = db[\"images_lib\"]\n",
    "\n",
    "# image dimensions\n",
    "meters_per_px = imd.zoom_in_meters_per_pixel(zoom, lat)\n",
    "image_size = meters_per_px*pixels ## in meters\n",
    "\n",
    "print(\"Meters per pixel:\", round(meters_per_px,2))\n",
    "print(\"Image size:\", round(image_size,2), \"in meters\")"
   ]
  },
  {
   "cell_type": "markdown",
   "metadata": {},
   "source": [
    "### Get filenames of labelled images from db"
   ]
  },
  {
   "cell_type": "code",
   "execution_count": 116,
   "metadata": {},
   "outputs": [
    {
     "data": {
      "text/html": [
       "<div>\n",
       "<style scoped>\n",
       "    .dataframe tbody tr th:only-of-type {\n",
       "        vertical-align: middle;\n",
       "    }\n",
       "\n",
       "    .dataframe tbody tr th {\n",
       "        vertical-align: top;\n",
       "    }\n",
       "\n",
       "    .dataframe thead th {\n",
       "        text-align: right;\n",
       "    }\n",
       "</style>\n",
       "<table border=\"1\" class=\"dataframe\">\n",
       "  <thead>\n",
       "    <tr style=\"text-align: right;\">\n",
       "      <th></th>\n",
       "      <th>filename</th>\n",
       "      <th>label</th>\n",
       "      <th>label_multi</th>\n",
       "    </tr>\n",
       "  </thead>\n",
       "  <tbody>\n",
       "    <tr>\n",
       "      <th>0</th>\n",
       "      <td>US1_45.21160965529817_-93.54554509042913_13_64...</td>\n",
       "      <td>1</td>\n",
       "      <td>3</td>\n",
       "    </tr>\n",
       "    <tr>\n",
       "      <th>1</th>\n",
       "      <td>US1_45.21160965529817_-93.54554509042913_14_64...</td>\n",
       "      <td>1</td>\n",
       "      <td>4</td>\n",
       "    </tr>\n",
       "    <tr>\n",
       "      <th>2</th>\n",
       "      <td>US1_45.21160965529817_-93.54554509042913_15_64...</td>\n",
       "      <td>1</td>\n",
       "      <td>3</td>\n",
       "    </tr>\n",
       "    <tr>\n",
       "      <th>3</th>\n",
       "      <td>US1_45.21160965529817_-93.54554509042913_16_64...</td>\n",
       "      <td>1</td>\n",
       "      <td>3</td>\n",
       "    </tr>\n",
       "    <tr>\n",
       "      <th>4</th>\n",
       "      <td>US1_52.20482183860124_-92.48891258998856_13_64...</td>\n",
       "      <td>0</td>\n",
       "      <td>0</td>\n",
       "    </tr>\n",
       "  </tbody>\n",
       "</table>\n",
       "</div>"
      ],
      "text/plain": [
       "                                            filename  label  label_multi\n",
       "0  US1_45.21160965529817_-93.54554509042913_13_64...      1            3\n",
       "1  US1_45.21160965529817_-93.54554509042913_14_64...      1            4\n",
       "2  US1_45.21160965529817_-93.54554509042913_15_64...      1            3\n",
       "3  US1_45.21160965529817_-93.54554509042913_16_64...      1            3\n",
       "4  US1_52.20482183860124_-92.48891258998856_13_64...      0            0"
      ]
     },
     "execution_count": 116,
     "metadata": {},
     "output_type": "execute_result"
    }
   ],
   "source": [
    "labelled_images = dbcon.query_filenames_of_labelled_images(images_lib_col, \"label_binary_pw\")\n",
    "labelled_images[\"label_multi\"] = dbcon.query_filenames_of_labelled_images(images_lib_col, \"label_multi_pw\")[\"label\"]\n",
    "\n",
    "# Convert label to integer\n",
    "labelled_images[\"label\"] = labelled_images[\"label\"].astype(int)\n",
    "labelled_images[\"label_multi\"] = labelled_images[\"label_multi\"].astype(int)\n",
    "\n",
    "# Remove files with label_multi = 10. These are files where Google didn't have an image\n",
    "# at the provided coordinate\n",
    "labelled_images = labelled_images[labelled_images.label_multi <= 4]\n",
    "\n",
    "\n",
    "labelled_images.head()"
   ]
  },
  {
   "cell_type": "markdown",
   "metadata": {},
   "source": [
    "### Load labelled images from Google Drive"
   ]
  },
  {
   "cell_type": "code",
   "execution_count": 117,
   "metadata": {},
   "outputs": [],
   "source": [
    "images_info = ima.load_images_from_gdrive(labelled_images.filename, IMG_FOLDER)"
   ]
  },
  {
   "cell_type": "code",
   "execution_count": 118,
   "metadata": {},
   "outputs": [
    {
     "name": "stdout",
     "output_type": "stream",
     "text": [
      "There are 57 labelled images in the dataset!\n"
     ]
    },
    {
     "data": {
      "text/html": [
       "<div>\n",
       "<style scoped>\n",
       "    .dataframe tbody tr th:only-of-type {\n",
       "        vertical-align: middle;\n",
       "    }\n",
       "\n",
       "    .dataframe tbody tr th {\n",
       "        vertical-align: top;\n",
       "    }\n",
       "\n",
       "    .dataframe thead th {\n",
       "        text-align: right;\n",
       "    }\n",
       "</style>\n",
       "<table border=\"1\" class=\"dataframe\">\n",
       "  <thead>\n",
       "    <tr style=\"text-align: right;\">\n",
       "      <th></th>\n",
       "      <th>filename</th>\n",
       "      <th>label</th>\n",
       "      <th>label_multi</th>\n",
       "      <th>img_array</th>\n",
       "    </tr>\n",
       "  </thead>\n",
       "  <tbody>\n",
       "    <tr>\n",
       "      <th>0</th>\n",
       "      <td>US1_45.21160965529817_-93.54554509042913_13_64...</td>\n",
       "      <td>1</td>\n",
       "      <td>3</td>\n",
       "      <td>[[[42, 57, 41], [20, 40, 24], [12, 36, 20], [1...</td>\n",
       "    </tr>\n",
       "    <tr>\n",
       "      <th>1</th>\n",
       "      <td>US1_45.21160965529817_-93.54554509042913_14_64...</td>\n",
       "      <td>1</td>\n",
       "      <td>4</td>\n",
       "      <td>[[[42, 49, 34], [42, 49, 34], [42, 49, 34], [4...</td>\n",
       "    </tr>\n",
       "    <tr>\n",
       "      <th>2</th>\n",
       "      <td>US1_45.21160965529817_-93.54554509042913_15_64...</td>\n",
       "      <td>1</td>\n",
       "      <td>3</td>\n",
       "      <td>[[[68, 64, 48], [89, 88, 68], [57, 57, 43], [3...</td>\n",
       "    </tr>\n",
       "    <tr>\n",
       "      <th>3</th>\n",
       "      <td>US1_45.21160965529817_-93.54554509042913_16_64...</td>\n",
       "      <td>1</td>\n",
       "      <td>3</td>\n",
       "      <td>[[[70, 68, 59], [70, 68, 59], [93, 89, 82], [9...</td>\n",
       "    </tr>\n",
       "    <tr>\n",
       "      <th>4</th>\n",
       "      <td>US1_52.20482183860124_-92.48891258998856_13_64...</td>\n",
       "      <td>0</td>\n",
       "      <td>0</td>\n",
       "      <td>[[[10, 36, 36], [10, 36, 36], [10, 36, 36], [1...</td>\n",
       "    </tr>\n",
       "  </tbody>\n",
       "</table>\n",
       "</div>"
      ],
      "text/plain": [
       "                                            filename  label  label_multi  \\\n",
       "0  US1_45.21160965529817_-93.54554509042913_13_64...      1            3   \n",
       "1  US1_45.21160965529817_-93.54554509042913_14_64...      1            4   \n",
       "2  US1_45.21160965529817_-93.54554509042913_15_64...      1            3   \n",
       "3  US1_45.21160965529817_-93.54554509042913_16_64...      1            3   \n",
       "4  US1_52.20482183860124_-92.48891258998856_13_64...      0            0   \n",
       "\n",
       "                                           img_array  \n",
       "0  [[[42, 57, 41], [20, 40, 24], [12, 36, 20], [1...  \n",
       "1  [[[42, 49, 34], [42, 49, 34], [42, 49, 34], [4...  \n",
       "2  [[[68, 64, 48], [89, 88, 68], [57, 57, 43], [3...  \n",
       "3  [[[70, 68, 59], [70, 68, 59], [93, 89, 82], [9...  \n",
       "4  [[[10, 36, 36], [10, 36, 36], [10, 36, 36], [1...  "
      ]
     },
     "execution_count": 118,
     "metadata": {},
     "output_type": "execute_result"
    }
   ],
   "source": [
    "# Construct df with np.array of images in one column\n",
    "labelled_images['img_array'] = images_info['array']\n",
    "# Convert label to integer\n",
    "labelled_images[\"label\"] = labelled_images[\"label\"].astype(int)\n",
    "\n",
    "print(\"There are\", labelled_images.shape[0], \"labelled images in the dataset!\")\n",
    "labelled_images.head()"
   ]
  },
  {
   "cell_type": "code",
   "execution_count": 119,
   "metadata": {},
   "outputs": [],
   "source": [
    "# Generate feature vector with gist\n",
    "feature_vector = []\n",
    "for image in labelled_images[\"img_array\"].tolist():\n",
    "    feature_vector.append(gist.extract(image))\n",
    "    \n",
    "feature_matrix = np.array(feature_vector)"
   ]
  },
  {
   "cell_type": "markdown",
   "metadata": {},
   "source": [
    "### Classification on binary label"
   ]
  },
  {
   "cell_type": "code",
   "execution_count": 135,
   "metadata": {},
   "outputs": [],
   "source": [
    "X_train, X_test, y_train, y_test = train_test_split(feature_matrix, labelled_images.label, test_size = 0.25)"
   ]
  },
  {
   "cell_type": "code",
   "execution_count": 136,
   "metadata": {},
   "outputs": [],
   "source": [
    "clf = LinearSVC()# for multi class labels use multi_class=\"crammer_singer\""
   ]
  },
  {
   "cell_type": "code",
   "execution_count": 137,
   "metadata": {},
   "outputs": [
    {
     "data": {
      "text/plain": [
       "LinearSVC(C=1.0, class_weight=None, dual=True, fit_intercept=True,\n",
       "     intercept_scaling=1, loss='squared_hinge', max_iter=1000,\n",
       "     multi_class='ovr', penalty='l2', random_state=None, tol=0.0001,\n",
       "     verbose=0)"
      ]
     },
     "execution_count": 137,
     "metadata": {},
     "output_type": "execute_result"
    }
   ],
   "source": [
    "clf.fit(X_train, y_train)"
   ]
  },
  {
   "cell_type": "code",
   "execution_count": 138,
   "metadata": {},
   "outputs": [],
   "source": [
    "y_pred = clf.predict(X_test)"
   ]
  },
  {
   "cell_type": "code",
   "execution_count": 139,
   "metadata": {},
   "outputs": [
    {
     "data": {
      "text/plain": [
       "0.8666666666666667"
      ]
     },
     "execution_count": 139,
     "metadata": {},
     "output_type": "execute_result"
    }
   ],
   "source": [
    "accuracy_score(y_test, y_pred)"
   ]
  },
  {
   "cell_type": "code",
   "execution_count": null,
   "metadata": {},
   "outputs": [],
   "source": []
  }
 ],
 "metadata": {
  "kernelspec": {
   "display_name": "Python 3",
   "language": "python",
   "name": "python3"
  },
  "language_info": {
   "codemirror_mode": {
    "name": "ipython",
    "version": 3
   },
   "file_extension": ".py",
   "mimetype": "text/x-python",
   "name": "python",
   "nbconvert_exporter": "python",
   "pygments_lexer": "ipython3",
   "version": "3.6.8"
  }
 },
 "nbformat": 4,
 "nbformat_minor": 2
}
