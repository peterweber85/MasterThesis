{
 "cells": [
  {
   "cell_type": "code",
   "execution_count": 1,
   "metadata": {},
   "outputs": [],
   "source": [
    "import sys\n",
    "import os\n",
    "import numpy as np\n",
    "import pandas as pd\n",
    "import matplotlib.pyplot as plt\n",
    "import datetime\n",
    "\n",
    "sys.path.append(\"../Library/\")\n",
    "import image_download as imd\n",
    "import image_manipulation as ima\n",
    "import db_connection as dbcon\n",
    "\n",
    "#%matplotlib inline\n",
    "%load_ext autoreload\n",
    "%autoreload 2"
   ]
  },
  {
   "cell_type": "code",
   "execution_count": 2,
   "metadata": {},
   "outputs": [
    {
     "name": "stdout",
     "output_type": "stream",
     "text": [
      "DB Credentials from file\n",
      "DB connected successfully!!!\n"
     ]
    }
   ],
   "source": [
    "# parameters\n",
    "DATASET = 'gmaps'\n",
    "IMG_FOLDER = os.getenv('MFP_IMG_FOLDER') + DATASET + \"/\"\n",
    "\n",
    "\n",
    "# connect to db\n",
    "db = dbcon.connect(\"../credentials/mlab_db.txt\",\"mfp\")\n",
    "images_lib_col = db[\"images_lib\"]"
   ]
  },
  {
   "cell_type": "code",
   "execution_count": 3,
   "metadata": {
    "scrolled": true
   },
   "outputs": [
    {
     "name": "stdout",
     "output_type": "stream",
     "text": [
      "0 query matches\n",
      "0 documents to update\n"
     ]
    }
   ],
   "source": [
    "MAX_GIST_TO_COMPUTE = 10 # to limit the ouput of the query\n",
    "query = {\n",
    "    \"$and\" : [\n",
    "        #{ \"name\":\"Spain\" },\n",
    "        #{\"gist\": {\"$exists\": True} },\n",
    "        {\"gist\": {\"$exists\": False} }\n",
    "    ]  \n",
    "}\n",
    "images_metadata = [img_metadata for img_metadata in images_lib_col.find(query)]\n",
    "print(len(images_metadata), \"query matches\")\n",
    "\n",
    "images_filenames = [image[\"filename\"] for image in images_metadata[:MAX_GIST_TO_COMPUTE]]\n",
    "print(len(images_filenames), \"documents to update\")\n",
    "for image in images_filenames[:10]:\n",
    "    print(image)"
   ]
  },
  {
   "cell_type": "code",
   "execution_count": 6,
   "metadata": {},
   "outputs": [
    {
     "name": "stdout",
     "output_type": "stream",
     "text": [
      "2 gist values uploaded\n",
      "CPU times: user 2.89 s, sys: 136 ms, total: 3.02 s\n",
      "Wall time: 3.19 s\n"
     ]
    }
   ],
   "source": [
    "%%time\n",
    "gist_uploaded, gist_vectors = ima.gist_calculate_and_load(images_filenames, IMG_FOLDER, images_lib_col)\n",
    "print(gist_uploaded, \"gist values uploaded\")"
   ]
  },
  {
   "cell_type": "code",
   "execution_count": 30,
   "metadata": {},
   "outputs": [
    {
     "name": "stdout",
     "output_type": "stream",
     "text": [
      "0 iteration..\n",
      "7 query matches\n",
      "6 documents to update\n",
      "6 gist values uploaded\n",
      "\n",
      "CPU times: user 8.2 s, sys: 319 ms, total: 8.52 s\n",
      "Wall time: 8.81 s\n"
     ]
    }
   ],
   "source": [
    "%%time\n",
    "\n",
    "N_ITER = 1\n",
    "MAX_GIST_TO_COMPUTE = 10 # to limit the ouput of the query\n",
    "query = {\n",
    "    \"$and\" : [\n",
    "        #{ \"name\":\"Spain\" },\n",
    "        #{\"gist\": {\"$exists\": True} },\n",
    "        {\"gist\": {\"$exists\": False} }\n",
    "    ]  \n",
    "}\n",
    "\n",
    "for i in range(N_ITER):\n",
    "    print(i, \"iteration..\")\n",
    "\n",
    "    images_metadata = [img_metadata for img_metadata in images_lib_col.find(query)]\n",
    "    print(len(images_metadata), \"query matches\")\n",
    "\n",
    "    images_filenames = [image[\"filename\"] for image in images_metadata[:MAX_GIST_TO_COMPUTE]]\n",
    "    print(len(images_filenames), \"documents to update\")\n",
    "    #for image in images_filenames[:10]:\n",
    "    #    print(image)\n",
    "    gist_uploaded, gist_vectors = ima.gist_calculate_and_load(images_filenames, IMG_FOLDER, images_lib_col)\n",
    "    print(gist_uploaded, \"gist values uploaded\")\n",
    "    print()"
   ]
  },
  {
   "cell_type": "code",
   "execution_count": null,
   "metadata": {},
   "outputs": [],
   "source": []
  }
 ],
 "metadata": {
  "kernelspec": {
   "display_name": "Python 3",
   "language": "python",
   "name": "python3"
  },
  "language_info": {
   "codemirror_mode": {
    "name": "ipython",
    "version": 3
   },
   "file_extension": ".py",
   "mimetype": "text/x-python",
   "name": "python",
   "nbconvert_exporter": "python",
   "pygments_lexer": "ipython3",
   "version": "3.6.5"
  }
 },
 "nbformat": 4,
 "nbformat_minor": 2
}
