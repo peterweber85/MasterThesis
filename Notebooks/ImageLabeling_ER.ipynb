{
 "cells": [
  {
   "cell_type": "code",
   "execution_count": 108,
   "metadata": {},
   "outputs": [
    {
     "name": "stdout",
     "output_type": "stream",
     "text": [
      "The autoreload extension is already loaded. To reload it, use:\n",
      "  %reload_ext autoreload\n"
     ]
    }
   ],
   "source": [
    "import gist\n",
    "\n",
    "from PIL import Image\n",
    "import imageio\n",
    "from IPython.display import display, clear_output\n",
    "\n",
    "import sys\n",
    "sys.path.append(\"../Library/\")\n",
    "import image_download as imd\n",
    "import image_manipulation as ima\n",
    "\n",
    "import numpy as np\n",
    "import pandas as pd\n",
    "import matplotlib.pyplot as plt\n",
    "from dotenv import load_dotenv\n",
    "import os\n",
    "load_dotenv(\"../.env\")\n",
    "import csv\n",
    "\n",
    "import numpy as np\n",
    "import db_connection as dbcon\n",
    "\n",
    "#%matplotlib inline\n",
    "%load_ext autoreload\n",
    "%autoreload 2"
   ]
  },
  {
   "cell_type": "markdown",
   "metadata": {},
   "source": [
    "### Set Parameters"
   ]
  },
  {
   "cell_type": "code",
   "execution_count": 109,
   "metadata": {},
   "outputs": [
    {
     "name": "stdout",
     "output_type": "stream",
     "text": [
      "DB Credentials from file\n",
      "DB connected successfully!!!\n"
     ]
    }
   ],
   "source": [
    "# parameters\n",
    "GMAPS_API_KEY = os.getenv('GMAPS_API_KEY')\n",
    "IMG_FOLDER = os.getenv('MFP_IMG_FOLDER')\n",
    "\n",
    "# connect to db\n",
    "db = dbcon.connect(\"../credentials/mlab_db.txt\",\"mfp\")\n",
    "images_lib_col = db[\"images_lib\"]"
   ]
  },
  {
   "cell_type": "markdown",
   "metadata": {},
   "source": [
    "### Load filename to label from query to DB"
   ]
  },
  {
   "cell_type": "code",
   "execution_count": 105,
   "metadata": {},
   "outputs": [
    {
     "name": "stdout",
     "output_type": "stream",
     "text": [
      "Existing images metadata: 20\n"
     ]
    },
    {
     "data": {
      "text/plain": [
       "['US2_32.98997192625039_-84.91875948901313_13_640.png',\n",
       " 'US2_32.98997192625039_-84.91875948901313_14_640.png',\n",
       " 'US2_32.98997192625039_-84.91875948901313_15_640.png',\n",
       " 'US2_32.98997192625039_-84.91875948901313_16_640.png',\n",
       " 'US2_32.73241903193594_-96.09959920826273_13_640.png',\n",
       " 'US2_32.73241903193594_-96.09959920826273_14_640.png',\n",
       " 'US2_32.73241903193594_-96.09959920826273_15_640.png',\n",
       " 'US2_32.73241903193594_-96.09959920826273_16_640.png',\n",
       " 'US2_41.24686281982255_-121.72391747542048_13_640.png',\n",
       " 'US2_41.24686281982255_-121.72391747542048_14_640.png',\n",
       " 'US2_41.24686281982255_-121.72391747542048_15_640.png',\n",
       " 'US2_41.24686281982255_-121.72391747542048_16_640.png',\n",
       " 'US2_41.76932454759587_-105.42877312370616_13_640.png',\n",
       " 'US2_41.76932454759587_-105.42877312370616_14_640.png',\n",
       " 'US2_41.76932454759587_-105.42877312370616_15_640.png',\n",
       " 'US2_41.76932454759587_-105.42877312370616_16_640.png',\n",
       " 'US2_38.48142233892045_-101.11610421946183_13_640.png',\n",
       " 'US2_38.48142233892045_-101.11610421946183_14_640.png',\n",
       " 'US2_38.48142233892045_-101.11610421946183_15_640.png',\n",
       " 'US2_38.48142233892045_-101.11610421946183_16_640.png']"
      ]
     },
     "execution_count": 105,
     "metadata": {},
     "output_type": "execute_result"
    }
   ],
   "source": [
    "query = {\"name\": \"US2\"}\n",
    "fnames = ima.get_metadata_filenames(images_lib_col, query)\n",
    "fnames"
   ]
  },
  {
   "cell_type": "markdown",
   "metadata": {},
   "source": [
    "### Get image info of all the files of area name provided above (filenames, images, np.array)"
   ]
  },
  {
   "cell_type": "code",
   "execution_count": 106,
   "metadata": {},
   "outputs": [],
   "source": [
    "images_info = ima.load_images_from_gdrive(fnames, IMG_FOLDER)"
   ]
  },
  {
   "cell_type": "markdown",
   "metadata": {},
   "source": [
    "### Start labeling app and save csv"
   ]
  },
  {
   "cell_type": "code",
   "execution_count": 107,
   "metadata": {},
   "outputs": [],
   "source": [
    "## !!! THIS WILL OPEN AN INTERACTIVE WINDOW FOR LABELLING THE IMAGES!!!\n",
    "## FIRST PUT IN YOUR NAME AND THEN GO AHEAD WITH LABELLING\n",
    "filename_upload_to_db = 'US2_ER.csv'\n",
    "images_info = ima.add_labels_and_save_csv(images_info, IMG_FOLDER, filename_upload_to_db)"
   ]
  },
  {
   "cell_type": "markdown",
   "metadata": {},
   "source": [
    "### Label images in Database"
   ]
  },
  {
   "cell_type": "code",
   "execution_count": 110,
   "metadata": {},
   "outputs": [
    {
     "name": "stdout",
     "output_type": "stream",
     "text": [
      "loading labels label_multi_er and label_binary_er from file US2_ER.csv to db ...\n",
      "20 labels added to db!\n"
     ]
    }
   ],
   "source": [
    "dbcon.write_labels_from_csv_to_db(images_lib_col, IMG_FOLDER, filename_upload_to_db)"
   ]
  },
  {
   "cell_type": "markdown",
   "metadata": {},
   "source": [
    "### Check binary labels"
   ]
  },
  {
   "cell_type": "code",
   "execution_count": 111,
   "metadata": {},
   "outputs": [
    {
     "name": "stdout",
     "output_type": "stream",
     "text": [
      "US1_52.20482183860124_-92.48891258998856_13_640.png has label 0\n",
      "US1_52.20482183860124_-92.48891258998856_14_640.png has label 0\n",
      "US1_52.20482183860124_-92.48891258998856_15_640.png has label 0\n",
      "US1_52.20482183860124_-92.48891258998856_16_640.png has label 0\n",
      "US1_33.01060691483008_-118.04101400786547_13_640.png has label 0\n",
      "US2_41.76932454759587_-105.42877312370616_14_640.png has label 0\n",
      "US2_41.76932454759587_-105.42877312370616_15_640.png has label 0\n",
      "US2_41.76932454759587_-105.42877312370616_16_640.png has label 0\n"
     ]
    }
   ],
   "source": [
    "label_name = 'label_binary_er'\n",
    "query = {label_name: '0'}\n",
    "\n",
    "doc = images_lib_col.find(query)\n",
    "for x in doc:\n",
    "    print(x['filename'], \"has label\", x[label_name])"
   ]
  },
  {
   "cell_type": "code",
   "execution_count": 112,
   "metadata": {},
   "outputs": [
    {
     "name": "stdout",
     "output_type": "stream",
     "text": [
      "US1_45.21160965529817_-93.54554509042913_13_640.png has label 1\n",
      "US1_45.21160965529817_-93.54554509042913_14_640.png has label 1\n",
      "US1_45.21160965529817_-93.54554509042913_15_640.png has label 1\n",
      "US1_45.21160965529817_-93.54554509042913_16_640.png has label 1\n",
      "US1_33.01060691483008_-118.04101400786547_14_640.png has label 1\n",
      "US1_33.01060691483008_-118.04101400786547_15_640.png has label 1\n",
      "US1_33.01060691483008_-118.04101400786547_16_640.png has label 1\n",
      "US1_50.53186589235239_-108.35386180596005_13_640.png has label 1\n",
      "US1_50.53186589235239_-108.35386180596005_14_640.png has label 1\n",
      "US1_50.53186589235239_-108.35386180596005_15_640.png has label 1\n",
      "US1_50.53186589235239_-108.35386180596005_16_640.png has label 1\n",
      "US1_45.14093597874625_-101.4861640355236_13_640.png has label 1\n",
      "US1_45.14093597874625_-101.4861640355236_14_640.png has label 1\n",
      "US1_45.14093597874625_-101.4861640355236_15_640.png has label 1\n",
      "US1_45.14093597874625_-101.4861640355236_16_640.png has label 1\n",
      "US2_32.98997192625039_-84.91875948901313_13_640.png has label 1\n",
      "US2_32.98997192625039_-84.91875948901313_14_640.png has label 1\n",
      "US2_32.98997192625039_-84.91875948901313_15_640.png has label 1\n",
      "US2_32.98997192625039_-84.91875948901313_16_640.png has label 1\n",
      "US2_32.73241903193594_-96.09959920826273_13_640.png has label 1\n",
      "US2_32.73241903193594_-96.09959920826273_14_640.png has label 1\n",
      "US2_32.73241903193594_-96.09959920826273_15_640.png has label 1\n",
      "US2_32.73241903193594_-96.09959920826273_16_640.png has label 1\n",
      "US2_41.24686281982255_-121.72391747542048_13_640.png has label 1\n",
      "US2_41.24686281982255_-121.72391747542048_14_640.png has label 1\n",
      "US2_41.24686281982255_-121.72391747542048_15_640.png has label 1\n",
      "US2_41.24686281982255_-121.72391747542048_16_640.png has label 1\n",
      "US2_41.76932454759587_-105.42877312370616_13_640.png has label 1\n",
      "US2_38.48142233892045_-101.11610421946183_13_640.png has label 1\n",
      "US2_38.48142233892045_-101.11610421946183_14_640.png has label 1\n",
      "US2_38.48142233892045_-101.11610421946183_15_640.png has label 1\n",
      "US2_38.48142233892045_-101.11610421946183_16_640.png has label 1\n"
     ]
    }
   ],
   "source": [
    "label_name = 'label_binary_er'\n",
    "query = {label_name: '1'}\n",
    "\n",
    "doc = images_lib_col.find(query)\n",
    "for x in doc:\n",
    "    print(x['filename'], \"has label\", x[label_name])"
   ]
  },
  {
   "cell_type": "code",
   "execution_count": null,
   "metadata": {},
   "outputs": [],
   "source": []
  }
 ],
 "metadata": {
  "kernelspec": {
   "display_name": "Python 3",
   "language": "python",
   "name": "python3"
  },
  "language_info": {
   "codemirror_mode": {
    "name": "ipython",
    "version": 3
   },
   "file_extension": ".py",
   "mimetype": "text/x-python",
   "name": "python",
   "nbconvert_exporter": "python",
   "pygments_lexer": "ipython3",
   "version": "3.6.5"
  }
 },
 "nbformat": 4,
 "nbformat_minor": 2
}
