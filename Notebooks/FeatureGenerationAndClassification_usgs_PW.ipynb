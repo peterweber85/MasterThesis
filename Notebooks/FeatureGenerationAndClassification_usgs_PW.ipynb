{
 "cells": [
  {
   "cell_type": "code",
   "execution_count": 177,
   "metadata": {},
   "outputs": [
    {
     "name": "stdout",
     "output_type": "stream",
     "text": [
      "The autoreload extension is already loaded. To reload it, use:\n",
      "  %reload_ext autoreload\n"
     ]
    }
   ],
   "source": [
    "import gist ### https://github.com/tuttieee/lear-gist-python\n",
    "\n",
    "from PIL import Image\n",
    "import imageio\n",
    "from IPython.display import display, clear_output\n",
    "\n",
    "import sys\n",
    "sys.path.append(\"../Library/\")\n",
    "import image_download as imd\n",
    "import image_manipulation as ima\n",
    "\n",
    "import numpy as np\n",
    "import pandas as pd\n",
    "import matplotlib.pyplot as plt\n",
    "from dotenv import load_dotenv\n",
    "import os\n",
    "load_dotenv(\"../.env\")\n",
    "import csv\n",
    "\n",
    "import numpy as np\n",
    "import db_connection as dbcon\n",
    "\n",
    "from sklearn.model_selection import train_test_split\n",
    "from sklearn.svm import LinearSVC\n",
    "from sklearn.metrics import accuracy_score, roc_auc_score\n",
    "\n",
    "\n",
    "#%matplotlib inline\n",
    "%load_ext autoreload\n",
    "%autoreload 2"
   ]
  },
  {
   "cell_type": "markdown",
   "metadata": {},
   "source": [
    "### Parameters"
   ]
  },
  {
   "cell_type": "code",
   "execution_count": 180,
   "metadata": {},
   "outputs": [],
   "source": [
    "# parameters\n",
    "MFP_FOLDER = os.getenv('MFP_FOLDER')\n",
    "EX_FOLDER = MFP_FOLDER + 'earthexplorer/'"
   ]
  },
  {
   "cell_type": "markdown",
   "metadata": {},
   "source": [
    "### Load labeled images "
   ]
  },
  {
   "cell_type": "code",
   "execution_count": 181,
   "metadata": {},
   "outputs": [
    {
     "data": {
      "text/plain": [
       "(190, 2)"
      ]
     },
     "execution_count": 181,
     "metadata": {},
     "output_type": "execute_result"
    }
   ],
   "source": [
    "labels_csv = os.listdir(EX_FOLDER + \"labels\")\n",
    "labels_csv = [label_csv for label_csv in labels_csv if label_csv.startswith(\"labels\")]\n",
    "cols = ['filename', 'label']\n",
    "\n",
    "df_labeled = pd.DataFrame(columns = cols)\n",
    "for fname_csv in labels_csv:\n",
    "    df = pd.read_csv(EX_FOLDER + \"labels/\" + fname_csv)\n",
    "    df_labeled = pd.concat([df_labeled[cols], df[cols]], axis=0)\n",
    "    \n",
    "df_labeled.shape"
   ]
  },
  {
   "cell_type": "code",
   "execution_count": 182,
   "metadata": {},
   "outputs": [],
   "source": [
    "images = []\n",
    "for fname in df_labeled.filename:\n",
    "    imarray = np.asarray(Image.open(EX_FOLDER + \"processedIMG/\"+ fname))[:,:,:3]\n",
    "    images.append(imarray)"
   ]
  },
  {
   "cell_type": "code",
   "execution_count": 183,
   "metadata": {},
   "outputs": [],
   "source": [
    "df_labeled['imarray'] = images"
   ]
  },
  {
   "cell_type": "code",
   "execution_count": 184,
   "metadata": {},
   "outputs": [
    {
     "data": {
      "text/html": [
       "<div>\n",
       "<style scoped>\n",
       "    .dataframe tbody tr th:only-of-type {\n",
       "        vertical-align: middle;\n",
       "    }\n",
       "\n",
       "    .dataframe tbody tr th {\n",
       "        vertical-align: top;\n",
       "    }\n",
       "\n",
       "    .dataframe thead th {\n",
       "        text-align: right;\n",
       "    }\n",
       "</style>\n",
       "<table border=\"1\" class=\"dataframe\">\n",
       "  <thead>\n",
       "    <tr style=\"text-align: right;\">\n",
       "      <th></th>\n",
       "      <th>filename</th>\n",
       "      <th>label</th>\n",
       "      <th>imarray</th>\n",
       "    </tr>\n",
       "  </thead>\n",
       "  <tbody>\n",
       "    <tr>\n",
       "      <th>0</th>\n",
       "      <td>m_4709143_nw_15_1_20171010_x2560_y1024.png</td>\n",
       "      <td>0</td>\n",
       "      <td>[[[54, 69, 48], [69, 106, 58], [64, 83, 56], [...</td>\n",
       "    </tr>\n",
       "    <tr>\n",
       "      <th>1</th>\n",
       "      <td>m_4309736_nw_14_1_20140813_x5632_y4096.png</td>\n",
       "      <td>1</td>\n",
       "      <td>[[[55, 75, 66], [57, 75, 67], [56, 74, 66], [5...</td>\n",
       "    </tr>\n",
       "    <tr>\n",
       "      <th>2</th>\n",
       "      <td>m_4709143_nw_15_1_20171010_x2048_y3584.png</td>\n",
       "      <td>0</td>\n",
       "      <td>[[[78, 81, 65], [53, 54, 50], [52, 60, 51], [9...</td>\n",
       "    </tr>\n",
       "    <tr>\n",
       "      <th>3</th>\n",
       "      <td>m_2608164_sw_17_1_20171210_x2048_y2560.png</td>\n",
       "      <td>0</td>\n",
       "      <td>[[[112, 138, 103], [132, 157, 118], [110, 132,...</td>\n",
       "    </tr>\n",
       "    <tr>\n",
       "      <th>4</th>\n",
       "      <td>m_3409456_ne_15_1_20170914_x0_y512.png</td>\n",
       "      <td>1</td>\n",
       "      <td>[[[164, 159, 117], [158, 155, 115], [162, 157,...</td>\n",
       "    </tr>\n",
       "  </tbody>\n",
       "</table>\n",
       "</div>"
      ],
      "text/plain": [
       "                                     filename label  \\\n",
       "0  m_4709143_nw_15_1_20171010_x2560_y1024.png     0   \n",
       "1  m_4309736_nw_14_1_20140813_x5632_y4096.png     1   \n",
       "2  m_4709143_nw_15_1_20171010_x2048_y3584.png     0   \n",
       "3  m_2608164_sw_17_1_20171210_x2048_y2560.png     0   \n",
       "4      m_3409456_ne_15_1_20170914_x0_y512.png     1   \n",
       "\n",
       "                                             imarray  \n",
       "0  [[[54, 69, 48], [69, 106, 58], [64, 83, 56], [...  \n",
       "1  [[[55, 75, 66], [57, 75, 67], [56, 74, 66], [5...  \n",
       "2  [[[78, 81, 65], [53, 54, 50], [52, 60, 51], [9...  \n",
       "3  [[[112, 138, 103], [132, 157, 118], [110, 132,...  \n",
       "4  [[[164, 159, 117], [158, 155, 115], [162, 157,...  "
      ]
     },
     "execution_count": 184,
     "metadata": {},
     "output_type": "execute_result"
    }
   ],
   "source": [
    "df_labeled.head()"
   ]
  },
  {
   "cell_type": "code",
   "execution_count": 197,
   "metadata": {},
   "outputs": [
    {
     "data": {
      "text/plain": [
       "(190, 60)"
      ]
     },
     "execution_count": 197,
     "metadata": {},
     "output_type": "execute_result"
    }
   ],
   "source": [
    "# Generate feature vector with gist\n",
    "feature_vector = []\n",
    "for image in df_labeled[\"imarray\"].tolist():\n",
    "    feature_vector.append(gist.extract(image, nblocks=1, orientations_per_scale=(8, 8, 4)))\n",
    "    \n",
    "feature_matrix = np.array(feature_vector)\n",
    "feature_matrix.shape"
   ]
  },
  {
   "cell_type": "markdown",
   "metadata": {},
   "source": [
    "### Classification on binary label"
   ]
  },
  {
   "cell_type": "code",
   "execution_count": 222,
   "metadata": {},
   "outputs": [],
   "source": [
    "X_train, X_test, y_train, y_test = train_test_split(feature_matrix, df_labeled.label.tolist(), test_size = 0.1)"
   ]
  },
  {
   "cell_type": "code",
   "execution_count": 223,
   "metadata": {},
   "outputs": [],
   "source": [
    "clf = LinearSVC()# for multi class labels use multi_class=\"crammer_singer\""
   ]
  },
  {
   "cell_type": "code",
   "execution_count": 224,
   "metadata": {},
   "outputs": [
    {
     "data": {
      "text/plain": [
       "LinearSVC(C=1.0, class_weight=None, dual=True, fit_intercept=True,\n",
       "     intercept_scaling=1, loss='squared_hinge', max_iter=1000,\n",
       "     multi_class='ovr', penalty='l2', random_state=None, tol=0.0001,\n",
       "     verbose=0)"
      ]
     },
     "execution_count": 224,
     "metadata": {},
     "output_type": "execute_result"
    }
   ],
   "source": [
    "clf.fit(X_train, y_train)"
   ]
  },
  {
   "cell_type": "code",
   "execution_count": 225,
   "metadata": {},
   "outputs": [],
   "source": [
    "y_pred = clf.predict(X_test)"
   ]
  },
  {
   "cell_type": "code",
   "execution_count": 226,
   "metadata": {},
   "outputs": [
    {
     "data": {
      "text/plain": [
       "0.631578947368421"
      ]
     },
     "execution_count": 226,
     "metadata": {},
     "output_type": "execute_result"
    }
   ],
   "source": [
    "accuracy_score(y_test, y_pred)"
   ]
  },
  {
   "cell_type": "code",
   "execution_count": 227,
   "metadata": {},
   "outputs": [
    {
     "data": {
      "text/plain": [
       "0.7307692307692308"
      ]
     },
     "execution_count": 227,
     "metadata": {},
     "output_type": "execute_result"
    }
   ],
   "source": [
    "roc_auc_score(y_test, y_pred)"
   ]
  },
  {
   "cell_type": "code",
   "execution_count": null,
   "metadata": {},
   "outputs": [],
   "source": []
  }
 ],
 "metadata": {
  "kernelspec": {
   "display_name": "Python 3",
   "language": "python",
   "name": "python3"
  },
  "language_info": {
   "codemirror_mode": {
    "name": "ipython",
    "version": 3
   },
   "file_extension": ".py",
   "mimetype": "text/x-python",
   "name": "python",
   "nbconvert_exporter": "python",
   "pygments_lexer": "ipython3",
   "version": "3.7.3"
  }
 },
 "nbformat": 4,
 "nbformat_minor": 2
}
