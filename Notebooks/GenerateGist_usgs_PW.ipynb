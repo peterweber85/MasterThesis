{
 "cells": [
  {
   "cell_type": "code",
   "execution_count": 2,
   "metadata": {},
   "outputs": [],
   "source": [
    "import gist ### https://github.com/tuttieee/lear-gist-python\n",
    "\n",
    "from PIL import Image\n",
    "import imageio\n",
    "from IPython.display import display, clear_output\n",
    "\n",
    "import sys\n",
    "sys.path.append(\"../Library/\")\n",
    "import image_download as imd\n",
    "import image_manipulation as ima\n",
    "\n",
    "import numpy as np\n",
    "import pandas as pd\n",
    "import matplotlib.pyplot as plt\n",
    "from dotenv import load_dotenv\n",
    "import os\n",
    "load_dotenv(\"../.env\")\n",
    "import csv\n",
    "\n",
    "import numpy as np\n",
    "import db_connection as dbcon\n",
    "\n",
    "from sklearn.model_selection import train_test_split\n",
    "from sklearn.svm import LinearSVC\n",
    "from sklearn.metrics import accuracy_score, roc_auc_score\n",
    "\n",
    "\n",
    "#%matplotlib inline\n",
    "%load_ext autoreload\n",
    "%autoreload 2"
   ]
  },
  {
   "cell_type": "markdown",
   "metadata": {},
   "source": [
    "### Parameters"
   ]
  },
  {
   "cell_type": "code",
   "execution_count": 3,
   "metadata": {},
   "outputs": [],
   "source": [
    "# parameters\n",
    "MFP_FOLDER = os.getenv('MFP_FOLDER')\n",
    "EX_FOLDER = MFP_FOLDER + 'earthexplorer/'"
   ]
  },
  {
   "cell_type": "markdown",
   "metadata": {},
   "source": [
    "### Load all images "
   ]
  },
  {
   "cell_type": "code",
   "execution_count": 7,
   "metadata": {},
   "outputs": [
    {
     "data": {
      "text/plain": [
       "['m_4209830_se_14_1_20140907_x5632_y3584.png',\n",
       " 'm_4709143_nw_15_1_20171010_x1024_y2560.png',\n",
       " 'm_4210155_sw_14_1_20120710_x5120_y4608.png',\n",
       " 'm_3809356_nw_15_1_20140703_x5632_y5120.png',\n",
       " 'm_4210155_sw_14_1_20120710_x0_y4096.png',\n",
       " 'm_4709143_nw_15_1_20171010_x5120_y3072.png',\n",
       " 'm_4709143_nw_15_1_20171010_x6144_y1024.png',\n",
       " 'm_4209830_se_14_1_20140907_x1024_y512.png',\n",
       " 'm_4309736_nw_14_1_20140813_x5632_y3072.png',\n",
       " 'm_4309736_nw_14_1_20140813_x6656_y1024.png']"
      ]
     },
     "execution_count": 7,
     "metadata": {},
     "output_type": "execute_result"
    }
   ],
   "source": [
    "filenames = os.listdir(EX_FOLDER + \"processedIMG/\")\n",
    "filenames = [filename for filename in filenames if filename.startswith(\"m\")]\n",
    "filenames[:10]"
   ]
  },
  {
   "cell_type": "code",
   "execution_count": 8,
   "metadata": {},
   "outputs": [],
   "source": [
    "images = []\n",
    "for fname in filenames:\n",
    "    imarray = np.asarray(Image.open(EX_FOLDER + \"processedIMG/\"+ fname))[:,:,:3]\n",
    "    images.append(imarray)"
   ]
  },
  {
   "cell_type": "code",
   "execution_count": 14,
   "metadata": {},
   "outputs": [],
   "source": [
    "df_images = pd.DataFrame({\n",
    "    'filename': filenames,\n",
    "    'image': images\n",
    "})"
   ]
  },
  {
   "cell_type": "code",
   "execution_count": 15,
   "metadata": {},
   "outputs": [
    {
     "data": {
      "text/html": [
       "<div>\n",
       "<style scoped>\n",
       "    .dataframe tbody tr th:only-of-type {\n",
       "        vertical-align: middle;\n",
       "    }\n",
       "\n",
       "    .dataframe tbody tr th {\n",
       "        vertical-align: top;\n",
       "    }\n",
       "\n",
       "    .dataframe thead th {\n",
       "        text-align: right;\n",
       "    }\n",
       "</style>\n",
       "<table border=\"1\" class=\"dataframe\">\n",
       "  <thead>\n",
       "    <tr style=\"text-align: right;\">\n",
       "      <th></th>\n",
       "      <th>filename</th>\n",
       "      <th>image</th>\n",
       "    </tr>\n",
       "  </thead>\n",
       "  <tbody>\n",
       "    <tr>\n",
       "      <th>0</th>\n",
       "      <td>m_4209830_se_14_1_20140907_x5632_y3584.png</td>\n",
       "      <td>[[[96, 112, 81], [103, 109, 83], [105, 111, 83...</td>\n",
       "    </tr>\n",
       "    <tr>\n",
       "      <th>1</th>\n",
       "      <td>m_4709143_nw_15_1_20171010_x1024_y2560.png</td>\n",
       "      <td>[[[120, 135, 88], [132, 150, 95], [129, 143, 9...</td>\n",
       "    </tr>\n",
       "    <tr>\n",
       "      <th>2</th>\n",
       "      <td>m_4210155_sw_14_1_20120710_x5120_y4608.png</td>\n",
       "      <td>[[[150, 147, 122], [152, 149, 123], [149, 149,...</td>\n",
       "    </tr>\n",
       "    <tr>\n",
       "      <th>3</th>\n",
       "      <td>m_3809356_nw_15_1_20140703_x5632_y5120.png</td>\n",
       "      <td>[[[101, 132, 74], [78, 93, 79], [116, 130, 79]...</td>\n",
       "    </tr>\n",
       "    <tr>\n",
       "      <th>4</th>\n",
       "      <td>m_4210155_sw_14_1_20120710_x0_y4096.png</td>\n",
       "      <td>[[[130, 120, 106], [132, 117, 100], [125, 114,...</td>\n",
       "    </tr>\n",
       "  </tbody>\n",
       "</table>\n",
       "</div>"
      ],
      "text/plain": [
       "                                     filename  \\\n",
       "0  m_4209830_se_14_1_20140907_x5632_y3584.png   \n",
       "1  m_4709143_nw_15_1_20171010_x1024_y2560.png   \n",
       "2  m_4210155_sw_14_1_20120710_x5120_y4608.png   \n",
       "3  m_3809356_nw_15_1_20140703_x5632_y5120.png   \n",
       "4     m_4210155_sw_14_1_20120710_x0_y4096.png   \n",
       "\n",
       "                                               image  \n",
       "0  [[[96, 112, 81], [103, 109, 83], [105, 111, 83...  \n",
       "1  [[[120, 135, 88], [132, 150, 95], [129, 143, 9...  \n",
       "2  [[[150, 147, 122], [152, 149, 123], [149, 149,...  \n",
       "3  [[[101, 132, 74], [78, 93, 79], [116, 130, 79]...  \n",
       "4  [[[130, 120, 106], [132, 117, 100], [125, 114,...  "
      ]
     },
     "execution_count": 15,
     "metadata": {},
     "output_type": "execute_result"
    }
   ],
   "source": [
    "df_images.head()"
   ]
  },
  {
   "cell_type": "code",
   "execution_count": 17,
   "metadata": {},
   "outputs": [
    {
     "data": {
      "text/plain": [
       "(1938, 60)"
      ]
     },
     "execution_count": 17,
     "metadata": {},
     "output_type": "execute_result"
    }
   ],
   "source": [
    "# Generate feature vector with gist\n",
    "feature_vector = []\n",
    "for image in df_images[\"image\"].tolist():\n",
    "    feature_vector.append(gist.extract(image, nblocks=1, orientations_per_scale=(8, 8, 4)))\n",
    "    \n",
    "feature_matrix = np.array(feature_vector)\n",
    "feature_matrix.shape"
   ]
  },
  {
   "cell_type": "code",
   "execution_count": 20,
   "metadata": {},
   "outputs": [],
   "source": [
    "feature_matrix_list = [feature_matrix[row,:] for row in range(feature_matrix.shape[0])]"
   ]
  },
  {
   "cell_type": "code",
   "execution_count": 21,
   "metadata": {},
   "outputs": [],
   "source": [
    "df_images['gist'] = feature_matrix_list"
   ]
  },
  {
   "cell_type": "code",
   "execution_count": 23,
   "metadata": {},
   "outputs": [],
   "source": [
    "df_images.to_csv(EX_FOLDER + \"gist.csv\", index = False)"
   ]
  },
  {
   "cell_type": "code",
   "execution_count": null,
   "metadata": {},
   "outputs": [],
   "source": []
  }
 ],
 "metadata": {
  "kernelspec": {
   "display_name": "Python 3",
   "language": "python",
   "name": "python3"
  },
  "language_info": {
   "codemirror_mode": {
    "name": "ipython",
    "version": 3
   },
   "file_extension": ".py",
   "mimetype": "text/x-python",
   "name": "python",
   "nbconvert_exporter": "python",
   "pygments_lexer": "ipython3",
   "version": "3.6.8"
  }
 },
 "nbformat": 4,
 "nbformat_minor": 2
}
