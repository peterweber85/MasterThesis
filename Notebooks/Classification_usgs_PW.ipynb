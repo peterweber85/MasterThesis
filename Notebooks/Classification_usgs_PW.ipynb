{
 "cells": [
  {
   "cell_type": "code",
   "execution_count": 225,
   "metadata": {},
   "outputs": [
    {
     "name": "stdout",
     "output_type": "stream",
     "text": [
      "The autoreload extension is already loaded. To reload it, use:\n",
      "  %reload_ext autoreload\n"
     ]
    }
   ],
   "source": [
    "import sys\n",
    "import os\n",
    "import numpy as np\n",
    "import pandas as pd\n",
    "import matplotlib.pyplot as plt\n",
    "import datetime\n",
    "\n",
    "from sklearn.feature_extraction.text import HashingVectorizer\n",
    "from sklearn.model_selection import train_test_split\n",
    "from sklearn.preprocessing import StandardScaler\n",
    "from sklearn.naive_bayes import MultinomialNB\n",
    "from sklearn.neighbors import KNeighborsClassifier\n",
    "from sklearn.ensemble import RandomForestClassifier, AdaBoostClassifier\n",
    "from sklearn.linear_model import SGDClassifier, LinearRegression\n",
    "from sklearn.svm import LinearSVC\n",
    "from sklearn.ensemble import RandomForestClassifier\n",
    "from sklearn import metrics\n",
    "\n",
    "sys.path.append(\"../Library/\")\n",
    "import image_download as imd\n",
    "import image_manipulation as ima\n",
    "import db_connection as dbcon\n",
    "import IO as io\n",
    "import machine_learning as ml\n",
    "\n",
    "#%matplotlib inline\n",
    "%load_ext autoreload\n",
    "%autoreload 2"
   ]
  },
  {
   "cell_type": "markdown",
   "metadata": {},
   "source": [
    "### Parameters"
   ]
  },
  {
   "cell_type": "code",
   "execution_count": 58,
   "metadata": {},
   "outputs": [
    {
     "name": "stdout",
     "output_type": "stream",
     "text": [
      "Degraded sizes are [500.0, 300.0, 150.0, 100.0, 59.99999999999999, 29.999999999999996, 20.0, 14.999999999999998, 10.0] pixels. This is rounded to the nearest integer!\n"
     ]
    }
   ],
   "source": [
    "# IMAGE PARAMETERS\n",
    "SIZE = 1000 # in pixels\n",
    "BASE_RESOLUTION = 0.3 # in meter\n",
    "LABELS = [0, 1, 2]\n",
    "\n",
    "# THESE ARE ONLY APPROXIMATE -->  integer(SIZE/DEGRADED_RESOLUTION)\n",
    "DEGRADED_RESOLUTIONS = [0.6, 1, 2, 3, 5, 10, 15, 20, 30] # in meter\n",
    "\n",
    "DEGRADED_SIZES = [SIZE/(res/BASE_RESOLUTION) for res in DEGRADED_RESOLUTIONS]\n",
    "print(\"Degraded sizes are\", DEGRADED_SIZES, \"pixels. This is rounded to the nearest integer!\")\n",
    "# THESE ARE ONLY APPROXIMATE -->  integer(SIZE/DEGRADED_RESOLUTION)\n",
    "\n",
    "# FOLDER PARAMETERS\n",
    "GDRIVE_FOLDER = os.getenv('GDRIVE_FOLDER')\n",
    "RAW_IMAGE_FOLDER = GDRIVE_FOLDER + 'MFP - Satellogic/images/raw_images_usgs_0.3m/'\n",
    "PROCESSED_IMAGE_FOLDER = RAW_IMAGE_FOLDER + 'processed/'\n",
    "MFP_IMG_FOLDER = GDRIVE_FOLDER + 'MFP - Satellogic/images/'\n",
    "CATEGORIES = ['agriculture', 'shrubland-grassland', 'city', 'forest-woodland', 'semi-desert']\n",
    "\n",
    "# Compute more parameters\n",
    "params = {'size': SIZE, 'res': BASE_RESOLUTION, 'res_degr': DEGRADED_RESOLUTIONS}\n",
    "subfolder_size = MFP_IMG_FOLDER + 'usgs_' + str(SIZE) + \"/\"\n",
    "subfolder_base_res = subfolder_size + \"usgs_\" + str(SIZE) + \"_\" + str(BASE_RESOLUTION) + \"m/\""
   ]
  },
  {
   "cell_type": "markdown",
   "metadata": {},
   "source": [
    "### DB connection"
   ]
  },
  {
   "cell_type": "code",
   "execution_count": 86,
   "metadata": {},
   "outputs": [
    {
     "name": "stdout",
     "output_type": "stream",
     "text": [
      "DB Credentials from file\n",
      "DB connected successfully!!!\n"
     ]
    }
   ],
   "source": [
    "db = dbcon.connect(\"../credentials/mlab_db.txt\", \"mfp\")\n",
    "images_usgs_col = db[\"images_lib_usgs\"]"
   ]
  },
  {
   "cell_type": "markdown",
   "metadata": {},
   "source": [
    "### Load csv with labelled images"
   ]
  },
  {
   "cell_type": "code",
   "execution_count": 87,
   "metadata": {},
   "outputs": [],
   "source": [
    "df_labels = pd.DataFrame()\n",
    "for category in CATEGORIES:\n",
    "    df_labels = df_labels.append(pd.read_csv(subfolder_base_res + \"labels-\" + category + \".csv\"))                               "
   ]
  },
  {
   "cell_type": "markdown",
   "metadata": {},
   "source": [
    "### Query GIST"
   ]
  },
  {
   "cell_type": "code",
   "execution_count": 134,
   "metadata": {},
   "outputs": [
    {
     "name": "stdout",
     "output_type": "stream",
     "text": [
      "2858 query matches\n"
     ]
    }
   ],
   "source": [
    "GISTs = ['gist_' + factor for factor in ['0.3', '0_6', '1', '2', '3', '5', '10', '15', '20', '30']]\n",
    "DATASET = 'usgs_res0.3m_size1000'\n",
    "\n",
    "query = {\n",
    "    \"$and\" : [\n",
    "        {\"dataset\":  DATASET},\n",
    "        {\"gist_0_6\": {\"$exists\": True} }\n",
    "    ]  \n",
    "}\n",
    "images_metadata = [img_metadata for img_metadata in images_usgs_col.find(query)]\n",
    "print(len(images_metadata), \"query matches\")"
   ]
  },
  {
   "cell_type": "markdown",
   "metadata": {},
   "source": [
    "### Create DataFrame from GIST"
   ]
  },
  {
   "cell_type": "code",
   "execution_count": 135,
   "metadata": {},
   "outputs": [],
   "source": [
    "def create_df_from_metadata_usgs(metadata, columns):\n",
    "    metadata = [{ column: data[column] for column in columns } for data in metadata]\n",
    "    df = pd.DataFrame(metadata)\n",
    "    return df\n",
    "\n",
    "df_gist = create_df_from_metadata_usgs(images_metadata, ['filename'] + GISTs)"
   ]
  },
  {
   "cell_type": "markdown",
   "metadata": {},
   "source": [
    "### Join GIST with Labels"
   ]
  },
  {
   "cell_type": "code",
   "execution_count": 136,
   "metadata": {},
   "outputs": [],
   "source": [
    "df = df_gist.merge(df_labels, on = \"filename\")"
   ]
  },
  {
   "cell_type": "markdown",
   "metadata": {},
   "source": [
    "### Prepare data for training classifier "
   ]
  },
  {
   "cell_type": "code",
   "execution_count": 251,
   "metadata": {},
   "outputs": [],
   "source": [
    "def df_array(df, gist):\n",
    "    return np.array([row for row in df[gist]])\n",
    "\n",
    "def get_cross_val_accuracy(df, classifier, parameters):\n",
    "\n",
    "    dict_out = {}\n",
    "    dict_out['gist'] = GISTs\n",
    "    dict_out['accuracy'] = []\n",
    "    dict_out['std'] = []\n",
    "    for gist in GISTs:\n",
    "        _, _, mean, std = ml.cross_validate_clf(df_array(df, gist), df.label, classifier, parameters)\n",
    "        dict_out['accuracy'].append(mean)\n",
    "        dict_out['std'].append(std)\n",
    "    return pd.DataFrame(dict_out)\n",
    "\n",
    "def get_confusion_matrix(df, gist_string, test_size, clf, params):\n",
    "    X_train, X_test, y_train, y_test = train_test_split(df_array(df, gist_string), df.label, test_size = test_size)\n",
    "    clf = clf(**params)\n",
    "    clf.fit(X_train, y_train)\n",
    "    y_pred = clf.predict(X_test)\n",
    "    return metrics.confusion_matrix(y_pred, y_test)\n",
    "    "
   ]
  },
  {
   "cell_type": "markdown",
   "metadata": {},
   "source": [
    "### Multi Class Classification"
   ]
  },
  {
   "cell_type": "code",
   "execution_count": 255,
   "metadata": {},
   "outputs": [
    {
     "data": {
      "text/html": [
       "<div>\n",
       "<style scoped>\n",
       "    .dataframe tbody tr th:only-of-type {\n",
       "        vertical-align: middle;\n",
       "    }\n",
       "\n",
       "    .dataframe tbody tr th {\n",
       "        vertical-align: top;\n",
       "    }\n",
       "\n",
       "    .dataframe thead th {\n",
       "        text-align: right;\n",
       "    }\n",
       "</style>\n",
       "<table border=\"1\" class=\"dataframe\">\n",
       "  <thead>\n",
       "    <tr style=\"text-align: right;\">\n",
       "      <th></th>\n",
       "      <th>gist</th>\n",
       "      <th>accuracy</th>\n",
       "      <th>std</th>\n",
       "    </tr>\n",
       "  </thead>\n",
       "  <tbody>\n",
       "    <tr>\n",
       "      <th>0</th>\n",
       "      <td>gist_0.3</td>\n",
       "      <td>0.702662</td>\n",
       "      <td>0.107876</td>\n",
       "    </tr>\n",
       "    <tr>\n",
       "      <th>1</th>\n",
       "      <td>gist_0_6</td>\n",
       "      <td>0.576727</td>\n",
       "      <td>0.112886</td>\n",
       "    </tr>\n",
       "    <tr>\n",
       "      <th>2</th>\n",
       "      <td>gist_1</td>\n",
       "      <td>0.577579</td>\n",
       "      <td>0.106249</td>\n",
       "    </tr>\n",
       "    <tr>\n",
       "      <th>3</th>\n",
       "      <td>gist_2</td>\n",
       "      <td>0.549686</td>\n",
       "      <td>0.121911</td>\n",
       "    </tr>\n",
       "    <tr>\n",
       "      <th>4</th>\n",
       "      <td>gist_3</td>\n",
       "      <td>0.548842</td>\n",
       "      <td>0.121216</td>\n",
       "    </tr>\n",
       "    <tr>\n",
       "      <th>5</th>\n",
       "      <td>gist_5</td>\n",
       "      <td>0.542087</td>\n",
       "      <td>0.119606</td>\n",
       "    </tr>\n",
       "    <tr>\n",
       "      <th>6</th>\n",
       "      <td>gist_10</td>\n",
       "      <td>0.549712</td>\n",
       "      <td>0.099760</td>\n",
       "    </tr>\n",
       "    <tr>\n",
       "      <th>7</th>\n",
       "      <td>gist_15</td>\n",
       "      <td>0.559022</td>\n",
       "      <td>0.083039</td>\n",
       "    </tr>\n",
       "    <tr>\n",
       "      <th>8</th>\n",
       "      <td>gist_20</td>\n",
       "      <td>0.568327</td>\n",
       "      <td>0.071653</td>\n",
       "    </tr>\n",
       "    <tr>\n",
       "      <th>9</th>\n",
       "      <td>gist_30</td>\n",
       "      <td>0.589475</td>\n",
       "      <td>0.043527</td>\n",
       "    </tr>\n",
       "  </tbody>\n",
       "</table>\n",
       "</div>"
      ],
      "text/plain": [
       "       gist  accuracy       std\n",
       "0  gist_0.3  0.702662  0.107876\n",
       "1  gist_0_6  0.576727  0.112886\n",
       "2    gist_1  0.577579  0.106249\n",
       "3    gist_2  0.549686  0.121911\n",
       "4    gist_3  0.548842  0.121216\n",
       "5    gist_5  0.542087  0.119606\n",
       "6   gist_10  0.549712  0.099760\n",
       "7   gist_15  0.559022  0.083039\n",
       "8   gist_20  0.568327  0.071653\n",
       "9   gist_30  0.589475  0.043527"
      ]
     },
     "execution_count": 255,
     "metadata": {},
     "output_type": "execute_result"
    }
   ],
   "source": [
    "params_svm = {\n",
    "    'multi_class': \"crammer_singer\",\n",
    "    'nfold': 10,\n",
    "    'C': 1\n",
    "    }\n",
    "\n",
    "get_cross_val_accuracy(df, LinearSVC, params_svm)"
   ]
  },
  {
   "cell_type": "code",
   "execution_count": 256,
   "metadata": {},
   "outputs": [
    {
     "data": {
      "text/plain": [
       "array([[ 52,  10,   4],\n",
       "       [  0,   0,   0],\n",
       "       [ 38,  34, 218]])"
      ]
     },
     "execution_count": 256,
     "metadata": {},
     "output_type": "execute_result"
    }
   ],
   "source": [
    "# confusion matrix for base resolution\n",
    "get_confusion_matrix(df, 'gist_0.3', 0.3, LinearSVC, params_svm)"
   ]
  },
  {
   "cell_type": "markdown",
   "metadata": {},
   "source": [
    "### Binary Classification encoding 1 as 0"
   ]
  },
  {
   "cell_type": "code",
   "execution_count": 268,
   "metadata": {},
   "outputs": [
    {
     "data": {
      "text/html": [
       "<div>\n",
       "<style scoped>\n",
       "    .dataframe tbody tr th:only-of-type {\n",
       "        vertical-align: middle;\n",
       "    }\n",
       "\n",
       "    .dataframe tbody tr th {\n",
       "        vertical-align: top;\n",
       "    }\n",
       "\n",
       "    .dataframe thead th {\n",
       "        text-align: right;\n",
       "    }\n",
       "</style>\n",
       "<table border=\"1\" class=\"dataframe\">\n",
       "  <thead>\n",
       "    <tr style=\"text-align: right;\">\n",
       "      <th></th>\n",
       "      <th>gist</th>\n",
       "      <th>accuracy</th>\n",
       "      <th>std</th>\n",
       "    </tr>\n",
       "  </thead>\n",
       "  <tbody>\n",
       "    <tr>\n",
       "      <th>0</th>\n",
       "      <td>gist_0.3</td>\n",
       "      <td>0.746756</td>\n",
       "      <td>0.225347</td>\n",
       "    </tr>\n",
       "    <tr>\n",
       "      <th>1</th>\n",
       "      <td>gist_0_6</td>\n",
       "      <td>0.624852</td>\n",
       "      <td>0.131890</td>\n",
       "    </tr>\n",
       "    <tr>\n",
       "      <th>2</th>\n",
       "      <td>gist_1</td>\n",
       "      <td>0.629915</td>\n",
       "      <td>0.136681</td>\n",
       "    </tr>\n",
       "    <tr>\n",
       "      <th>3</th>\n",
       "      <td>gist_2</td>\n",
       "      <td>0.645974</td>\n",
       "      <td>0.125334</td>\n",
       "    </tr>\n",
       "    <tr>\n",
       "      <th>4</th>\n",
       "      <td>gist_3</td>\n",
       "      <td>0.640920</td>\n",
       "      <td>0.112455</td>\n",
       "    </tr>\n",
       "    <tr>\n",
       "      <th>5</th>\n",
       "      <td>gist_5</td>\n",
       "      <td>0.635055</td>\n",
       "      <td>0.081383</td>\n",
       "    </tr>\n",
       "    <tr>\n",
       "      <th>6</th>\n",
       "      <td>gist_10</td>\n",
       "      <td>0.613134</td>\n",
       "      <td>0.055843</td>\n",
       "    </tr>\n",
       "    <tr>\n",
       "      <th>7</th>\n",
       "      <td>gist_15</td>\n",
       "      <td>0.622427</td>\n",
       "      <td>0.041066</td>\n",
       "    </tr>\n",
       "    <tr>\n",
       "      <th>8</th>\n",
       "      <td>gist_20</td>\n",
       "      <td>0.628349</td>\n",
       "      <td>0.036265</td>\n",
       "    </tr>\n",
       "    <tr>\n",
       "      <th>9</th>\n",
       "      <td>gist_30</td>\n",
       "      <td>0.633404</td>\n",
       "      <td>0.044210</td>\n",
       "    </tr>\n",
       "  </tbody>\n",
       "</table>\n",
       "</div>"
      ],
      "text/plain": [
       "       gist  accuracy       std\n",
       "0  gist_0.3  0.746756  0.225347\n",
       "1  gist_0_6  0.624852  0.131890\n",
       "2    gist_1  0.629915  0.136681\n",
       "3    gist_2  0.645974  0.125334\n",
       "4    gist_3  0.640920  0.112455\n",
       "5    gist_5  0.635055  0.081383\n",
       "6   gist_10  0.613134  0.055843\n",
       "7   gist_15  0.622427  0.041066\n",
       "8   gist_20  0.628349  0.036265\n",
       "9   gist_30  0.633404  0.044210"
      ]
     },
     "execution_count": 268,
     "metadata": {},
     "output_type": "execute_result"
    }
   ],
   "source": [
    "def zero_encoding(x):\n",
    "    if x == 0: return 0\n",
    "    if x == 1: return 0\n",
    "    if x == 2: return 1\n",
    "    \n",
    "def two_encoding(x):\n",
    "    if x == 0: return 0\n",
    "    if x == 1: return 1\n",
    "    if x == 2: return 1\n",
    "    \n",
    "def convert_encoding(y, encoding):\n",
    "    y = [encoding(el) for el in y]\n",
    "    return y\n",
    "    \n",
    "X0 = df.copy()\n",
    "X0.label = convert_encoding(X0.label, zero_encoding)\n",
    "\n",
    "params_svm = {\n",
    "    'nfold': 10,\n",
    "    'C': 1 \n",
    "}\n",
    "\n",
    "get_cross_val_accuracy(X0, LinearSVC, params_svm)"
   ]
  },
  {
   "cell_type": "code",
   "execution_count": 273,
   "metadata": {},
   "outputs": [
    {
     "data": {
      "text/plain": [
       "array([[ 47,  17],\n",
       "       [ 34, 139]])"
      ]
     },
     "execution_count": 273,
     "metadata": {},
     "output_type": "execute_result"
    }
   ],
   "source": [
    "# confusion matrix for base resolution\n",
    "get_confusion_matrix(X0, 'gist_0.3', 0.2, LinearSVC, params_svm)"
   ]
  },
  {
   "cell_type": "code",
   "execution_count": 274,
   "metadata": {},
   "outputs": [
    {
     "data": {
      "text/plain": [
       "array([[ 60,  18],\n",
       "       [ 39, 120]])"
      ]
     },
     "execution_count": 274,
     "metadata": {},
     "output_type": "execute_result"
    }
   ],
   "source": [
    "# confusion matrix for base resolution\n",
    "get_confusion_matrix(X0, 'gist_0_6', 0.2, LinearSVC, params_svm)"
   ]
  },
  {
   "cell_type": "markdown",
   "metadata": {},
   "source": [
    "### Binary Classification encoding 1 as 2"
   ]
  },
  {
   "cell_type": "code",
   "execution_count": 275,
   "metadata": {},
   "outputs": [
    {
     "data": {
      "text/html": [
       "<div>\n",
       "<style scoped>\n",
       "    .dataframe tbody tr th:only-of-type {\n",
       "        vertical-align: middle;\n",
       "    }\n",
       "\n",
       "    .dataframe tbody tr th {\n",
       "        vertical-align: top;\n",
       "    }\n",
       "\n",
       "    .dataframe thead th {\n",
       "        text-align: right;\n",
       "    }\n",
       "</style>\n",
       "<table border=\"1\" class=\"dataframe\">\n",
       "  <thead>\n",
       "    <tr style=\"text-align: right;\">\n",
       "      <th></th>\n",
       "      <th>gist</th>\n",
       "      <th>accuracy</th>\n",
       "      <th>std</th>\n",
       "    </tr>\n",
       "  </thead>\n",
       "  <tbody>\n",
       "    <tr>\n",
       "      <th>0</th>\n",
       "      <td>gist_0.3</td>\n",
       "      <td>0.805291</td>\n",
       "      <td>0.145574</td>\n",
       "    </tr>\n",
       "    <tr>\n",
       "      <th>1</th>\n",
       "      <td>gist_0_6</td>\n",
       "      <td>0.769350</td>\n",
       "      <td>0.066025</td>\n",
       "    </tr>\n",
       "    <tr>\n",
       "      <th>2</th>\n",
       "      <td>gist_1</td>\n",
       "      <td>0.776947</td>\n",
       "      <td>0.068394</td>\n",
       "    </tr>\n",
       "    <tr>\n",
       "      <th>3</th>\n",
       "      <td>gist_2</td>\n",
       "      <td>0.713577</td>\n",
       "      <td>0.088262</td>\n",
       "    </tr>\n",
       "    <tr>\n",
       "      <th>4</th>\n",
       "      <td>gist_3</td>\n",
       "      <td>0.700056</td>\n",
       "      <td>0.094889</td>\n",
       "    </tr>\n",
       "    <tr>\n",
       "      <th>5</th>\n",
       "      <td>gist_5</td>\n",
       "      <td>0.709366</td>\n",
       "      <td>0.078161</td>\n",
       "    </tr>\n",
       "    <tr>\n",
       "      <th>6</th>\n",
       "      <td>gist_10</td>\n",
       "      <td>0.716145</td>\n",
       "      <td>0.059523</td>\n",
       "    </tr>\n",
       "    <tr>\n",
       "      <th>7</th>\n",
       "      <td>gist_15</td>\n",
       "      <td>0.710227</td>\n",
       "      <td>0.064311</td>\n",
       "    </tr>\n",
       "    <tr>\n",
       "      <th>8</th>\n",
       "      <td>gist_20</td>\n",
       "      <td>0.718685</td>\n",
       "      <td>0.054171</td>\n",
       "    </tr>\n",
       "    <tr>\n",
       "      <th>9</th>\n",
       "      <td>gist_30</td>\n",
       "      <td>0.717837</td>\n",
       "      <td>0.057130</td>\n",
       "    </tr>\n",
       "  </tbody>\n",
       "</table>\n",
       "</div>"
      ],
      "text/plain": [
       "       gist  accuracy       std\n",
       "0  gist_0.3  0.805291  0.145574\n",
       "1  gist_0_6  0.769350  0.066025\n",
       "2    gist_1  0.776947  0.068394\n",
       "3    gist_2  0.713577  0.088262\n",
       "4    gist_3  0.700056  0.094889\n",
       "5    gist_5  0.709366  0.078161\n",
       "6   gist_10  0.716145  0.059523\n",
       "7   gist_15  0.710227  0.064311\n",
       "8   gist_20  0.718685  0.054171\n",
       "9   gist_30  0.717837  0.057130"
      ]
     },
     "execution_count": 275,
     "metadata": {},
     "output_type": "execute_result"
    }
   ],
   "source": [
    "X2 = df.copy()\n",
    "X2.label = convert_encoding(X2.label, two_encoding)\n",
    "\n",
    "params_svm = {\n",
    "    'nfold': 10,\n",
    "    'C': 1 \n",
    "}\n",
    "\n",
    "get_cross_val_accuracy(X2, LinearSVC, params_svm)"
   ]
  },
  {
   "cell_type": "code",
   "execution_count": 276,
   "metadata": {},
   "outputs": [
    {
     "data": {
      "text/plain": [
       "array([[ 23,  15],\n",
       "       [ 29, 170]])"
      ]
     },
     "execution_count": 276,
     "metadata": {},
     "output_type": "execute_result"
    }
   ],
   "source": [
    "# confusion matrix for base resolution\n",
    "get_confusion_matrix(X2, 'gist_0.3', 0.2, LinearSVC, params_svm)"
   ]
  },
  {
   "cell_type": "code",
   "execution_count": 277,
   "metadata": {},
   "outputs": [
    {
     "data": {
      "text/plain": [
       "array([[ 34,  10],\n",
       "       [ 25, 168]])"
      ]
     },
     "execution_count": 277,
     "metadata": {},
     "output_type": "execute_result"
    }
   ],
   "source": [
    "# confusion matrix for base resolution\n",
    "get_confusion_matrix(X2, 'gist_0_6', 0.2, LinearSVC, params_svm)"
   ]
  },
  {
   "cell_type": "code",
   "execution_count": null,
   "metadata": {},
   "outputs": [],
   "source": []
  }
 ],
 "metadata": {
  "kernelspec": {
   "display_name": "Python 3",
   "language": "python",
   "name": "python3"
  },
  "language_info": {
   "codemirror_mode": {
    "name": "ipython",
    "version": 3
   },
   "file_extension": ".py",
   "mimetype": "text/x-python",
   "name": "python",
   "nbconvert_exporter": "python",
   "pygments_lexer": "ipython3",
   "version": "3.6.8"
  }
 },
 "nbformat": 4,
 "nbformat_minor": 2
}
