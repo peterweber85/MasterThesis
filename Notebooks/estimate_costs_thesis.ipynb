{
 "cells": [
  {
   "cell_type": "markdown",
   "metadata": {},
   "source": [
    "# Satellite and Data Processing Cost Estimation"
   ]
  },
  {
   "cell_type": "code",
   "execution_count": 157,
   "metadata": {},
   "outputs": [
    {
     "name": "stdout",
     "output_type": "stream",
     "text": [
      "The autoreload extension is already loaded. To reload it, use:\n",
      "  %reload_ext autoreload\n"
     ]
    }
   ],
   "source": [
    "import os\n",
    "import time\n",
    "import sys\n",
    "sys.path.append(\"../Library/\")\n",
    "\n",
    "import numpy as np\n",
    "\n",
    "from dotenv import load_dotenv\n",
    "load_dotenv(\"../.env\")\n",
    "\n",
    "%matplotlib inline\n",
    "%load_ext autoreload\n",
    "%autoreload 2\n",
    "\n",
    "from matplotlib import pyplot as plt\n",
    "\n",
    "import image_manipulation as ima\n",
    "import deep_learning as dl\n",
    "import machine_learning as ml\n",
    "\n",
    "from keras.applications.resnet50 import ResNet50, preprocess_input\n",
    "from keras.models import Model"
   ]
  },
  {
   "cell_type": "markdown",
   "metadata": {},
   "source": [
    "# Parameters"
   ]
  },
  {
   "cell_type": "code",
   "execution_count": 3,
   "metadata": {},
   "outputs": [],
   "source": [
    "FOLDS = 8\n",
    "RESOLUTION = 1 # in meter\n",
    "\n",
    "GIT_FOLDER = os.getenv('GIT_FOLDER')\n",
    "MODELS_FOLDER = os.path.join(GIT_FOLDER, \"Models\")\n",
    "\n",
    "GDRIVE_FOLDER = os.getenv('GDRIVE_FOLDER')\n",
    "IMAGE_FOLDER = os.path.join(GDRIVE_FOLDER,'MFP - Satellogic/images/usgs_512_res1m/agriculture')\n",
    "\n",
    "FNAMES = ['m_3409456_ne_15_1_20170914_x211_y654_size512_baseres1m.png',\n",
    "         'm_3409456_ne_15_1_20170914_x211_y3726_size512_baseres1m.png',\n",
    "         'm_3409456_ne_15_1_20170914_x211_y4238_size512_baseres1m.png',\n",
    "         'm_3409456_ne_15_1_20170914_x211_y4750_size512_baseres1m.png']"
   ]
  },
  {
   "cell_type": "markdown",
   "metadata": {},
   "source": [
    "# Load pretrained ResNet\n",
    "We are loading the pretrained ResNet in order to calculate the last layer activations from the test images, which are then fed into the algorithm trained with 8-fold cross validation. "
   ]
  },
  {
   "cell_type": "code",
   "execution_count": 24,
   "metadata": {},
   "outputs": [],
   "source": [
    "base_model = ResNet50(weights='imagenet',\n",
    "                      include_top=False)"
   ]
  },
  {
   "cell_type": "markdown",
   "metadata": {},
   "source": [
    "Getting the names of the ResNet layers in order to provide the name of the last layer to the function extracting the activation."
   ]
  },
  {
   "cell_type": "code",
   "execution_count": 25,
   "metadata": {},
   "outputs": [],
   "source": [
    "activation_layers = []\n",
    "for l in base_model.layers:\n",
    "    l.trainable = False\n",
    "    if \"activation\" in l.name or \"relu\" in l.name:\n",
    "        activation_layers.append(l.name)"
   ]
  },
  {
   "cell_type": "markdown",
   "metadata": {},
   "source": [
    "## Load models of fully connected neural nets trained with 8-fold CV and Resnet activations"
   ]
  },
  {
   "cell_type": "code",
   "execution_count": 6,
   "metadata": {},
   "outputs": [],
   "source": [
    "models = ml.load_ensemble_models(MODELS_FOLDER, RESOLUTION, FOLDS)"
   ]
  },
  {
   "cell_type": "markdown",
   "metadata": {},
   "source": [
    "# Pipeline to measure processing time\n",
    "\n",
    "We measure the time our approach needs to entirely process 4 images, which correspond to about 1km$^2$. The steps include\n",
    "* loading the images\n",
    "* obtaining ResNet activations from the images\n",
    "* predicting the label in an ensemble fashion using 8 models"
   ]
  },
  {
   "cell_type": "code",
   "execution_count": 71,
   "metadata": {},
   "outputs": [
    {
     "name": "stdout",
     "output_type": "stream",
     "text": [
      "--- getting activations ---\n",
      "Time needed to process 4 images equivalent to 1km^2 of area: 6.05 s\n"
     ]
    }
   ],
   "source": [
    "start = time.time()\n",
    "\n",
    "X = []\n",
    "for fname in FNAMES:\n",
    "    fullpath = os.path.join(IMAGE_FOLDER, fname)\n",
    "    X.append(ima.load_image_as_rgb_array(fullpath))\n",
    "    \n",
    "X = np.array(X)\n",
    "\n",
    "X_test = dl.preprocess_activations(X, base_model, activation_name = int(activation_layers[-1].split(\"_\")[-1]))\n",
    "\n",
    "predictions = ml.ensemble_predictions(models, X_test)\n",
    "\n",
    "time_needed = time.time() - start\n",
    "print(\"Time needed to process 4 images equivalent to 1km^2 of area:\", round(time_needed,2), \"s\")"
   ]
  },
  {
   "cell_type": "markdown",
   "metadata": {},
   "source": [
    "# Costs estimation"
   ]
  },
  {
   "cell_type": "markdown",
   "metadata": {},
   "source": [
    "### Parameters"
   ]
  },
  {
   "cell_type": "code",
   "execution_count": 147,
   "metadata": {},
   "outputs": [],
   "source": [
    "# keep this parameter fixed at 1m resolution\n",
    "resolution = 1\n",
    "\n",
    "# assuming one year of data storage\n",
    "months_storage = 12\n",
    "\n",
    "# lifespan of satellite in years\n",
    "lifespan = 10\n",
    "\n",
    "# Earth land area\n",
    "earth_area_in_km2 = 148940000 # km2\n",
    "\n",
    "def get_earth_area_in_pixels(resolution):\n",
    "    earth_area_in_pixels = earth_area_in_km2/(resolution/1000)**2 # pixels\n",
    "    return earth_area_in_pixels\n",
    "\n",
    "earth_area_in_pixels = get_earth_area_in_pixels(resolution)"
   ]
  },
  {
   "cell_type": "markdown",
   "metadata": {},
   "source": [
    "### Data cost"
   ]
  },
  {
   "cell_type": "code",
   "execution_count": 148,
   "metadata": {},
   "outputs": [],
   "source": [
    "# Raw image processing, TODO include factor 2 compression\n",
    "Gb_per_km2 = 0.005248\n",
    "\n",
    "# cost of processing raw data to image\n",
    "cost_raw_per_km2 = 0.004 # $/km2\n",
    "    \n",
    "# cost of downloading data from satellite\n",
    "cost_download = 8 # $/Gb\n",
    "cost_download_per_km2 = cost_download*Gb_per_km2\n",
    "\n",
    "# cost of data storage\n",
    "cost_storage_hot = 72e-6 # $/(km2/month)\n",
    "cost_storage_cold = 36e-6 # $/(km2/month)\n",
    "cost_storage_archive = 9e-6 # $/(km2/month)\n",
    "\n",
    "cost_storage_hot_per_km2 = cost_storage_hot*months_storage\n",
    "cost_storage_cold_per_km2 = cost_storage_cold*months_storage\n",
    "cost_storage_archive_per_km2 = cost_storage_archive*months_storage\n",
    "\n",
    "# cost of serving data to final client\n",
    "cost_serving = 0.09 # $/Gb\n",
    "cost_serving_per_km2 = cost_serving*Gb_per_km2"
   ]
  },
  {
   "cell_type": "markdown",
   "metadata": {},
   "source": [
    "### Data cost for predicting human impact on image"
   ]
  },
  {
   "cell_type": "code",
   "execution_count": 149,
   "metadata": {},
   "outputs": [],
   "source": [
    "time_hour_per_km2 = time_needed/3600 # hours/km2\n",
    "cost_aws_per_hour = 0.4 # $/hour\n",
    "\n",
    "cost_aws_per_km2 = cost_aws_per_hour * time_hour_per_km2 # $/km2"
   ]
  },
  {
   "cell_type": "markdown",
   "metadata": {},
   "source": [
    "### Satellite cost\n",
    "\n",
    "* Price of satellite scales cubic with resolution: launching is linear in mass, and the mass scales quadratic with mass\n",
    "* A satellite of the Skysat constellation with 0.9m resolution costs about $30M \n",
    "* At 1m resolution a satellite can map 1million square km in 4.2 days (Satellogic Youtube channel)\n",
    "* Assume lifespan of 10 years"
   ]
  },
  {
   "cell_type": "code",
   "execution_count": 150,
   "metadata": {},
   "outputs": [],
   "source": [
    "def get_satellite_cost_per_km2(resolution):\n",
    "    cost_satellite = 30e6/(resolution/0.9)**3\n",
    "    map_area = 1e6/4.2*365*lifespan # km2\n",
    "    cost_satellite_per_km2 = cost_satellite/map_area\n",
    "    return cost_satellite_per_km2\n",
    "\n",
    "cost_satellite_per_km2 = get_satellite_cost_per_km2(resolution)"
   ]
  },
  {
   "cell_type": "markdown",
   "metadata": {},
   "source": [
    "### Total cost"
   ]
  },
  {
   "cell_type": "code",
   "execution_count": 151,
   "metadata": {},
   "outputs": [
    {
     "name": "stdout",
     "output_type": "stream",
     "text": [
      "Total cost per square kilometer: 0.0989 $\n",
      "Total cost per pixel: 9.89e-08 $\n"
     ]
    }
   ],
   "source": [
    "cost_data_per_km2 = cost_raw_per_km2 + cost_download_per_km2 + cost_serving_per_km2 + \\\n",
    "                     cost_storage_hot_per_km2 + cost_storage_cold_per_km2 + cost_storage_archive_per_km2 + \\\n",
    "                     cost_aws_per_km2 + cost_satellite_per_km2\n",
    "\n",
    "cost_total_per_km2 = cost_data_per_km2 + cost_satellite_per_km2\n",
    "\n",
    "cost_total_per_pixel = cost_total_per_km2*1e-6\n",
    "\n",
    "print(\"Total cost per square kilometer:\", round(cost_total_per_km2, 4), \"$\")\n",
    "print(\"Total cost per pixel:\", round(cost_total_per_pixel, 10), \"$\")"
   ]
  },
  {
   "cell_type": "markdown",
   "metadata": {},
   "source": [
    "### Cost to monitor the earth"
   ]
  },
  {
   "cell_type": "code",
   "execution_count": 153,
   "metadata": {},
   "outputs": [
    {
     "name": "stdout",
     "output_type": "stream",
     "text": [
      "To monitor the entire land surface of the earth once at 1m resolution, \n",
      "the costs amount to 14.72 M$. This assumes a satellite lifespan of 10 years.\n"
     ]
    }
   ],
   "source": [
    "# cost to monitor the earth\n",
    "cost_monitor_earth = cost_total_per_pixel*earth_area_in_pixels\n",
    "\n",
    "print(\"To monitor the entire land surface of the earth once at 1m resolution, \\nthe costs amount to\", \n",
    "      round(cost_monitor_earth*1e-6, 2), \"M$. This assumes a satellite lifespan of\", lifespan, \"years.\")"
   ]
  },
  {
   "cell_type": "markdown",
   "metadata": {},
   "source": [
    "### Cost as function of resolution"
   ]
  },
  {
   "cell_type": "code",
   "execution_count": 154,
   "metadata": {},
   "outputs": [],
   "source": [
    "get_monitoring_cost = lambda res: cost_monitor_earth*(1/res)**2"
   ]
  },
  {
   "cell_type": "code",
   "execution_count": 174,
   "metadata": {},
   "outputs": [],
   "source": [
    "resolutions = np.linspace(0.3, 16, 500)\n",
    "\n",
    "costs = []\n",
    "for res in resolutions:\n",
    "    total_costs_per_km2 = cost_data_per_km2 + get_satellite_cost_per_km2(res)\n",
    "    total_costs_per_pixel = total_costs_per_km2 * 1e-6\n",
    "    total_costs_earth_map = total_costs_per_pixel * get_earth_area_in_pixels(res)\n",
    "    costs.append(total_costs_earth_map)"
   ]
  },
  {
   "cell_type": "code",
   "execution_count": 175,
   "metadata": {},
   "outputs": [
    {
     "data": {
      "image/png": "[encoded data removed]",
      "text/plain": [
       "<Figure size 432x288 with 1 Axes>"
      ]
     },
     "metadata": {
      "needs_background": "light"
     },
     "output_type": "display_data"
    }
   ],
   "source": [
    "plt.plot(resolutions, costs)\n",
    "plt.grid()\n",
    "\n",
    "plt.title(\"Satellite and Data Processing Cost\")\n",
    "plt.yscale(\"log\")\n",
    "plt.ylabel(\"Cost [$]\")\n",
    "plt.xlabel(\"Resolution [m]\")\n",
    "\n",
    "plt.savefig(\"../report/Figures/costs.pdf\")\n",
    "plt.show()"
   ]
  }
 ],
 "metadata": {
  "kernelspec": {
   "display_name": "Python 3",
   "language": "python",
   "name": "python3"
  },
  "language_info": {
   "codemirror_mode": {
    "name": "ipython",
    "version": 3
   },
   "file_extension": ".py",
   "mimetype": "text/x-python",
   "name": "python",
   "nbconvert_exporter": "python",
   "pygments_lexer": "ipython3",
   "version": "3.7.3"
  }
 },
 "nbformat": 4,
 "nbformat_minor": 2
}
