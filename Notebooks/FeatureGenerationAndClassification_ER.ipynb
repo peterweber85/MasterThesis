{
 "cells": [
  {
   "cell_type": "code",
   "execution_count": 21,
   "metadata": {},
   "outputs": [
    {
     "name": "stdout",
     "output_type": "stream",
     "text": [
      "The autoreload extension is already loaded. To reload it, use:\n",
      "  %reload_ext autoreload\n"
     ]
    }
   ],
   "source": [
    "import sys\n",
    "import os\n",
    "import numpy as np\n",
    "import pandas as pd\n",
    "import matplotlib.pyplot as plt\n",
    "\n",
    "sys.path.append(\"../Library/\")\n",
    "import image_download as imd\n",
    "import image_manipulation as ima\n",
    "import db_connection as dbcon\n",
    "\n",
    "#%matplotlib inline\n",
    "%load_ext autoreload\n",
    "%autoreload 2"
   ]
  },
  {
   "cell_type": "code",
   "execution_count": 22,
   "metadata": {},
   "outputs": [
    {
     "name": "stdout",
     "output_type": "stream",
     "text": [
      "DB Credentials from file\n",
      "DB connected successfully!!!\n"
     ]
    }
   ],
   "source": [
    "# parameters\n",
    "GMAPS_API_KEY = os.getenv('GMAPS_API_KEY')\n",
    "IMG_FOLDER = os.getenv('MFP_IMG_FOLDER')\n",
    "\n",
    "# connect to db\n",
    "db = dbcon.connect(\"../credentials/mlab_db.txt\",\"mfp\")\n",
    "images_lib_col = db[\"images_lib\"]"
   ]
  },
  {
   "cell_type": "code",
   "execution_count": 34,
   "metadata": {
    "scrolled": true
   },
   "outputs": [
    {
     "name": "stdout",
     "output_type": "stream",
     "text": [
      "10\n",
      "29.6502_-95.3457_17_600.png\n",
      "29.8059_-95.5329_17_600.png\n",
      "29.7646_-95.5376_13_600.png\n",
      "29.7369_-95.3517_15_600.png\n",
      "29.7459_-95.432_13_600.png\n",
      "29.5293_-95.429_10_600.png\n",
      "29.91_-95.5629_13_600.png\n",
      "29.8515_-95.3965_17_600.png\n",
      "42.1919_-71.0078_14_600.png\n",
      "42.5074_-71.1973_10_600.png\n"
     ]
    }
   ],
   "source": [
    "MAX_GIST_TO_COMPUTE = 10 # to limit the ouput of the query\n",
    "query = {\n",
    "    \"$and\" : [\n",
    "        #{ \"name\":\"Spain\" },\n",
    "        #{\"gist\": {\"$exists\": True} },\n",
    "        {\"gist\": {\"$exists\": False} }\n",
    "    ]  \n",
    "}\n",
    "images_metadata = [img_metadata for img_metadata in images_lib_col.find(query)]\n",
    "images_filenames = [image[\"filename\"] for image in images_metadata[:MAX_GIST_TO_COMPUTE]]\n",
    "print(len(images_filenames))\n",
    "for image in images_metadata[:10]:\n",
    "    print(image[\"filename\"])"
   ]
  },
  {
   "cell_type": "code",
   "execution_count": 35,
   "metadata": {},
   "outputs": [
    {
     "name": "stdout",
     "output_type": "stream",
     "text": [
      "10 gist values uploaded\n",
      "CPU times: user 14.4 s, sys: 581 ms, total: 15 s\n",
      "Wall time: 15.7 s\n"
     ]
    }
   ],
   "source": [
    "%%time\n",
    "gist_uploaded, gist_vectors = ima.gist_calculate_and_load(images_filenames, IMG_FOLDER, images_lib_col)\n",
    "print(gist_uploaded, \"gist values uploaded\")"
   ]
  },
  {
   "cell_type": "code",
   "execution_count": null,
   "metadata": {},
   "outputs": [],
   "source": []
  },
  {
   "cell_type": "code",
   "execution_count": null,
   "metadata": {},
   "outputs": [],
   "source": []
  }
 ],
 "metadata": {
  "kernelspec": {
   "display_name": "Python 3",
   "language": "python",
   "name": "python3"
  },
  "language_info": {
   "codemirror_mode": {
    "name": "ipython",
    "version": 3
   },
   "file_extension": ".py",
   "mimetype": "text/x-python",
   "name": "python",
   "nbconvert_exporter": "python",
   "pygments_lexer": "ipython3",
   "version": "3.6.5"
  }
 },
 "nbformat": 4,
 "nbformat_minor": 2
}
