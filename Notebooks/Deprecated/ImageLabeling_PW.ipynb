{
 "cells": [
  {
   "cell_type": "code",
   "execution_count": 67,
   "metadata": {},
   "outputs": [
    {
     "name": "stdout",
     "output_type": "stream",
     "text": [
      "The autoreload extension is already loaded. To reload it, use:\n",
      "  %reload_ext autoreload\n"
     ]
    }
   ],
   "source": [
    "import gist\n",
    "\n",
    "from PIL import Image\n",
    "import imageio\n",
    "from IPython.display import display, clear_output\n",
    "\n",
    "import sys\n",
    "sys.path.append(\"../Library/\")\n",
    "import image_download as imd\n",
    "import image_manipulation as ima\n",
    "\n",
    "import numpy as np\n",
    "import pandas as pd\n",
    "import matplotlib.pyplot as plt\n",
    "from dotenv import load_dotenv\n",
    "import os\n",
    "load_dotenv(\"../.env\")\n",
    "import csv\n",
    "\n",
    "import numpy as np\n",
    "import db_connection as dbcon\n",
    "\n",
    "#%matplotlib inline\n",
    "%load_ext autoreload\n",
    "%autoreload 2"
   ]
  },
  {
   "cell_type": "markdown",
   "metadata": {},
   "source": [
    "### Set Parameters"
   ]
  },
  {
   "cell_type": "code",
   "execution_count": 68,
   "metadata": {},
   "outputs": [
    {
     "name": "stdout",
     "output_type": "stream",
     "text": [
      "DB Credentials from file\n",
      "DB connected successfully!!!\n",
      "Meters per pixel: 4.12\n",
      "Image size: 2636.76 in meters\n"
     ]
    }
   ],
   "source": [
    "# parameters\n",
    "zoom = 15\n",
    "lat = 30.4131736\n",
    "lon = -87.600026\n",
    "pixels = 640\n",
    "samples_per_location = 1\n",
    "precision = 4\n",
    "num_images = 4\n",
    "GMAPS_API_KEY = os.getenv('GMAPS_API_KEY')\n",
    "IMG_FOLDER = os.getenv('MFP_IMG_FOLDER')\n",
    "\n",
    "# connect to db\n",
    "db = dbcon.connect(\"../credentials/mlab_db.txt\",\"mfp\")\n",
    "images_lib_col = db[\"images_lib\"]\n",
    "\n",
    "# image dimensions\n",
    "meters_per_px = imd.zoom_in_meters_per_pixel(zoom, lat)\n",
    "image_size = meters_per_px*pixels ## in meters\n",
    "\n",
    "print(\"Meters per pixel:\", round(meters_per_px,2))\n",
    "print(\"Image size:\", round(image_size,2), \"in meters\")"
   ]
  },
  {
   "cell_type": "markdown",
   "metadata": {},
   "source": [
    "### Get filenames of all the files in Google Drive that correspond to Madrid"
   ]
  },
  {
   "cell_type": "code",
   "execution_count": 70,
   "metadata": {},
   "outputs": [
    {
     "data": {
      "text/plain": [
       "['US3_50.60035545236654_-77.01106789789257_16_640.png',\n",
       " 'US3_47.960067695662076_-96.63297439094842_16_640.png',\n",
       " 'US3_47.960067695662076_-96.63297439094842_14_640.png',\n",
       " 'US3_38.44102401068488_-96.04316984424929_13_640.png',\n",
       " 'US3_50.60035545236654_-77.01106789789257_15_640.png',\n",
       " 'US3_52.329191065496744_-110.44840826605895_13_640.png',\n",
       " 'US3_50.60035545236654_-77.01106789789257_14_640.png',\n",
       " 'US3_38.15860639483217_-118.03113718932458_13_640.png',\n",
       " 'US3_47.960067695662076_-96.63297439094842_15_640.png',\n",
       " 'US3_38.15860639483217_-118.03113718932458_16_640.png',\n",
       " 'US3_52.329191065496744_-110.44840826605895_16_640.png',\n",
       " 'US3_38.44102401068488_-96.04316984424929_16_640.png',\n",
       " 'US3_38.15860639483217_-118.03113718932458_15_640.png',\n",
       " 'US3_52.329191065496744_-110.44840826605895_15_640.png',\n",
       " 'US3_38.44102401068488_-96.04316984424929_14_640.png',\n",
       " 'US3_47.960067695662076_-96.63297439094842_13_640.png',\n",
       " 'US3_38.44102401068488_-96.04316984424929_15_640.png',\n",
       " 'US3_50.60035545236654_-77.01106789789257_13_640.png',\n",
       " 'US3_38.15860639483217_-118.03113718932458_14_640.png',\n",
       " 'US3_52.329191065496744_-110.44840826605895_14_640.png']"
      ]
     },
     "execution_count": 70,
     "metadata": {},
     "output_type": "execute_result"
    }
   ],
   "source": [
    "area_name = 'US3_'\n",
    "\n",
    "fnames = ima.get_filenames_of_city(area_name, IMG_FOLDER)\n",
    "fnames"
   ]
  },
  {
   "cell_type": "markdown",
   "metadata": {},
   "source": [
    "### Get image info of all the files of area name provided above (filenames, images, np.array)"
   ]
  },
  {
   "cell_type": "code",
   "execution_count": 71,
   "metadata": {},
   "outputs": [],
   "source": [
    "images_info = ima.load_images_from_gdrive(fnames, IMG_FOLDER)"
   ]
  },
  {
   "cell_type": "code",
   "execution_count": 73,
   "metadata": {},
   "outputs": [],
   "source": [
    "## !!! THIS WILL OPEN AN INTERACTIVE WINDOW FOR LABELLING THE IMAGES!!!\n",
    "## FIRST PUT IN YOUR NAME AND THEN GO AHEAD WITH LABELLING\n",
    "images_info = ima.add_labels_to_image_info(images_info)"
   ]
  },
  {
   "cell_type": "markdown",
   "metadata": {},
   "source": [
    "## Label images in Database"
   ]
  },
  {
   "cell_type": "code",
   "execution_count": 74,
   "metadata": {},
   "outputs": [],
   "source": [
    "filename_upload_to_db = 'temp1.csv'\n",
    "\n",
    "ima.save_labels_as_csv(images_info, IMG_FOLDER, \n",
    "                       output_name = filename_upload_to_db, \n",
    "                       label_multi_name = \"label_multi_pw\",\n",
    "                       label_binary_name = \"label_binary_pw\")"
   ]
  },
  {
   "cell_type": "code",
   "execution_count": 75,
   "metadata": {},
   "outputs": [
    {
     "name": "stdout",
     "output_type": "stream",
     "text": [
      "21 labels added to db!\n"
     ]
    }
   ],
   "source": [
    "dbcon.write_labels_from_csv_to_db(images_lib_col, IMG_FOLDER, filename_upload_to_db)"
   ]
  },
  {
   "cell_type": "markdown",
   "metadata": {},
   "source": [
    "### Check binary labels"
   ]
  },
  {
   "cell_type": "code",
   "execution_count": 76,
   "metadata": {},
   "outputs": [
    {
     "name": "stdout",
     "output_type": "stream",
     "text": [
      "US1_52.20482183860124_-92.48891258998856_13_640.png has label 0\n",
      "US1_52.20482183860124_-92.48891258998856_14_640.png has label 0\n",
      "US1_52.20482183860124_-92.48891258998856_15_640.png has label 0\n",
      "US1_52.20482183860124_-92.48891258998856_16_640.png has label 0\n",
      "US1_33.01060691483008_-118.04101400786547_13_640.png has label 0\n",
      "US2_41.24686281982255_-121.72391747542048_14_640.png has label 0\n",
      "US2_41.24686281982255_-121.72391747542048_15_640.png has label 0\n",
      "US2_41.24686281982255_-121.72391747542048_16_640.png has label 0\n",
      "US2_41.76932454759587_-105.42877312370616_14_640.png has label 0\n",
      "US2_41.76932454759587_-105.42877312370616_15_640.png has label 0\n",
      "US2_41.76932454759587_-105.42877312370616_16_640.png has label 0\n",
      "US3_50.60035545236654_-77.01106789789257_15_640.png has label 0\n",
      "US3_50.60035545236654_-77.01106789789257_16_640.png has label 0\n",
      "US3_38.15860639483217_-118.03113718932458_13_640.png has label 0\n",
      "US3_38.15860639483217_-118.03113718932458_15_640.png has label 0\n",
      "US3_38.15860639483217_-118.03113718932458_16_640.png has label 0\n"
     ]
    }
   ],
   "source": [
    "label_name = 'label_binary_pw'\n",
    "query = {label_name: '0'}\n",
    "\n",
    "doc = images_lib_col.find(query)\n",
    "for x in doc:\n",
    "    print(x['filename'], \"has label\", x[label_name])"
   ]
  },
  {
   "cell_type": "code",
   "execution_count": 77,
   "metadata": {},
   "outputs": [
    {
     "name": "stdout",
     "output_type": "stream",
     "text": [
      "US1_45.21160965529817_-93.54554509042913_13_640.png has label 1\n",
      "US1_45.21160965529817_-93.54554509042913_14_640.png has label 1\n",
      "US1_45.21160965529817_-93.54554509042913_15_640.png has label 1\n",
      "US1_45.21160965529817_-93.54554509042913_16_640.png has label 1\n",
      "US1_33.01060691483008_-118.04101400786547_14_640.png has label 1\n",
      "US1_33.01060691483008_-118.04101400786547_15_640.png has label 1\n",
      "US1_33.01060691483008_-118.04101400786547_16_640.png has label 1\n",
      "US1_50.53186589235239_-108.35386180596005_13_640.png has label 1\n",
      "US1_50.53186589235239_-108.35386180596005_14_640.png has label 1\n",
      "US1_50.53186589235239_-108.35386180596005_15_640.png has label 1\n",
      "US1_50.53186589235239_-108.35386180596005_16_640.png has label 1\n",
      "US1_45.14093597874625_-101.4861640355236_13_640.png has label 1\n",
      "US1_45.14093597874625_-101.4861640355236_14_640.png has label 1\n",
      "US1_45.14093597874625_-101.4861640355236_15_640.png has label 1\n",
      "US1_45.14093597874625_-101.4861640355236_16_640.png has label 1\n",
      "US2_32.98997192625039_-84.91875948901313_13_640.png has label 1\n",
      "US2_32.98997192625039_-84.91875948901313_14_640.png has label 1\n",
      "US2_32.98997192625039_-84.91875948901313_15_640.png has label 1\n",
      "US2_32.98997192625039_-84.91875948901313_16_640.png has label 1\n",
      "US2_32.73241903193594_-96.09959920826273_13_640.png has label 1\n",
      "US2_32.73241903193594_-96.09959920826273_14_640.png has label 1\n",
      "US2_32.73241903193594_-96.09959920826273_15_640.png has label 1\n",
      "US2_32.73241903193594_-96.09959920826273_16_640.png has label 1\n",
      "US2_41.24686281982255_-121.72391747542048_13_640.png has label 1\n",
      "US2_41.76932454759587_-105.42877312370616_13_640.png has label 1\n",
      "US2_38.48142233892045_-101.11610421946183_13_640.png has label 1\n",
      "US2_38.48142233892045_-101.11610421946183_14_640.png has label 1\n",
      "US2_38.48142233892045_-101.11610421946183_15_640.png has label 1\n",
      "US2_38.48142233892045_-101.11610421946183_16_640.png has label 1\n",
      "US3_52.329191065496744_-110.44840826605895_13_640.png has label 1\n",
      "US3_52.329191065496744_-110.44840826605895_14_640.png has label 1\n",
      "US3_52.329191065496744_-110.44840826605895_15_640.png has label 1\n",
      "US3_52.329191065496744_-110.44840826605895_16_640.png has label 1\n",
      "US3_38.44102401068488_-96.04316984424929_13_640.png has label 1\n",
      "US3_38.44102401068488_-96.04316984424929_14_640.png has label 1\n",
      "US3_38.44102401068488_-96.04316984424929_15_640.png has label 1\n",
      "US3_38.44102401068488_-96.04316984424929_16_640.png has label 1\n",
      "US3_47.960067695662076_-96.63297439094842_13_640.png has label 1\n",
      "US3_47.960067695662076_-96.63297439094842_14_640.png has label 1\n",
      "US3_47.960067695662076_-96.63297439094842_15_640.png has label 1\n",
      "US3_47.960067695662076_-96.63297439094842_16_640.png has label 1\n",
      "US3_50.60035545236654_-77.01106789789257_13_640.png has label 1\n",
      "US3_50.60035545236654_-77.01106789789257_14_640.png has label 1\n",
      "US3_38.15860639483217_-118.03113718932458_14_640.png has label 1\n"
     ]
    }
   ],
   "source": [
    "label_name = 'label_binary_pw'\n",
    "query = {label_name: '1'}\n",
    "\n",
    "doc = images_lib_col.find(query)\n",
    "for x in doc:\n",
    "    print(x['filename'], \"has label\", x[label_name])"
   ]
  },
  {
   "cell_type": "code",
   "execution_count": null,
   "metadata": {},
   "outputs": [],
   "source": []
  }
 ],
 "metadata": {
  "kernelspec": {
   "display_name": "Python 3",
   "language": "python",
   "name": "python3"
  },
  "language_info": {
   "codemirror_mode": {
    "name": "ipython",
    "version": 3
   },
   "file_extension": ".py",
   "mimetype": "text/x-python",
   "name": "python",
   "nbconvert_exporter": "python",
   "pygments_lexer": "ipython3",
   "version": "3.6.8"
  }
 },
 "nbformat": 4,
 "nbformat_minor": 2
}
