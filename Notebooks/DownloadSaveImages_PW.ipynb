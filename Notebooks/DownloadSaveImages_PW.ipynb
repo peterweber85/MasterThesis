{
 "cells": [
  {
   "cell_type": "markdown",
   "metadata": {},
   "source": [
    "## Imports"
   ]
  },
  {
   "cell_type": "code",
   "execution_count": 1,
   "metadata": {},
   "outputs": [],
   "source": [
    "import gist\n",
    "\n",
    "from PIL import Image\n",
    "import imageio\n",
    "from IPython.display import display, clear_output\n",
    "\n",
    "import sys\n",
    "sys.path.append(\"../Library/\")\n",
    "import image_download as imd\n",
    "import image_manipulation as ima\n",
    "\n",
    "import pandas as pd\n",
    "import matplotlib.pyplot as plt\n",
    "from dotenv import load_dotenv\n",
    "import os\n",
    "load_dotenv(\"../.env\")\n",
    "import csv\n",
    "\n",
    "import numpy as np\n",
    "import db_connection as dbcon\n",
    "\n",
    "#%matplotlib inline\n",
    "%load_ext autoreload\n",
    "%autoreload 2"
   ]
  },
  {
   "cell_type": "markdown",
   "metadata": {},
   "source": [
    "## Parameters"
   ]
  },
  {
   "cell_type": "code",
   "execution_count": 2,
   "metadata": {},
   "outputs": [
    {
     "name": "stdout",
     "output_type": "stream",
     "text": [
      "DB Credentials from file\n",
      "DB connected successfully!!!\n",
      "Meters per pixel: 1.03\n",
      "Image size: 659.19 in meters\n"
     ]
    }
   ],
   "source": [
    "# parameters\n",
    "zoom = 17\n",
    "lat = 30.4131736\n",
    "lon = -87.600026\n",
    "pixels = 640\n",
    "samples_per_location = 1\n",
    "precision = 4\n",
    "num_images = 4\n",
    "GMAPS_API_KEY = os.getenv('GMAPS_API_KEY')\n",
    "IMG_FOLDER = os.getenv('MFP_IMG_FOLDER')\n",
    "\n",
    "# connect to db\n",
    "db = dbcon.connect(\"../credentials/mlab_db.txt\",\"mfp\")\n",
    "images_lib_col = db[\"images_lib\"]\n",
    "\n",
    "# image dimensions\n",
    "meters_per_px = imd.zoom_in_meters_per_pixel(zoom, lat)\n",
    "image_size = meters_per_px*pixels ## in meters\n",
    "\n",
    "print(\"Meters per pixel:\", round(meters_per_px,2))\n",
    "print(\"Image size:\", round(image_size,2), \"in meters\")"
   ]
  },
  {
   "cell_type": "markdown",
   "metadata": {},
   "source": [
    "## Save images with random locations defined by us_lat, us_lon, i.e. random locations in the US"
   ]
  },
  {
   "cell_type": "code",
   "execution_count": 27,
   "metadata": {},
   "outputs": [],
   "source": [
    "us_lat = (53.5559992, 31.8113477)\n",
    "us_lon = (-122.5078116, -74.2605513)\n",
    "\n",
    "zoom_levels = [13,14,15,16]"
   ]
  },
  {
   "cell_type": "code",
   "execution_count": 47,
   "metadata": {},
   "outputs": [
    {
     "name": "stdout",
     "output_type": "stream",
     "text": [
      "Coordinates:  (39.740572310930034, -115.3398532406633)\n",
      "Zoom:  13\n",
      "Image and Metadata with filename 'US11_39.740572310930034_-115.3398532406633_13_640.png' saved!\n",
      "\n",
      "Zoom:  14\n",
      "Image and Metadata with filename 'US11_39.740572310930034_-115.3398532406633_14_640.png' saved!\n",
      "\n",
      "Zoom:  15\n",
      "Image and Metadata with filename 'US11_39.740572310930034_-115.3398532406633_15_640.png' saved!\n",
      "\n",
      "Zoom:  16\n",
      "Image and Metadata with filename 'US11_39.740572310930034_-115.3398532406633_16_640.png' saved!\n",
      "\n",
      "Coordinates:  (42.95432296829628, -89.6644894040407)\n",
      "Zoom:  13\n",
      "Image and Metadata with filename 'US11_42.95432296829628_-89.6644894040407_13_640.png' saved!\n",
      "\n",
      "Zoom:  14\n",
      "Image and Metadata with filename 'US11_42.95432296829628_-89.6644894040407_14_640.png' saved!\n",
      "\n",
      "Zoom:  15\n",
      "Image and Metadata with filename 'US11_42.95432296829628_-89.6644894040407_15_640.png' saved!\n",
      "\n",
      "Zoom:  16\n",
      "Image and Metadata with filename 'US11_42.95432296829628_-89.6644894040407_16_640.png' saved!\n",
      "\n",
      "Coordinates:  (46.70396531487154, -83.94915480633136)\n",
      "Zoom:  13\n",
      "Image and Metadata with filename 'US11_46.70396531487154_-83.94915480633136_13_640.png' saved!\n",
      "\n",
      "Zoom:  14\n",
      "Image and Metadata with filename 'US11_46.70396531487154_-83.94915480633136_14_640.png' saved!\n",
      "\n",
      "Zoom:  15\n",
      "Image and Metadata with filename 'US11_46.70396531487154_-83.94915480633136_15_640.png' saved!\n",
      "\n",
      "Zoom:  16\n",
      "Image and Metadata with filename 'US11_46.70396531487154_-83.94915480633136_16_640.png' saved!\n",
      "\n",
      "Coordinates:  (52.07179631008912, -84.63532145858461)\n",
      "Zoom:  13\n",
      "Image and Metadata with filename 'US11_52.07179631008912_-84.63532145858461_13_640.png' saved!\n",
      "\n",
      "Zoom:  14\n",
      "Image and Metadata with filename 'US11_52.07179631008912_-84.63532145858461_14_640.png' saved!\n",
      "\n",
      "Zoom:  15\n",
      "Image and Metadata with filename 'US11_52.07179631008912_-84.63532145858461_15_640.png' saved!\n",
      "\n",
      "Zoom:  16\n",
      "Image and Metadata with filename 'US11_52.07179631008912_-84.63532145858461_16_640.png' saved!\n",
      "\n",
      "Coordinates:  (37.58243392919143, -76.70099113416418)\n",
      "Zoom:  13\n",
      "Image and Metadata with filename 'US11_37.58243392919143_-76.70099113416418_13_640.png' saved!\n",
      "\n",
      "Zoom:  14\n",
      "Image and Metadata with filename 'US11_37.58243392919143_-76.70099113416418_14_640.png' saved!\n",
      "\n",
      "Zoom:  15\n",
      "Image and Metadata with filename 'US11_37.58243392919143_-76.70099113416418_15_640.png' saved!\n",
      "\n",
      "Zoom:  16\n",
      "Image and Metadata with filename 'US11_37.58243392919143_-76.70099113416418_16_640.png' saved!\n",
      "\n"
     ]
    }
   ],
   "source": [
    "download_save_images_in_random_rectangle(images_lib_col,\n",
    "                                         'US11',\n",
    "                                         us_lat,\n",
    "                                         us_lon,\n",
    "                                         5,\n",
    "                                         zoom_levels,\n",
    "                                         pixels,\n",
    "                                         GMAPS_API_KEY,\n",
    "                                         IMG_FOLDER\n",
    "                                         )"
   ]
  },
  {
   "cell_type": "code",
   "execution_count": 32,
   "metadata": {},
   "outputs": [],
   "source": [
    "#samples_per_location = 10\n",
    "#precision = 4\n",
    "#\n",
    "#locations = [\n",
    "#    {\"name\": \"New York\", \"lat\": 40.729, \"lon\": -73.992},\n",
    "#    {\"name\": \"Washington\", \"lat\": 38.918, \"lon\": -77.046},\n",
    "#    {\"name\": \"Los Angeles\", \"lat\": 34.038, \"lon\": -117.911},\n",
    "#    {\"name\": \"Chicago\", \"lat\": 41.978, \"lon\": -87.671},\n",
    "#    {\"name\": \"Houston\", \"lat\": 29.761, \"lon\": -95.361},\n",
    "#    {\"name\": \"Boston\", \"lat\": 42.373, \"lon\": -71.057},\n",
    "#    {\"name\": \"Sydney\", \"lat\": -33.808, \"lon\": 151.17},\n",
    "#    {\"name\": \"Ottawa\", \"lat\": 45.425, \"lon\": -75.679},\n",
    "#    {\"name\": \"Toronto\", \"lat\": 43.674, \"lon\": -79.39},\n",
    "#    {\"name\": \"Montreal\", \"lat\": 45.551, \"lon\": -73.635},\n",
    "#    {\"name\": \"Barcelona\", \"lat\": 41.39, \"lon\": 2.174},\n",
    "#    {\"name\": \"Madrid\", \"lat\": 40.424, \"lon\": -3.702},\n",
    "#]\n",
    "\n",
    "\n",
    "# Image Download Defined Locations around center lat/lon\n",
    "#images, metadata = imd.download_images_defined_location(locations, \n",
    "#                                                        zoom, \n",
    "#                                                        pixels,\n",
    "#                                                        center = True, \n",
    "#                                                        xy_to_ij = True, \n",
    "#                                                        num_images = num_images,\n",
    "#                                                        api_key = GMAPS_API_KEY,\n",
    "#                                                        img_folder = IMG_FOLDER,\n",
    "#                                                        distance_factor=2,\n",
    "#                                                        save_image=True)\n",
    "\n",
    "# Image Download Gaussian Distributed Locations\n",
    "#images, metadata = imd.download_images_random_gaussian(locations, \n",
    "#                                                       zoom, \n",
    "#                                                       pixels,\n",
    "#                                                       samples_per_location,\n",
    "#                                                       precision,\n",
    "#                                                       api_key = GMAPS_API_KEY,\n",
    "#                                                       img_folder = IMG_FOLDER, \n",
    "#                                                       save_image=True)"
   ]
  },
  {
   "cell_type": "code",
   "execution_count": 31,
   "metadata": {},
   "outputs": [
    {
     "name": "stdout",
     "output_type": "stream",
     "text": [
      "Existing documents in DB: 424\n"
     ]
    }
   ],
   "source": [
    "result = list(images_lib_col.find({}))\n",
    "print(\"Existing documents in DB:\", len(result))"
   ]
  },
  {
   "cell_type": "code",
   "execution_count": null,
   "metadata": {},
   "outputs": [],
   "source": []
  }
 ],
 "metadata": {
  "kernelspec": {
   "display_name": "Python 3",
   "language": "python",
   "name": "python3"
  },
  "language_info": {
   "codemirror_mode": {
    "name": "ipython",
    "version": 3
   },
   "file_extension": ".py",
   "mimetype": "text/x-python",
   "name": "python",
   "nbconvert_exporter": "python",
   "pygments_lexer": "ipython3",
   "version": "3.6.8"
  }
 },
 "nbformat": 4,
 "nbformat_minor": 2
}
