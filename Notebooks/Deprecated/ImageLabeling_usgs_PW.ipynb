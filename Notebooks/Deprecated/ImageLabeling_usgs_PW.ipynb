{
 "cells": [
  {
   "cell_type": "code",
   "execution_count": 1,
   "metadata": {},
   "outputs": [],
   "source": [
    "import gist\n",
    "\n",
    "from PIL import Image\n",
    "import imageio\n",
    "from IPython.display import display_png, clear_output\n",
    "\n",
    "import sys\n",
    "sys.path.append(\"../Library/\")\n",
    "import image_download as imd\n",
    "import image_manipulation as ima\n",
    "\n",
    "import random\n",
    "import numpy as np\n",
    "import pandas as pd\n",
    "import matplotlib.pyplot as plt\n",
    "from matplotlib.pyplot import imshow\n",
    "from dotenv import load_dotenv\n",
    "import os\n",
    "load_dotenv(\"../.env\")\n",
    "import csv\n",
    "\n",
    "import numpy as np\n",
    "import db_connection as dbcon\n",
    "\n",
    "%matplotlib inline\n",
    "%load_ext autoreload\n",
    "%autoreload 2"
   ]
  },
  {
   "cell_type": "code",
   "execution_count": 2,
   "metadata": {},
   "outputs": [],
   "source": [
    "from datetime import datetime"
   ]
  },
  {
   "cell_type": "code",
   "execution_count": 3,
   "metadata": {},
   "outputs": [],
   "source": [
    "def get_filenames_unlabeled_images(filenames, labeled_images):\n",
    "    unlabeled = list(set(filenames) - set(labeled_images))\n",
    "    return unlabeled\n",
    "\n",
    "def label_images(folder, filenames, num_images):\n",
    "    random.shuffle(filenames)\n",
    "    \n",
    "    labels = {}\n",
    "    for i in range(num_images):\n",
    "        imarray = np.asarray(Image.open(folder + filenames[i]))[:,:,:3]\n",
    "        imarray_copy = imarray.copy()\n",
    "        \n",
    "        # Vertical and horizontal line at 1/3\n",
    "        imarray_copy[int(imarray_copy.shape[0]/3),:,:3] = 0\n",
    "        imarray_copy[:,int(imarray_copy.shape[0]/3),:3] = 0\n",
    "        \n",
    "        # Vertical and horizontal line at 2/3\n",
    "        imarray_copy[int(2*imarray_copy.shape[0]/3),:,:3] = 0\n",
    "        imarray_copy[:,int(2*imarray_copy.shape[0]/3),:3] = 0\n",
    "        \n",
    "        im = Image.fromarray(imarray_copy)\n",
    "        display_png(im)\n",
    "        labels[filenames[i]] = input(\"Label:\")\n",
    "        clear_output()\n",
    "        \n",
    "    return labels"
   ]
  },
  {
   "cell_type": "markdown",
   "metadata": {},
   "source": [
    "### Set Parameters"
   ]
  },
  {
   "cell_type": "code",
   "execution_count": 4,
   "metadata": {},
   "outputs": [],
   "source": [
    "# parameters\n",
    "MFP_FOLDER = os.getenv('MFP_FOLDER')\n",
    "EX_FOLDER = MFP_FOLDER + 'earthexplorer/'\n",
    "IMAGE_FOLDER = EX_FOLDER + 'processedIMG/'\n",
    "LABELS_FOLDER = EX_FOLDER + 'labels/'"
   ]
  },
  {
   "cell_type": "markdown",
   "metadata": {},
   "source": [
    "### List all image filenames"
   ]
  },
  {
   "cell_type": "code",
   "execution_count": 5,
   "metadata": {},
   "outputs": [
    {
     "data": {
      "text/plain": [
       "['m_4209830_se_14_1_20140907_x4096_y1536.png',\n",
       " 'm_4209830_se_14_1_20140907_x1536_y0.png',\n",
       " 'm_3409456_ne_15_1_20170914_x4096_y5120.png',\n",
       " 'm_4209725_sw_14_1_20140917_x5632_y4096.png',\n",
       " 'm_2608164_sw_17_1_20171210_x6144_y6144.png',\n",
       " 'm_2608164_sw_17_1_20171210_x6656_y3584.png',\n",
       " 'm_3809356_nw_15_1_20140703_x6656_y1536.png',\n",
       " 'm_3409456_ne_15_1_20170914_x6656_y3584.png',\n",
       " 'm_3809356_nw_15_1_20140703_x6144_y512.png',\n",
       " 'm_4209830_se_14_1_20140907_x1024_y4608.png']"
      ]
     },
     "execution_count": 5,
     "metadata": {},
     "output_type": "execute_result"
    }
   ],
   "source": [
    "filenames =  os.listdir(IMAGE_FOLDER)\n",
    "filenames[-10:]"
   ]
  },
  {
   "cell_type": "markdown",
   "metadata": {},
   "source": [
    "### List images that are already labeled"
   ]
  },
  {
   "cell_type": "markdown",
   "metadata": {},
   "source": [
    "### Label images"
   ]
  },
  {
   "cell_type": "code",
   "execution_count": 58,
   "metadata": {},
   "outputs": [
    {
     "name": "stdout",
     "output_type": "stream",
     "text": [
      "Number of unlabeled images: 1859\n",
      "Number of labeled images: 80\n"
     ]
    }
   ],
   "source": [
    "labels_csv = os.listdir(LABELS_FOLDER)\n",
    "labels_csv = [label_csv for label_csv in labels_csv if label_csv.startswith(\"labels\")]\n",
    "\n",
    "labeled_img = []\n",
    "for fname_csv in labels_csv:\n",
    "    df = pd.read_csv(LABELS_FOLDER + fname_csv)\n",
    "    for fname in df.filename:\n",
    "        labeled_img.append(fname)\n",
    "\n",
    "unlabeled = get_filenames_unlabeled_images(filenames, labeled_img)\n",
    "print(\"Number of unlabeled images:\", len(unlabeled))\n",
    "print(\"Number of labeled images:\", len(labeled_img))"
   ]
  },
  {
   "cell_type": "code",
   "execution_count": 56,
   "metadata": {},
   "outputs": [],
   "source": [
    "labels = label_images(IMAGE_FOLDER, unlabeled, 20)\n",
    "df_labels = pd.DataFrame({\n",
    "        'filename': list(labels.keys()),\n",
    "        'label': list(labels.values())\n",
    "})"
   ]
  },
  {
   "cell_type": "code",
   "execution_count": 57,
   "metadata": {},
   "outputs": [],
   "source": [
    "df_labels.to_csv(LABELS_FOLDER + \"/labels_\" + str(datetime.now()) + \".csv\")"
   ]
  },
  {
   "cell_type": "code",
   "execution_count": null,
   "metadata": {},
   "outputs": [],
   "source": []
  }
 ],
 "metadata": {
  "kernelspec": {
   "display_name": "Python 3",
   "language": "python",
   "name": "python3"
  },
  "language_info": {
   "codemirror_mode": {
    "name": "ipython",
    "version": 3
   },
   "file_extension": ".py",
   "mimetype": "text/x-python",
   "name": "python",
   "nbconvert_exporter": "python",
   "pygments_lexer": "ipython3",
   "version": "3.6.8"
  }
 },
 "nbformat": 4,
 "nbformat_minor": 2
}
