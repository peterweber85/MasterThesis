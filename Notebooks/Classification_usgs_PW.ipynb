{
 "cells": [
  {
   "cell_type": "code",
   "execution_count": 80,
   "metadata": {},
   "outputs": [
    {
     "name": "stdout",
     "output_type": "stream",
     "text": [
      "The autoreload extension is already loaded. To reload it, use:\n",
      "  %reload_ext autoreload\n"
     ]
    }
   ],
   "source": [
    "import sys\n",
    "import os\n",
    "import numpy as np\n",
    "import pandas as pd\n",
    "import matplotlib.pyplot as plt\n",
    "import datetime\n",
    "\n",
    "from sklearn.feature_extraction.text import HashingVectorizer\n",
    "from sklearn.model_selection import train_test_split\n",
    "from sklearn.preprocessing import StandardScaler\n",
    "from sklearn.naive_bayes import MultinomialNB\n",
    "from sklearn.neighbors import KNeighborsClassifier\n",
    "from sklearn.ensemble import RandomForestClassifier, AdaBoostClassifier\n",
    "from sklearn.linear_model import SGDClassifier, LinearRegression\n",
    "from sklearn.svm import LinearSVC\n",
    "from sklearn import metrics\n",
    "\n",
    "sys.path.append(\"../Library/\")\n",
    "import image_download as imd\n",
    "import image_manipulation as ima\n",
    "import db_connection as dbcon\n",
    "import IO as io\n",
    "\n",
    "#%matplotlib inline\n",
    "%load_ext autoreload\n",
    "%autoreload 2"
   ]
  },
  {
   "cell_type": "markdown",
   "metadata": {},
   "source": [
    "### Parameters"
   ]
  },
  {
   "cell_type": "code",
   "execution_count": 58,
   "metadata": {},
   "outputs": [
    {
     "name": "stdout",
     "output_type": "stream",
     "text": [
      "Degraded sizes are [500.0, 300.0, 150.0, 100.0, 59.99999999999999, 29.999999999999996, 20.0, 14.999999999999998, 10.0] pixels. This is rounded to the nearest integer!\n"
     ]
    }
   ],
   "source": [
    "# IMAGE PARAMETERS\n",
    "SIZE = 1000 # in pixels\n",
    "BASE_RESOLUTION = 0.3 # in meter\n",
    "LABELS = [0, 1, 2]\n",
    "\n",
    "# THESE ARE ONLY APPROXIMATE -->  integer(SIZE/DEGRADED_RESOLUTION)\n",
    "DEGRADED_RESOLUTIONS = [0.6, 1, 2, 3, 5, 10, 15, 20, 30] # in meter\n",
    "\n",
    "DEGRADED_SIZES = [SIZE/(res/BASE_RESOLUTION) for res in DEGRADED_RESOLUTIONS]\n",
    "print(\"Degraded sizes are\", DEGRADED_SIZES, \"pixels. This is rounded to the nearest integer!\")\n",
    "# THESE ARE ONLY APPROXIMATE -->  integer(SIZE/DEGRADED_RESOLUTION)\n",
    "\n",
    "# FOLDER PARAMETERS\n",
    "GDRIVE_FOLDER = os.getenv('GDRIVE_FOLDER')\n",
    "RAW_IMAGE_FOLDER = GDRIVE_FOLDER + 'MFP - Satellogic/images/raw_images_usgs_0.3m/'\n",
    "PROCESSED_IMAGE_FOLDER = RAW_IMAGE_FOLDER + 'processed/'\n",
    "MFP_IMG_FOLDER = GDRIVE_FOLDER + 'MFP - Satellogic/images/'\n",
    "CATEGORIES = ['agriculture', 'shrubland-grassland', 'city', 'forest-woodland', 'semi-desert']\n",
    "\n",
    "# Compute more parameters\n",
    "params = {'size': SIZE, 'res': BASE_RESOLUTION, 'res_degr': DEGRADED_RESOLUTIONS}\n",
    "subfolder_size = MFP_IMG_FOLDER + 'usgs_' + str(SIZE) + \"/\"\n",
    "subfolder_base_res = subfolder_size + \"usgs_\" + str(SIZE) + \"_\" + str(BASE_RESOLUTION) + \"m/\""
   ]
  },
  {
   "cell_type": "markdown",
   "metadata": {},
   "source": [
    "### DB connection"
   ]
  },
  {
   "cell_type": "code",
   "execution_count": 86,
   "metadata": {},
   "outputs": [
    {
     "name": "stdout",
     "output_type": "stream",
     "text": [
      "DB Credentials from file\n",
      "DB connected successfully!!!\n"
     ]
    }
   ],
   "source": [
    "db = dbcon.connect(\"../credentials/mlab_db.txt\", \"mfp\")\n",
    "images_usgs_col = db[\"images_lib_usgs\"]"
   ]
  },
  {
   "cell_type": "markdown",
   "metadata": {},
   "source": [
    "### Load csv with labelled images"
   ]
  },
  {
   "cell_type": "code",
   "execution_count": 87,
   "metadata": {},
   "outputs": [],
   "source": [
    "df_labels = pd.DataFrame()\n",
    "for category in CATEGORIES:\n",
    "    df_labels = df_labels.append(pd.read_csv(subfolder_base_res + \"labels-\" + category + \".csv\"))                               "
   ]
  },
  {
   "cell_type": "markdown",
   "metadata": {},
   "source": [
    "### Query GIST"
   ]
  },
  {
   "cell_type": "code",
   "execution_count": 134,
   "metadata": {},
   "outputs": [
    {
     "name": "stdout",
     "output_type": "stream",
     "text": [
      "2858 query matches\n"
     ]
    }
   ],
   "source": [
    "GISTs = ['gist_' + factor for factor in ['0.3', '0_6', '1', '2', '3', '5', '10', '15', '20', '30']]\n",
    "DATASET = 'usgs_res0.3m_size1000'\n",
    "\n",
    "query = {\n",
    "    \"$and\" : [\n",
    "        {\"dataset\":  DATASET},\n",
    "        {\"gist_0_6\": {\"$exists\": True} }\n",
    "    ]  \n",
    "}\n",
    "images_metadata = [img_metadata for img_metadata in images_usgs_col.find(query)]\n",
    "print(len(images_metadata), \"query matches\")"
   ]
  },
  {
   "cell_type": "markdown",
   "metadata": {},
   "source": [
    "### Create DataFrame from GIST"
   ]
  },
  {
   "cell_type": "code",
   "execution_count": 135,
   "metadata": {},
   "outputs": [],
   "source": [
    "def create_df_from_metadata_usgs(metadata, columns):\n",
    "    metadata = [{ column: data[column] for column in columns } for data in metadata]\n",
    "    df = pd.DataFrame(metadata)\n",
    "    return df\n",
    "\n",
    "df_gist = create_df_from_metadata_usgs(images_metadata, ['filename'] + GISTs)"
   ]
  },
  {
   "cell_type": "markdown",
   "metadata": {},
   "source": [
    "### Join GIST with Labels"
   ]
  },
  {
   "cell_type": "code",
   "execution_count": 136,
   "metadata": {},
   "outputs": [],
   "source": [
    "df = df_gist.merge(df_labels, on = \"filename\")\n",
    "\n",
    "def df_array(df, gist):\n",
    "    return np.array([row for row in df[gist]])"
   ]
  },
  {
   "cell_type": "markdown",
   "metadata": {},
   "source": [
    "### Classification"
   ]
  },
  {
   "cell_type": "code",
   "execution_count": 196,
   "metadata": {},
   "outputs": [],
   "source": [
    "X_train, X_test, y_train, y_test = train_test_split(df_array(df,'gist_10'), df.label, test_size = 0.2)"
   ]
  },
  {
   "cell_type": "code",
   "execution_count": 197,
   "metadata": {},
   "outputs": [],
   "source": [
    "clf = LinearSVC(multi_class=\"crammer_singer\")# for multi class labels use multi_class=\"crammer_singer\""
   ]
  },
  {
   "cell_type": "code",
   "execution_count": 198,
   "metadata": {},
   "outputs": [
    {
     "data": {
      "text/plain": [
       "LinearSVC(C=1.0, class_weight=None, dual=True, fit_intercept=True,\n",
       "     intercept_scaling=1, loss='squared_hinge', max_iter=1000,\n",
       "     multi_class='crammer_singer', penalty='l2', random_state=None,\n",
       "     tol=0.0001, verbose=0)"
      ]
     },
     "execution_count": 198,
     "metadata": {},
     "output_type": "execute_result"
    }
   ],
   "source": [
    "clf.fit(X_train, y_train)"
   ]
  },
  {
   "cell_type": "code",
   "execution_count": 199,
   "metadata": {},
   "outputs": [],
   "source": [
    "y_pred = clf.predict(X_test)"
   ]
  },
  {
   "cell_type": "code",
   "execution_count": 200,
   "metadata": {},
   "outputs": [
    {
     "data": {
      "text/plain": [
       "array([[  2,   4,   0],\n",
       "       [  0,   0,   0],\n",
       "       [ 51,  32, 148]])"
      ]
     },
     "execution_count": 200,
     "metadata": {},
     "output_type": "execute_result"
    }
   ],
   "source": [
    "pd.DataFrame({\n",
    "        'y_pred': y_pred.tolist(),\n",
    "        'y_test': y_test\n",
    "})\n",
    "\n",
    "metrics.confusion_matrix(y_pred, y_test)"
   ]
  },
  {
   "cell_type": "code",
   "execution_count": 201,
   "metadata": {},
   "outputs": [
    {
     "data": {
      "text/plain": [
       "0.6329113924050633"
      ]
     },
     "execution_count": 201,
     "metadata": {},
     "output_type": "execute_result"
    }
   ],
   "source": [
    "metrics.accuracy_score(y_pred, y_test)"
   ]
  },
  {
   "cell_type": "code",
   "execution_count": null,
   "metadata": {},
   "outputs": [],
   "source": []
  }
 ],
 "metadata": {
  "kernelspec": {
   "display_name": "Python 3",
   "language": "python",
   "name": "python3"
  },
  "language_info": {
   "codemirror_mode": {
    "name": "ipython",
    "version": 3
   },
   "file_extension": ".py",
   "mimetype": "text/x-python",
   "name": "python",
   "nbconvert_exporter": "python",
   "pygments_lexer": "ipython3",
   "version": "3.6.8"
  }
 },
 "nbformat": 4,
 "nbformat_minor": 2
}
