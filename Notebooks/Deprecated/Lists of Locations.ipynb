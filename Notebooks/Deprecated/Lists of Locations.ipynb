{
 "cells": [
  {
   "cell_type": "markdown",
   "metadata": {},
   "source": [
    "# Lists of Locations"
   ]
  },
  {
   "cell_type": "markdown",
   "metadata": {},
   "source": [
    "## Central coordinates of all countries (centroids)\n",
    "\n",
    "* https://gis.stackexchange.com/questions/71921/list-of-central-coordinates-for-all-countries [CSV]"
   ]
  },
  {
   "cell_type": "code",
   "execution_count": 1,
   "metadata": {
    "scrolled": true
   },
   "outputs": [
    {
     "data": {
      "text/html": [
       "<div>\n",
       "<style scoped>\n",
       "    .dataframe tbody tr th:only-of-type {\n",
       "        vertical-align: middle;\n",
       "    }\n",
       "\n",
       "    .dataframe tbody tr th {\n",
       "        vertical-align: top;\n",
       "    }\n",
       "\n",
       "    .dataframe thead th {\n",
       "        text-align: right;\n",
       "    }\n",
       "</style>\n",
       "<table border=\"1\" class=\"dataframe\">\n",
       "  <thead>\n",
       "    <tr style=\"text-align: right;\">\n",
       "      <th></th>\n",
       "      <th>FID</th>\n",
       "      <th>the_geom</th>\n",
       "      <th>FID_</th>\n",
       "      <th>scalerank</th>\n",
       "      <th>featurecla</th>\n",
       "      <th>labelrank</th>\n",
       "      <th>sovereignt</th>\n",
       "      <th>sov_a3</th>\n",
       "      <th>adm0_dif</th>\n",
       "      <th>level</th>\n",
       "      <th>...</th>\n",
       "      <th>region_un</th>\n",
       "      <th>subregion</th>\n",
       "      <th>region_wb</th>\n",
       "      <th>name_len</th>\n",
       "      <th>long_len</th>\n",
       "      <th>abbrev_len</th>\n",
       "      <th>tiny</th>\n",
       "      <th>homepart</th>\n",
       "      <th>Longitude</th>\n",
       "      <th>Latitude</th>\n",
       "    </tr>\n",
       "  </thead>\n",
       "  <tbody>\n",
       "    <tr>\n",
       "      <th>0</th>\n",
       "      <td>country_centroids_az8.1</td>\n",
       "      <td>POINT (-69.9826771125 12.5208803838)</td>\n",
       "      <td>0</td>\n",
       "      <td>3</td>\n",
       "      <td>Admin-0 country</td>\n",
       "      <td>5</td>\n",
       "      <td>Netherlands</td>\n",
       "      <td>NL1</td>\n",
       "      <td>1</td>\n",
       "      <td>2</td>\n",
       "      <td>...</td>\n",
       "      <td>Americas</td>\n",
       "      <td>Caribbean</td>\n",
       "      <td>Latin America &amp; Caribbean</td>\n",
       "      <td>5</td>\n",
       "      <td>5</td>\n",
       "      <td>5</td>\n",
       "      <td>4</td>\n",
       "      <td>-99</td>\n",
       "      <td>-69.982677</td>\n",
       "      <td>12.520880</td>\n",
       "    </tr>\n",
       "    <tr>\n",
       "      <th>1</th>\n",
       "      <td>country_centroids_az8.2</td>\n",
       "      <td>POINT (66.0047336558 33.8352307278)</td>\n",
       "      <td>1</td>\n",
       "      <td>1</td>\n",
       "      <td>Admin-0 country</td>\n",
       "      <td>3</td>\n",
       "      <td>Afghanistan</td>\n",
       "      <td>AFG</td>\n",
       "      <td>0</td>\n",
       "      <td>2</td>\n",
       "      <td>...</td>\n",
       "      <td>Asia</td>\n",
       "      <td>Southern Asia</td>\n",
       "      <td>South Asia</td>\n",
       "      <td>11</td>\n",
       "      <td>11</td>\n",
       "      <td>4</td>\n",
       "      <td>-99</td>\n",
       "      <td>1</td>\n",
       "      <td>66.004734</td>\n",
       "      <td>33.835231</td>\n",
       "    </tr>\n",
       "    <tr>\n",
       "      <th>2</th>\n",
       "      <td>country_centroids_az8.3</td>\n",
       "      <td>POINT (17.5373676815 -12.2933605438)</td>\n",
       "      <td>2</td>\n",
       "      <td>1</td>\n",
       "      <td>Admin-0 country</td>\n",
       "      <td>3</td>\n",
       "      <td>Angola</td>\n",
       "      <td>AGO</td>\n",
       "      <td>0</td>\n",
       "      <td>2</td>\n",
       "      <td>...</td>\n",
       "      <td>Africa</td>\n",
       "      <td>Middle Africa</td>\n",
       "      <td>Sub-Saharan Africa</td>\n",
       "      <td>6</td>\n",
       "      <td>6</td>\n",
       "      <td>4</td>\n",
       "      <td>-99</td>\n",
       "      <td>1</td>\n",
       "      <td>17.537368</td>\n",
       "      <td>-12.293361</td>\n",
       "    </tr>\n",
       "    <tr>\n",
       "      <th>3</th>\n",
       "      <td>country_centroids_az8.4</td>\n",
       "      <td>POINT (-63.0649892654 18.2239595023)</td>\n",
       "      <td>3</td>\n",
       "      <td>1</td>\n",
       "      <td>Admin-0 country</td>\n",
       "      <td>6</td>\n",
       "      <td>United Kingdom</td>\n",
       "      <td>GB1</td>\n",
       "      <td>1</td>\n",
       "      <td>2</td>\n",
       "      <td>...</td>\n",
       "      <td>Americas</td>\n",
       "      <td>Caribbean</td>\n",
       "      <td>Latin America &amp; Caribbean</td>\n",
       "      <td>8</td>\n",
       "      <td>8</td>\n",
       "      <td>4</td>\n",
       "      <td>-99</td>\n",
       "      <td>-99</td>\n",
       "      <td>-63.064989</td>\n",
       "      <td>18.223959</td>\n",
       "    </tr>\n",
       "    <tr>\n",
       "      <th>4</th>\n",
       "      <td>country_centroids_az8.5</td>\n",
       "      <td>POINT (20.0498339611 41.1424498947)</td>\n",
       "      <td>4</td>\n",
       "      <td>1</td>\n",
       "      <td>Admin-0 country</td>\n",
       "      <td>6</td>\n",
       "      <td>Albania</td>\n",
       "      <td>ALB</td>\n",
       "      <td>0</td>\n",
       "      <td>2</td>\n",
       "      <td>...</td>\n",
       "      <td>Europe</td>\n",
       "      <td>Southern Europe</td>\n",
       "      <td>Europe &amp; Central Asia</td>\n",
       "      <td>7</td>\n",
       "      <td>7</td>\n",
       "      <td>4</td>\n",
       "      <td>-99</td>\n",
       "      <td>1</td>\n",
       "      <td>20.049834</td>\n",
       "      <td>41.142450</td>\n",
       "    </tr>\n",
       "  </tbody>\n",
       "</table>\n",
       "<p>5 rows × 68 columns</p>\n",
       "</div>"
      ],
      "text/plain": [
       "                       FID                              the_geom  FID_  \\\n",
       "0  country_centroids_az8.1  POINT (-69.9826771125 12.5208803838)     0   \n",
       "1  country_centroids_az8.2   POINT (66.0047336558 33.8352307278)     1   \n",
       "2  country_centroids_az8.3  POINT (17.5373676815 -12.2933605438)     2   \n",
       "3  country_centroids_az8.4  POINT (-63.0649892654 18.2239595023)     3   \n",
       "4  country_centroids_az8.5   POINT (20.0498339611 41.1424498947)     4   \n",
       "\n",
       "   scalerank       featurecla  labelrank      sovereignt sov_a3  adm0_dif  \\\n",
       "0          3  Admin-0 country          5     Netherlands    NL1         1   \n",
       "1          1  Admin-0 country          3     Afghanistan    AFG         0   \n",
       "2          1  Admin-0 country          3          Angola    AGO         0   \n",
       "3          1  Admin-0 country          6  United Kingdom    GB1         1   \n",
       "4          1  Admin-0 country          6         Albania    ALB         0   \n",
       "\n",
       "   level    ...     region_un        subregion                  region_wb  \\\n",
       "0      2    ...      Americas        Caribbean  Latin America & Caribbean   \n",
       "1      2    ...          Asia    Southern Asia                 South Asia   \n",
       "2      2    ...        Africa    Middle Africa         Sub-Saharan Africa   \n",
       "3      2    ...      Americas        Caribbean  Latin America & Caribbean   \n",
       "4      2    ...        Europe  Southern Europe      Europe & Central Asia   \n",
       "\n",
       "   name_len long_len abbrev_len  tiny homepart  Longitude   Latitude  \n",
       "0         5        5          5     4      -99 -69.982677  12.520880  \n",
       "1        11       11          4   -99        1  66.004734  33.835231  \n",
       "2         6        6          4   -99        1  17.537368 -12.293361  \n",
       "3         8        8          4   -99      -99 -63.064989  18.223959  \n",
       "4         7        7          4   -99        1  20.049834  41.142450  \n",
       "\n",
       "[5 rows x 68 columns]"
      ]
     },
     "execution_count": 1,
     "metadata": {},
     "output_type": "execute_result"
    }
   ],
   "source": [
    "import pandas as pd\n",
    "\n",
    "centroids = pd.read_csv(\"../data/centroids.csv\")\n",
    "centroids.head()"
   ]
  },
  {
   "cell_type": "code",
   "execution_count": 2,
   "metadata": {},
   "outputs": [
    {
     "data": {
      "text/plain": [
       "Index(['FID', 'the_geom', 'FID_', 'scalerank', 'featurecla', 'labelrank',\n",
       "       'sovereignt', 'sov_a3', 'adm0_dif', 'level', 'type', 'admin', 'adm0_a3',\n",
       "       'geou_dif', 'geounit', 'gu_a3', 'su_dif', 'subunit', 'su_a3',\n",
       "       'brk_diff', 'name', 'name_long', 'brk_a3', 'brk_name', 'brk_group',\n",
       "       'abbrev', 'postal', 'formal_en', 'formal_fr', 'note_adm0', 'note_brk',\n",
       "       'name_sort', 'name_alt', 'mapcolor7', 'mapcolor8', 'mapcolor9',\n",
       "       'mapcolor13', 'pop_est', 'gdp_md_est', 'pop_year', 'lastcensus',\n",
       "       'gdp_year', 'economy', 'income_grp', 'wikipedia', 'fips_10', 'iso_a2',\n",
       "       'iso_a3', 'iso_n3', 'un_a3', 'wb_a2', 'wb_a3', 'woe_id', 'adm0_a3_is',\n",
       "       'adm0_a3_us', 'adm0_a3_un', 'adm0_a3_wb', 'continent', 'region_un',\n",
       "       'subregion', 'region_wb', 'name_len', 'long_len', 'abbrev_len', 'tiny',\n",
       "       'homepart', 'Longitude', 'Latitude'],\n",
       "      dtype='object')"
      ]
     },
     "execution_count": 2,
     "metadata": {},
     "output_type": "execute_result"
    }
   ],
   "source": [
    "centroids.columns"
   ]
  },
  {
   "cell_type": "code",
   "execution_count": 15,
   "metadata": {},
   "outputs": [
    {
     "data": {
      "text/html": [
       "<div>\n",
       "<style scoped>\n",
       "    .dataframe tbody tr th:only-of-type {\n",
       "        vertical-align: middle;\n",
       "    }\n",
       "\n",
       "    .dataframe tbody tr th {\n",
       "        vertical-align: top;\n",
       "    }\n",
       "\n",
       "    .dataframe thead th {\n",
       "        text-align: right;\n",
       "    }\n",
       "</style>\n",
       "<table border=\"1\" class=\"dataframe\">\n",
       "  <thead>\n",
       "    <tr style=\"text-align: right;\">\n",
       "      <th></th>\n",
       "      <th>CountryName</th>\n",
       "      <th>Latitude</th>\n",
       "      <th>Longitude</th>\n",
       "    </tr>\n",
       "  </thead>\n",
       "  <tbody>\n",
       "    <tr>\n",
       "      <th>0</th>\n",
       "      <td>Aruba</td>\n",
       "      <td>12.520880</td>\n",
       "      <td>-69.982677</td>\n",
       "    </tr>\n",
       "    <tr>\n",
       "      <th>1</th>\n",
       "      <td>Afghanistan</td>\n",
       "      <td>33.835231</td>\n",
       "      <td>66.004734</td>\n",
       "    </tr>\n",
       "    <tr>\n",
       "      <th>2</th>\n",
       "      <td>Angola</td>\n",
       "      <td>-12.293361</td>\n",
       "      <td>17.537368</td>\n",
       "    </tr>\n",
       "    <tr>\n",
       "      <th>3</th>\n",
       "      <td>Anguilla</td>\n",
       "      <td>18.223959</td>\n",
       "      <td>-63.064989</td>\n",
       "    </tr>\n",
       "    <tr>\n",
       "      <th>4</th>\n",
       "      <td>Albania</td>\n",
       "      <td>41.142450</td>\n",
       "      <td>20.049834</td>\n",
       "    </tr>\n",
       "  </tbody>\n",
       "</table>\n",
       "</div>"
      ],
      "text/plain": [
       "   CountryName   Latitude  Longitude\n",
       "0        Aruba  12.520880 -69.982677\n",
       "1  Afghanistan  33.835231  66.004734\n",
       "2       Angola -12.293361  17.537368\n",
       "3     Anguilla  18.223959 -63.064989\n",
       "4      Albania  41.142450  20.049834"
      ]
     },
     "execution_count": 15,
     "metadata": {},
     "output_type": "execute_result"
    }
   ],
   "source": [
    "centroids_clean = centroids[[\"name\",\"Latitude\",\"Longitude\"]]\n",
    "centroids_clean.columns = [\"CountryName\",\"Latitude\",\"Longitude\"]\n",
    "centroids_clean.head()"
   ]
  },
  {
   "cell_type": "code",
   "execution_count": 22,
   "metadata": {
    "scrolled": true
   },
   "outputs": [
    {
     "name": "stdout",
     "output_type": "stream",
     "text": [
      "[{'CountryName': 'Aruba', 'Latitude': 12.52088038, 'Longitude': -69.98267711}, {'CountryName': 'Afghanistan', 'Latitude': 33.83523073, 'Longitude': 66.00473366}, {'CountryName': 'Angola', 'Latitude': -12.29336054, 'Longitude': 17.53736768}, {'CountryName': 'Anguilla', 'Latitude': 18.2239595, 'Longitude': -63.06498927}, {'CountryName': 'Albania', 'Latitude': 41.14244989, 'Longitude': 20.04983396}, {'CountryName': 'Aland', 'Latitude': 60.21488688, 'Longitude': 19.95328768}, {'CountryName': 'Andorra', 'Latitude': 42.54229102, 'Longitude': 1.56054378}, {'CountryName': 'United Arab Emirates', 'Latitude': 23.90528188, 'Longitude': 54.300167099999996}, {'CountryName': 'Argentina', 'Latitude': -35.3813488, 'Longitude': -65.17980692}, {'CountryName': 'Armenia', 'Latitude': 40.28952569, 'Longitude': 44.92993276}, {'CountryName': 'American Samoa', 'Latitude': -14.30445997, 'Longitude': -170.71802575}, {'CountryName': 'Antarctica', 'Latitude': -80.50857913, 'Longitude': 19.92108951}, {'CountryName': 'Ashmore and Cartier Is.', 'Latitude': -12.42993164, 'Longitude': 123.58383789}, {'CountryName': 'Fr. S. Antarctic Lands', 'Latitude': -49.24895485, 'Longitude': 69.22666758}, {'CountryName': 'Antigua and Barb.', 'Latitude': 17.277499600000002, 'Longitude': -61.79469343}, {'CountryName': 'Australia', 'Latitude': -25.73288704, 'Longitude': 134.49100008}, {'CountryName': 'Austria', 'Latitude': 47.58549439, 'Longitude': 14.1264761}, {'CountryName': 'Azerbaijan', 'Latitude': 40.28827235, 'Longitude': 47.54599879}, {'CountryName': 'Burundi', 'Latitude': -3.35939666, 'Longitude': 29.87512156}, {'CountryName': 'Belgium', 'Latitude': 50.63981576, 'Longitude': 4.64065114}, {'CountryName': 'Benin', 'Latitude': 9.6417597, 'Longitude': 2.32785254}, {'CountryName': 'Burkina Faso', 'Latitude': 12.26953846, 'Longitude': -1.75456601}, {'CountryName': 'Bangladesh', 'Latitude': 23.86731158, 'Longitude': 90.23812743}, {'CountryName': 'Bulgaria', 'Latitude': 42.76890318, 'Longitude': 25.21552909}, {'CountryName': 'Bahrain', 'Latitude': 26.04205135, 'Longitude': 50.54196932}, {'CountryName': 'Canada', 'Latitude': 61.36206324, 'Longitude': -98.30777028}, {'CountryName': 'Bahamas', 'Latitude': 24.29036702, 'Longitude': -76.62843038}, {'CountryName': 'Bosnia and Herz.', 'Latitude': 44.17450125, 'Longitude': 17.76876733}, {'CountryName': 'St-BarthÃ©lemy', 'Latitude': 17.89880451, 'Longitude': -62.84067779}, {'CountryName': 'Belarus', 'Latitude': 53.53131377, 'Longitude': 28.03209307}, {'CountryName': 'Belize', 'Latitude': 17.20027509, 'Longitude': -88.71010486}, {'CountryName': 'Bermuda', 'Latitude': 32.31367802, 'Longitude': -64.7545589}, {'CountryName': 'Bolivia', 'Latitude': -16.70814787, 'Longitude': -64.68538645}, {'CountryName': 'Brazil', 'Latitude': -10.78777702, 'Longitude': -53.09783113}, {'CountryName': 'Barbados', 'Latitude': 13.18145428, 'Longitude': -59.559796999999996}, {'CountryName': 'Brunei', 'Latitude': 4.51968958, 'Longitude': 114.72203035}, {'CountryName': 'Bhutan', 'Latitude': 27.41106589, 'Longitude': 90.40188155}, {'CountryName': 'Botswana', 'Latitude': -22.18403213, 'Longitude': 23.79853368}, {'CountryName': 'Central African Rep.', 'Latitude': 6.56823297, 'Longitude': 20.46826831}, {'CountryName': 'Switzerland', 'Latitude': 46.79785878, 'Longitude': 8.20867471}, {'CountryName': 'Chile', 'Latitude': -37.73070989, 'Longitude': -71.38256213}, {'CountryName': 'China', 'Latitude': 36.56176546, 'Longitude': 103.81907349}, {'CountryName': \"CÃ´te d'Ivoire\", 'Latitude': 7.6284262, 'Longitude': -5.5692157}, {'CountryName': 'Cameroon', 'Latitude': 5.69109849, 'Longitude': 12.73964156}, {'CountryName': 'Dem. Rep. Congo', 'Latitude': -2.87746289, 'Longitude': 23.64396107}, {'CountryName': 'Congo', 'Latitude': -0.83787463, 'Longitude': 15.21965762}, {'CountryName': 'Cook Is.', 'Latitude': -21.21927288, 'Longitude': -159.78724218}, {'CountryName': 'Colombia', 'Latitude': 3.91383431, 'Longitude': -73.08114582}, {'CountryName': 'Comoros', 'Latitude': -11.87783444, 'Longitude': 43.68253968}, {'CountryName': 'Cape Verde', 'Latitude': 15.95523324, 'Longitude': -23.959888199999998}, {'CountryName': 'Costa Rica', 'Latitude': 9.97634464, 'Longitude': -84.19208768}, {'CountryName': 'Cuba', 'Latitude': 21.62289528, 'Longitude': -79.01605384}, {'CountryName': 'CuraÃ§ao', 'Latitude': 12.19551675, 'Longitude': -68.97119369}, {'CountryName': 'Cayman Is.', 'Latitude': 19.42896497, 'Longitude': -80.91213321}, {'CountryName': 'N. Cyprus', 'Latitude': 35.26277486, 'Longitude': 33.568481299999995}, {'CountryName': 'Cyprus', 'Latitude': 34.91667211, 'Longitude': 33.0060022}, {'CountryName': 'Czech Rep.', 'Latitude': 49.73341233, 'Longitude': 15.31240163}, {'CountryName': 'Germany', 'Latitude': 51.10698181, 'Longitude': 10.38578051}, {'CountryName': 'Djibouti', 'Latitude': 11.74871806, 'Longitude': 42.560675399999994}, {'CountryName': 'Dominica', 'Latitude': 15.439470199999999, 'Longitude': -61.357726}, {'CountryName': 'Denmark', 'Latitude': 55.98125296, 'Longitude': 10.02800992}, {'CountryName': 'Dominican Rep.', 'Latitude': 18.89433082, 'Longitude': -70.50568896}, {'CountryName': 'Algeria', 'Latitude': 28.15893849, 'Longitude': 2.61732301}, {'CountryName': 'Ecuador', 'Latitude': -1.42381612, 'Longitude': -78.75201922}, {'CountryName': 'Egypt', 'Latitude': 26.49593311, 'Longitude': 29.86190099}, {'CountryName': 'Eritrea', 'Latitude': 15.36186618, 'Longitude': 38.84617011}, {'CountryName': 'Spain', 'Latitude': 40.24448698, 'Longitude': -3.64755047}, {'CountryName': 'Estonia', 'Latitude': 58.67192972, 'Longitude': 25.54248537}, {'CountryName': 'Ethiopia', 'Latitude': 8.62278679, 'Longitude': 39.60080098}, {'CountryName': 'Finland', 'Latitude': 64.49884603, 'Longitude': 26.274665600000002}, {'CountryName': 'Fiji', 'Latitude': -17.42858032, 'Longitude': 165.45195432}, {'CountryName': 'Falkland Is.', 'Latitude': -51.74483954, 'Longitude': -59.35238956}, {'CountryName': 'France', 'Latitude': 42.17344011, 'Longitude': -2.76172945}, {'CountryName': 'Faeroe Is.', 'Latitude': 62.05385403, 'Longitude': -6.88095423}, {'CountryName': 'Micronesia', 'Latitude': 7.45246814, 'Longitude': 153.23943792}, {'CountryName': 'Gabon', 'Latitude': -0.58660025, 'Longitude': 11.7886287}, {'CountryName': 'United Kingdom', 'Latitude': 54.12387156, 'Longitude': -2.86563164}, {'CountryName': 'Georgia', 'Latitude': 42.16855755, 'Longitude': 43.50780252}, {'CountryName': 'Guernsey', 'Latitude': 49.46809761, 'Longitude': -2.57239064}, {'CountryName': 'Ghana', 'Latitude': 7.95345644, 'Longitude': -1.21676566}, {'CountryName': 'Guinea', 'Latitude': 10.43621593, 'Longitude': -10.94066612}, {'CountryName': 'Gambia', 'Latitude': 13.44965244, 'Longitude': -15.39601295}, {'CountryName': 'Guinea-Bissau', 'Latitude': 12.04744948, 'Longitude': -14.94972445}, {'CountryName': 'Eq. Guinea', 'Latitude': 1.70555135, 'Longitude': 10.34137924}, {'CountryName': 'Greece', 'Latitude': 39.07469623, 'Longitude': 22.95555794}, {'CountryName': 'Grenada', 'Latitude': 12.11725044, 'Longitude': -61.68220189}, {'CountryName': 'Greenland', 'Latitude': 74.71051289, 'Longitude': -41.34191127}, {'CountryName': 'Guatemala', 'Latitude': 15.69403664, 'Longitude': -90.36482009}, {'CountryName': 'Guam', 'Latitude': 13.44165626, 'Longitude': 144.76791022}, {'CountryName': 'Guyana', 'Latitude': 4.79378034, 'Longitude': -58.98202459}, {'CountryName': 'Hong Kong', 'Latitude': 22.39827737, 'Longitude': 114.11380454}, {'CountryName': 'Heard I. and McDonald Is.', 'Latitude': -53.08724656, 'Longitude': 73.52051709999999}, {'CountryName': 'Honduras', 'Latitude': 14.82688165, 'Longitude': -86.6151661}, {'CountryName': 'Croatia', 'Latitude': 45.08047631, 'Longitude': 16.40412899}, {'CountryName': 'Haiti', 'Latitude': 18.93502563, 'Longitude': -72.68527509}, {'CountryName': 'Hungary', 'Latitude': 47.16277506, 'Longitude': 19.39559116}, {'CountryName': 'Indonesia', 'Latitude': -2.21505456, 'Longitude': 117.24011366}, {'CountryName': 'Isle of Man', 'Latitude': 54.22418911, 'Longitude': -4.53873952}, {'CountryName': 'India', 'Latitude': 22.88578212, 'Longitude': 79.61197609999999}, {'CountryName': 'Indian Ocean Ter.', 'Latitude': -10.6478515, 'Longitude': 104.85189795}, {'CountryName': 'Br. Indian Ocean Ter.', 'Latitude': -7.33059751, 'Longitude': 72.44541229}, {'CountryName': 'Ireland', 'Latitude': 53.17544870000001, 'Longitude': -8.13793569}, {'CountryName': 'Iran', 'Latitude': 32.57503292, 'Longitude': 54.27407004}, {'CountryName': 'Iraq', 'Latitude': 33.03970582, 'Longitude': 43.74353149}, {'CountryName': 'Iceland', 'Latitude': 64.99575386, 'Longitude': -18.57396167}, {'CountryName': 'Israel', 'Latitude': 31.46110101, 'Longitude': 35.00444693}, {'CountryName': 'Italy', 'Latitude': 42.79662641, 'Longitude': 12.07001339}, {'CountryName': 'Jamaica', 'Latitude': 18.15694878, 'Longitude': -77.31482593}, {'CountryName': 'Jersey', 'Latitude': 49.21837377, 'Longitude': -2.12689938}, {'CountryName': 'Jordan', 'Latitude': 31.24579091, 'Longitude': 36.77136104}, {'CountryName': 'Japan', 'Latitude': 37.59230135, 'Longitude': 138.03089558}, {'CountryName': 'Siachen Glacier', 'Latitude': 35.39236325, 'Longitude': 77.18011865}, {'CountryName': 'Kazakhstan', 'Latitude': 48.15688067, 'Longitude': 67.29149357}, {'CountryName': 'Kenya', 'Latitude': 0.59988022, 'Longitude': 37.79593973}, {'CountryName': 'Kyrgyzstan', 'Latitude': 41.46221943, 'Longitude': 74.54165513}, {'CountryName': 'Cambodia', 'Latitude': 12.72004786, 'Longitude': 104.90694325}, {'CountryName': 'Kiribati', 'Latitude': 0.86001503, 'Longitude': -45.61110513}, {'CountryName': 'St. Kitts and Nevis', 'Latitude': 17.2645995, 'Longitude': -62.68755265}, {'CountryName': 'Korea', 'Latitude': 36.38523983, 'Longitude': 127.83916086}, {'CountryName': 'Kosovo', 'Latitude': 42.57078707, 'Longitude': 20.87249811}, {'CountryName': 'Kuwait', 'Latitude': 29.33431262, 'Longitude': 47.58700459}, {'CountryName': 'Lao PDR', 'Latitude': 18.50217433, 'Longitude': 103.73772412}, {'CountryName': 'Lebanon', 'Latitude': 33.92306631, 'Longitude': 35.88016072}, {'CountryName': 'Liberia', 'Latitude': 6.45278492, 'Longitude': -9.32207573}, {'CountryName': 'Libya', 'Latitude': 27.03094495, 'Longitude': 18.00866169}, {'CountryName': 'Saint Lucia', 'Latitude': 13.89479481, 'Longitude': -60.96969923}, {'CountryName': 'Liechtenstein', 'Latitude': 47.13665835, 'Longitude': 9.53574312}, {'CountryName': 'Sri Lanka', 'Latitude': 7.61266509, 'Longitude': 80.70108238}, {'CountryName': 'Lesotho', 'Latitude': -29.58003188, 'Longitude': 28.22723131}, {'CountryName': 'Lithuania', 'Latitude': 55.32610984, 'Longitude': 23.88719355}, {'CountryName': 'Luxembourg', 'Latitude': 49.76725361, 'Longitude': 6.07182201}, {'CountryName': 'Latvia', 'Latitude': 56.85085163, 'Longitude': 24.91235983}, {'CountryName': 'Macao', 'Latitude': 22.22311688, 'Longitude': 113.50932116}, {'CountryName': 'St-Martin', 'Latitude': 18.08888611, 'Longitude': -63.05972851}, {'CountryName': 'Morocco', 'Latitude': 29.83762955, 'Longitude': -8.45615795}, {'CountryName': 'Monaco', 'Latitude': 43.75274627, 'Longitude': 7.40627677}, {'CountryName': 'Moldova', 'Latitude': 47.19498804, 'Longitude': 28.45673372}, {'CountryName': 'Madagascar', 'Latitude': -19.37189587, 'Longitude': 46.70473674}, {'CountryName': 'Maldives', 'Latitude': 3.7287092000000004, 'Longitude': 73.45713004}, {'CountryName': 'Mexico', 'Latitude': 23.94753724, 'Longitude': -102.52345169}, {'CountryName': 'Marshall Is.', 'Latitude': 7.00376358, 'Longitude': 170.33976122}, {'CountryName': 'Macedonia', 'Latitude': 41.59530893, 'Longitude': 21.68211346}, {'CountryName': 'Mali', 'Latitude': 17.34581581, 'Longitude': -3.54269065}, {'CountryName': 'Malta', 'Latitude': 35.92149632, 'Longitude': 14.40523316}, {'CountryName': 'Myanmar', 'Latitude': 21.18566599, 'Longitude': 96.48843321}, {'CountryName': 'Montenegro', 'Latitude': 42.78890259, 'Longitude': 19.23883939}, {'CountryName': 'Mongolia', 'Latitude': 46.82681544, 'Longitude': 103.05299765}, {'CountryName': 'N. Mariana Is.', 'Latitude': 15.82927563, 'Longitude': 145.61969651}, {'CountryName': 'Mozambique', 'Latitude': -17.27381643, 'Longitude': 35.53367543}, {'CountryName': 'Mauritania', 'Latitude': 20.25736706, 'Longitude': -10.34779815}, {'CountryName': 'Montserrat', 'Latitude': 16.73941406, 'Longitude': -62.18518546}, {'CountryName': 'Mauritius', 'Latitude': -20.27768704, 'Longitude': 57.57120551}, {'CountryName': 'Malawi', 'Latitude': -13.21808088, 'Longitude': 34.28935599}, {'CountryName': 'Malaysia', 'Latitude': 3.78986846, 'Longitude': 109.69762284}, {'CountryName': 'Namibia', 'Latitude': -22.13032568, 'Longitude': 17.20963567}, {'CountryName': 'New Caledonia', 'Latitude': -21.29991806, 'Longitude': 165.68492374}, {'CountryName': 'Niger', 'Latitude': 17.41912493, 'Longitude': 9.38545882}, {'CountryName': 'Norfolk Island', 'Latitude': -29.0514609, 'Longitude': 167.94921678}, {'CountryName': 'Nigeria', 'Latitude': 9.59411452, 'Longitude': 8.08943895}, {'CountryName': 'Nicaragua', 'Latitude': 12.84709429, 'Longitude': -85.0305297}, {'CountryName': 'Niue', 'Latitude': -19.04945708, 'Longitude': -169.86994682}, {'CountryName': 'Netherlands', 'Latitude': 52.100789899999995, 'Longitude': 5.28144793}, {'CountryName': 'Norway', 'Latitude': 68.75015572, 'Longitude': 15.34834656}, {'CountryName': 'Nepal', 'Latitude': 28.24891365, 'Longitude': 83.91582640000001}, {'CountryName': 'Nauru', 'Latitude': -0.51912639, 'Longitude': 166.93256823}, {'CountryName': 'New Zealand', 'Latitude': -41.81113557, 'Longitude': 171.48492347}, {'CountryName': 'Oman', 'Latitude': 20.60515333, 'Longitude': 56.09166155}, {'CountryName': 'Pakistan', 'Latitude': 29.9497515, 'Longitude': 69.33957937}, {'CountryName': 'Panama', 'Latitude': 8.51750797, 'Longitude': -80.11915156}, {'CountryName': 'Pitcairn Is.', 'Latitude': -24.36500535, 'Longitude': -128.31704202}, {'CountryName': 'Peru', 'Latitude': -9.15280381, 'Longitude': -74.38242685}, {'CountryName': 'Philippines', 'Latitude': 11.77536778, 'Longitude': 122.88393253}, {'CountryName': 'Palau', 'Latitude': 7.28742784, 'Longitude': 134.40807966}, {'CountryName': 'Papua New Guinea', 'Latitude': -6.46416646, 'Longitude': 145.20744752}, {'CountryName': 'Poland', 'Latitude': 52.12759564, 'Longitude': 19.39012835}, {'CountryName': 'Puerto Rico', 'Latitude': 18.22813055, 'Longitude': -66.47307604}, {'CountryName': 'Dem. Rep. Korea', 'Latitude': 40.15350311, 'Longitude': 127.19247973}, {'CountryName': 'Portugal', 'Latitude': 39.59550671, 'Longitude': -8.50104361}, {'CountryName': 'Paraguay', 'Latitude': -23.22823913, 'Longitude': -58.40013703}, {'CountryName': 'Palestine', 'Latitude': 31.91613893, 'Longitude': 35.19628705}, {'CountryName': 'Fr. Polynesia', 'Latitude': -14.72227409, 'Longitude': -144.90494387}, {'CountryName': 'Qatar', 'Latitude': 25.30601188, 'Longitude': 51.18479632}, {'CountryName': 'Romania', 'Latitude': 45.85243127, 'Longitude': 24.97293039}, {'CountryName': 'Russia', 'Latitude': 61.98052209, 'Longitude': 96.68656112}, {'CountryName': 'Rwanda', 'Latitude': -1.99033832, 'Longitude': 29.91988515}, {'CountryName': 'W. Sahara', 'Latitude': 24.22956739, 'Longitude': -12.21982755}, {'CountryName': 'Saudi Arabia', 'Latitude': 24.12245841, 'Longitude': 44.53686271}, {'CountryName': 'Sudan', 'Latitude': 15.99035669, 'Longitude': 29.94046812}, {'CountryName': 'S. Sudan', 'Latitude': 7.30877945, 'Longitude': 30.24790002}, {'CountryName': 'Senegal', 'Latitude': 14.36624173, 'Longitude': -14.4734924}, {'CountryName': 'Singapore', 'Latitude': 1.35876087, 'Longitude': 103.81725592}, {'CountryName': 'S. Geo. and S. Sandw. Is.', 'Latitude': -54.46488248, 'Longitude': -36.43318388}, {'CountryName': 'Saint Helena', 'Latitude': -12.40355951, 'Longitude': -9.54779416}, {'CountryName': 'Solomon Is.', 'Latitude': -8.92178022, 'Longitude': 159.63287668}, {'CountryName': 'Sierra Leone', 'Latitude': 8.56329593, 'Longitude': -11.79271247}, {'CountryName': 'El Salvador', 'Latitude': 13.73943744, 'Longitude': -88.87164469}, {'CountryName': 'San Marino', 'Latitude': 43.94186747, 'Longitude': 12.45922334}, {'CountryName': 'Somaliland', 'Latitude': 9.73345496, 'Longitude': 46.25198395}, {'CountryName': 'Somalia', 'Latitude': 4.75062876, 'Longitude': 45.70714487}, {'CountryName': 'St. Pierre and Miquelon', 'Latitude': 46.91918789, 'Longitude': -56.30319779}, {'CountryName': 'Serbia', 'Latitude': 44.2215032, 'Longitude': 20.78958334}, {'CountryName': 'SÃ£o TomÃ© and Principe', 'Latitude': 0.44391445, 'Longitude': 6.72429658}, {'CountryName': 'Suriname', 'Latitude': 4.13055413, 'Longitude': -55.9123457}, {'CountryName': 'Slovakia', 'Latitude': 48.70547528, 'Longitude': 19.47905218}, {'CountryName': 'Slovenia', 'Latitude': 46.11554772, 'Longitude': 14.80444238}, {'CountryName': 'Sweden', 'Latitude': 62.77966519, 'Longitude': 16.74558049}, {'CountryName': 'Swaziland', 'Latitude': -26.55843045, 'Longitude': 31.4819369}, {'CountryName': 'Sint Maarten', 'Latitude': 18.05081728, 'Longitude': -63.05713363}, {'CountryName': 'Seychelles', 'Latitude': -4.66099094, 'Longitude': 55.47603279}, {'CountryName': 'Syria', 'Latitude': 35.02547389, 'Longitude': 38.50788204}, {'CountryName': 'Turks and Caicos Is.', 'Latitude': 21.83047572, 'Longitude': -71.97387881}, {'CountryName': 'Chad', 'Latitude': 15.33333758, 'Longitude': 18.64492513}, {'CountryName': 'Togo', 'Latitude': 8.52531356, 'Longitude': 0.96232845}, {'CountryName': 'Thailand', 'Latitude': 15.11815794, 'Longitude': 101.0028813}, {'CountryName': 'Tajikistan', 'Latitude': 38.5304539, 'Longitude': 71.01362631}, {'CountryName': 'Turkmenistan', 'Latitude': 39.11554137, 'Longitude': 59.37100021}, {'CountryName': 'Timor-Leste', 'Latitude': -8.82889162, 'Longitude': 125.84438982}, {'CountryName': 'Tonga', 'Latitude': -20.42843174, 'Longitude': -174.80987341}, {'CountryName': 'Trinidad and Tobago', 'Latitude': 10.45733408, 'Longitude': -61.26567923}, {'CountryName': 'Tunisia', 'Latitude': 34.11956246, 'Longitude': 9.55288359}, {'CountryName': 'Turkey', 'Latitude': 39.0616029, 'Longitude': 35.16895346}, {'CountryName': 'Taiwan', 'Latitude': 23.753992800000002, 'Longitude': 120.95427281}, {'CountryName': 'Tanzania', 'Latitude': -6.27565408, 'Longitude': 34.81309981}, {'CountryName': 'Uganda', 'Latitude': 1.27469299, 'Longitude': 32.36907971}, {'CountryName': 'Ukraine', 'Latitude': 48.99656673, 'Longitude': 31.38326469}, {'CountryName': 'Uruguay', 'Latitude': -32.79951534, 'Longitude': -56.01807053}, {'CountryName': 'United States', 'Latitude': 45.6795472, 'Longitude': -112.46167369999999}, {'CountryName': 'Uzbekistan', 'Latitude': 41.75554225, 'Longitude': 63.14001528}, {'CountryName': 'Vatican', 'Latitude': 41.90174985, 'Longitude': 12.43387177}, {'CountryName': 'St. Vin. and Gren.', 'Latitude': 13.22472269, 'Longitude': -61.20129695}, {'CountryName': 'Venezuela', 'Latitude': 7.12422421, 'Longitude': -66.18184123}, {'CountryName': 'British Virgin Is.', 'Latitude': 18.52585755, 'Longitude': -64.47146992}, {'CountryName': 'U.S. Virgin Is.', 'Latitude': 17.95500624, 'Longitude': -64.80301538}, {'CountryName': 'Vietnam', 'Latitude': 16.646016699999997, 'Longitude': 106.29914698}, {'CountryName': 'Vanuatu', 'Latitude': -16.22640909, 'Longitude': 167.68644636}, {'CountryName': 'Wallis and Futuna Is.', 'Latitude': -13.88737039, 'Longitude': -177.34834825}, {'CountryName': 'Samoa', 'Latitude': -13.75324346, 'Longitude': -172.16485064}, {'CountryName': 'Yemen', 'Latitude': 15.90928005, 'Longitude': 47.58676189}, {'CountryName': 'South Africa', 'Latitude': -29.00034095, 'Longitude': 25.08390093}, {'CountryName': 'Zambia', 'Latitude': -13.45824152, 'Longitude': 27.77475946}, {'CountryName': 'Zimbabwe', 'Latitude': -19.00420419, 'Longitude': 29.8514412}]\n"
     ]
    }
   ],
   "source": [
    "print(centroids_clean.to_dict(\"records\"))"
   ]
  },
  {
   "cell_type": "markdown",
   "metadata": {},
   "source": [
    "## National capitals\n",
    "\n",
    "* https://en.wikipedia.org/wiki/List_of_national_capitals [scrapping]\n",
    "* http://techslides.com/list-of-countries-and-capitals [CSV, JSON]\n"
   ]
  },
  {
   "cell_type": "markdown",
   "metadata": {},
   "source": [
    "## National parks (worldwide and USA) and natural landmarks\n",
    "\n",
    "* https://en.wikipedia.org/wiki/List_of_national_parks\n",
    "* https://www.latlong.net/category/national-parks-236-42.html [table]\n",
    "* https://en.wikipedia.org/wiki/List_of_national_parks_of_the_United_States\n",
    "* https://www.city2map.com/en/where-is/list_of_natural_landmarks.html\n",
    "* https://www.google.com/search?q=list+coordinates+natural+landmarks&client=safari&rls=en&ei=d190XN-3Ot6LjLsPzba54Ao&start=10&sa=N&ved=0ahUKEwifz_Ct69fgAhXeBWMBHU1bDqwQ8tMDCH8&biw=1366&bih=685"
   ]
  },
  {
   "cell_type": "markdown",
   "metadata": {},
   "source": [
    "## More sources:\n",
    "\n",
    "* https://www.latlong.net"
   ]
  },
  {
   "cell_type": "code",
   "execution_count": null,
   "metadata": {},
   "outputs": [],
   "source": []
  }
 ],
 "metadata": {
  "kernelspec": {
   "display_name": "Python 3",
   "language": "python",
   "name": "python3"
  },
  "language_info": {
   "codemirror_mode": {
    "name": "ipython",
    "version": 3
   },
   "file_extension": ".py",
   "mimetype": "text/x-python",
   "name": "python",
   "nbconvert_exporter": "python",
   "pygments_lexer": "ipython3",
   "version": "3.6.5"
  }
 },
 "nbformat": 4,
 "nbformat_minor": 2
}
