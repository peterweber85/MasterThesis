{
 "cells": [
  {
   "cell_type": "code",
   "execution_count": 5,
   "metadata": {},
   "outputs": [
    {
     "name": "stdout",
     "output_type": "stream",
     "text": [
      "The autoreload extension is already loaded. To reload it, use:\n",
      "  %reload_ext autoreload\n"
     ]
    }
   ],
   "source": [
    "import math\n",
    "import sys\n",
    "import os\n",
    "import numpy as np\n",
    "sys.path.append(\"../Library/\")\n",
    "\n",
    "import image_download as imd\n",
    "import scipy.optimize as so\n",
    "\n",
    "%matplotlib inline\n",
    "%load_ext autoreload\n",
    "%autoreload 2\n",
    "\n",
    "from io import BytesIO\n",
    "from PIL import Image\n",
    "from urllib import request\n",
    "import matplotlib.pyplot as plt\n",
    "\n",
    "%load_ext dotenv"
   ]
  },
  {
   "cell_type": "markdown",
   "metadata": {},
   "source": [
    "### Parameters and Conversions"
   ]
  },
  {
   "cell_type": "code",
   "execution_count": 15,
   "metadata": {},
   "outputs": [
    {
     "name": "stdout",
     "output_type": "stream",
     "text": [
      "Meters per pixel: 96.21\n",
      "Image size: 28862.03 in meters\n"
     ]
    }
   ],
   "source": [
    "# parameters\n",
    "zoom = 10\n",
    "lat = 51\n",
    "long = 2.3\n",
    "pixels = 300\n",
    "num_images = 10 # this will be squared, i.e. 10 means it generates 100 links\n",
    "\n",
    "# image dimensions\n",
    "meters_per_px = imd.zoom_in_meters_per_pixel(zoom, lat)\n",
    "image_size = meters_per_px*pixels ## in meters\n",
    "\n",
    "print(\"Meters per pixel:\", round(meters_per_px,2))\n",
    "print(\"Image size:\", round(image_size,2), \"in meters\")"
   ]
  },
  {
   "cell_type": "markdown",
   "metadata": {},
   "source": [
    "### Generate Google Maps Links"
   ]
  },
  {
   "cell_type": "code",
   "execution_count": 16,
   "metadata": {},
   "outputs": [],
   "source": [
    "links = imd.generate_gmaps_links(lat, long, zoom, pixels, num_images, center = True)    "
   ]
  },
  {
   "cell_type": "markdown",
   "metadata": {},
   "source": [
    "### Download and Plot Images"
   ]
  },
  {
   "cell_type": "code",
   "execution_count": 17,
   "metadata": {},
   "outputs": [],
   "source": [
    "def download_images(links, plot_images = False):\n",
    "    \n",
    "    images = []\n",
    "    for url in links:\n",
    "        buffer = BytesIO(request.urlopen(url).read())\n",
    "        image = Image.open(buffer)\n",
    "        images.append(image)\n",
    "        if plot_images:\n",
    "            image.show()\n",
    "    if plot_images:\n",
    "        plt.show()\n",
    "        \n",
    "    return images"
   ]
  },
  {
   "cell_type": "code",
   "execution_count": 18,
   "metadata": {},
   "outputs": [],
   "source": [
    "images = download_images(links, plot_images = True)"
   ]
  },
  {
   "cell_type": "code",
   "execution_count": 6,
   "metadata": {},
   "outputs": [
    {
     "data": {
      "text/plain": [
       "environ({'GREP_COLOR': '1;33', 'TERM_PROGRAM': 'iTerm.app', 'TERM': 'xterm-color', 'SHELL': '/bin/bash', 'HISTSIZE': '5000', 'CLICOLOR': '1', 'TMPDIR': '/var/folders/l_/1zd_m96j71z4ysrr_l8vst640000gn/T/', 'CONDA_SHLVL': '1', 'Apple_PubSub_Socket_Render': '/private/tmp/com.apple.launchd.JECZ0CZDS5/Render', 'CONDA_PROMPT_MODIFIER': '(py3p6) ', 'TERM_PROGRAM_VERSION': '3.2.7', 'GIT_HOSTING': 'git@git.domain.com', 'OLDPWD': '/Users/peterweber', 'TERM_SESSION_ID': 'w0t0p0:CEF76D84-A1B6-407F-B317-B2B9B4A1463C', 'LC_ALL': 'en_US.UTF-8', 'USER': 'peterweber', 'CONDA_EXE': '/Users/peterweber/Programs/anaconda2/bin/conda', 'BASH_IT_THEME': 'bakke', 'SCM_CHECK': 'true', 'SSH_AUTH_SOCK': '/private/tmp/com.apple.launchd.vufw6qS7Ck/Listeners', '__CF_USER_TEXT_ENCODING': '0x0:0:0', 'AUTOFEATURE': 'true autotest', 'BASH_IT': '/Users/peterweber/.bash_it', 'LSCOLORS': 'Gxfxcxdxdxegedabagacad', 'PATH': '/Users/peterweber/Programs/anaconda2/envs/py3p6/bin:/Users/peterweber/Programs/anaconda2/envs/py3p6/bin:/Users/peterweber/Programs/anaconda2/condabin:/Users/peterweber/Programs/anaconda2/bin:/Users/peterweber/anaconda/bin:/usr/local/bin:/usr/local/bin:/usr/local/sbin:/usr/local/bin:/usr/bin:/bin:/usr/sbin:/sbin:/Library/TeX/texbin:/opt/X11/bin', 'CONDA_PREFIX': '/Users/peterweber/Programs/anaconda2/envs/py3p6', 'PWD': '/Users/peterweber/Dropbox/DataScienceMasterUB', 'LANG': 'en_US.UTF-8', 'ITERM_PROFILE': 'Default', 'EVENT_NOKQUEUE': '1', 'XPC_FLAGS': '0x0', 'PS1': '\\\\n\\\\[\\\\e[0;36m\\\\]\\\\h: \\\\[\\\\e[39m\\\\] \\\\[\\\\e[0;33m\\\\]\\\\w \\\\[\\\\e[0;32m\\\\]\\\\n\\\\[\\\\e[39m\\\\]→ ', 'HISTCONTROL': 'ignorespace:erasedups', 'XPC_SERVICE_NAME': '0', 'SHLVL': '1', 'HOME': '/Users/peterweber', 'COLORFGBG': '7;0', 'ITERM_SESSION_ID': 'w0t0p0:CEF76D84-A1B6-407F-B317-B2B9B4A1463C', 'CONDA_PYTHON_EXE': '/Users/peterweber/Programs/anaconda2/bin/python', 'PYTHONPATH': '/Users/peterweber/xgboost/python-package', 'LOGNAME': 'peterweber', 'LC_CTYPE': 'UTF-8', 'CONDA_DEFAULT_ENV': 'py3p6', 'TODO': 't', 'IRC_CLIENT': 'irssi', 'DISPLAY': '/private/tmp/com.apple.launchd.WrcJYlZJD4/org.macosforge.xquartz:0', 'COLORTERM': 'truecolor', '_': '/Users/peterweber/Programs/anaconda2/envs/py3p6/bin/jupyter', 'JPY_PARENT_PID': '2517', 'PAGER': 'cat', 'GIT_PAGER': 'cat', 'MPLBACKEND': 'module://ipykernel.pylab.backend_inline'})"
      ]
     },
     "execution_count": 6,
     "metadata": {},
     "output_type": "execute_result"
    }
   ],
   "source": [
    "os.environ"
   ]
  },
  {
   "cell_type": "code",
   "execution_count": null,
   "metadata": {},
   "outputs": [],
   "source": []
  }
 ],
 "metadata": {
  "anaconda-cloud": {},
  "kernelspec": {
   "display_name": "Python 3",
   "language": "python",
   "name": "python3"
  },
  "language_info": {
   "codemirror_mode": {
    "name": "ipython",
    "version": 3
   },
   "file_extension": ".py",
   "mimetype": "text/x-python",
   "name": "python",
   "nbconvert_exporter": "python",
   "pygments_lexer": "ipython3",
   "version": "3.6.8"
  }
 },
 "nbformat": 4,
 "nbformat_minor": 2
}
