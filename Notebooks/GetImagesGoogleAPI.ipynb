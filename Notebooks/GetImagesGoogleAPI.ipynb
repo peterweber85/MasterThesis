{
 "cells": [
  {
   "cell_type": "code",
   "execution_count": 167,
   "metadata": {},
   "outputs": [
    {
     "name": "stdout",
     "output_type": "stream",
     "text": [
      "The autoreload extension is already loaded. To reload it, use:\n",
      "  %reload_ext autoreload\n"
     ]
    }
   ],
   "source": [
    "import math\n",
    "import sys\n",
    "import numpy as np\n",
    "sys.path.append(\"../Library/\")\n",
    "\n",
    "import image_download as imd\n",
    "import scipy.optimize as so\n",
    "\n",
    "%matplotlib inline\n",
    "%load_ext autoreload\n",
    "%autoreload 2\n",
    "\n",
    "from io import BytesIO\n",
    "from PIL import Image\n",
    "from urllib import request\n",
    "import matplotlib.pyplot as plt"
   ]
  },
  {
   "cell_type": "markdown",
   "metadata": {},
   "source": [
    "### Parameters and Conversions"
   ]
  },
  {
   "cell_type": "code",
   "execution_count": 198,
   "metadata": {},
   "outputs": [
    {
     "name": "stdout",
     "output_type": "stream",
     "text": [
      "Meters per pixel: 96.21\n",
      "Image size: 61572.33\n"
     ]
    }
   ],
   "source": [
    "# parameters\n",
    "zoom = 10\n",
    "lat = 51\n",
    "long = 2.3\n",
    "pixels = 640\n",
    "num_images = 3 # this will be squared, i.e. 10 means it generates 100 links\n",
    "\n",
    "# image dimensions\n",
    "meters_per_px = imd.zoom_in_meters_per_pixel(zoom, lat)\n",
    "image_size = meters_per_px*pixels ## in meters\n",
    "\n",
    "print(\"Meters per pixel:\", round(meters_per_px,2))\n",
    "print(\"Image size:\", round(image_size,2))"
   ]
  },
  {
   "cell_type": "markdown",
   "metadata": {},
   "source": [
    "### Generate Google Maps Links"
   ]
  },
  {
   "cell_type": "code",
   "execution_count": 204,
   "metadata": {},
   "outputs": [],
   "source": [
    "links = generate_gmaps_links(lat, long, zoom, pixels, num_images, center = True)    "
   ]
  },
  {
   "cell_type": "markdown",
   "metadata": {},
   "source": [
    "### Download and Plot Images"
   ]
  },
  {
   "cell_type": "code",
   "execution_count": 202,
   "metadata": {},
   "outputs": [],
   "source": [
    "def download_images(links, plot_images = False):\n",
    "    \n",
    "    images = []\n",
    "    for url in links:\n",
    "        buffer = BytesIO(request.urlopen(url).read())\n",
    "        image = Image.open(buffer)\n",
    "        images.append(image)\n",
    "        if plot_images:\n",
    "            image.show()\n",
    "    if plot_images:\n",
    "        plt.show()\n",
    "        \n",
    "    return images"
   ]
  },
  {
   "cell_type": "code",
   "execution_count": null,
   "metadata": {},
   "outputs": [],
   "source": [
    "images = download_images(links, plot_images = True)"
   ]
  }
 ],
 "metadata": {
  "kernelspec": {
   "display_name": "Python 3",
   "language": "python",
   "name": "python3"
  },
  "language_info": {
   "codemirror_mode": {
    "name": "ipython",
    "version": 3
   },
   "file_extension": ".py",
   "mimetype": "text/x-python",
   "name": "python",
   "nbconvert_exporter": "python",
   "pygments_lexer": "ipython3",
   "version": "3.6.8"
  }
 },
 "nbformat": 4,
 "nbformat_minor": 2
}
