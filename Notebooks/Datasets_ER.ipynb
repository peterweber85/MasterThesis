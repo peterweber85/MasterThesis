{
 "cells": [
  {
   "cell_type": "markdown",
   "metadata": {},
   "source": [
    "# Dataset"
   ]
  },
  {
   "cell_type": "code",
   "execution_count": 1,
   "metadata": {},
   "outputs": [
    {
     "name": "stderr",
     "output_type": "stream",
     "text": [
      "Using TensorFlow backend.\n"
     ]
    }
   ],
   "source": [
    "from matplotlib import pyplot as plt\n",
    "%matplotlib inline\n",
    "\n",
    "import numpy as np\n",
    "import pandas as pd\n",
    "import sys\n",
    "import os\n",
    "import datetime\n",
    "\n",
    "import altair as alt\n",
    "alt.renderers.enable('notebook')\n",
    "\n",
    "from PIL import Image\n",
    "\n",
    "from dotenv import load_dotenv\n",
    "\n",
    "from sklearn.model_selection import train_test_split\n",
    "from sklearn.metrics import accuracy_score\n",
    "\n",
    "sys.path.append(\"../Library/\")\n",
    "import deep_learning as dl\n",
    "import image_manipulation as ima\n",
    "import machine_learning as ml"
   ]
  },
  {
   "cell_type": "code",
   "execution_count": 2,
   "metadata": {},
   "outputs": [],
   "source": [
    "%load_ext autoreload\n",
    "%autoreload 2"
   ]
  },
  {
   "cell_type": "code",
   "execution_count": 3,
   "metadata": {},
   "outputs": [],
   "source": [
    "categories = [\"forest-woodland\", \"agriculture\", \"shrubland-grassland\", \"semi-desert\"]\n",
    "labels = [0, 1, 2]\n",
    "\n",
    "def dataset_details(base_folder):\n",
    "    \n",
    "    df_images = pd.DataFrame(columns = ['filename', 'image', 'resolution', 'label', 'category'])\n",
    "    for category in categories:\n",
    "        for label in labels:\n",
    "            df = ima.load_images_into_df_by_category_and_label(base_folder, category, label)\n",
    "            df_images = df_images.append(df)    \n",
    "\n",
    "    df_images_counts = df_images.groupby(['category', 'label']).size().reset_index(name='counts')\n",
    "    print(\"Number of images:\", df_images.shape[0])\n",
    "    print(\"Distribution of categories and labels:\\n\", df_images_counts)\n",
    "    print(\"\\nDistribution of labels:\\n\", df_images.groupby(['label']).size().reset_index(name='counts'))\n",
    "    \n",
    "    # fill missing category-label pairs\n",
    "    #for category in categories:\n",
    "    #    for label in labels:\n",
    "    #        mask = (df_images_counts.category == category) & (df_images_counts.label == label)\n",
    "    #        if len(df_images_counts[mask][\"n_images\"].values) == 0:\n",
    "    #            df_images_counts.loc[df_images_counts.shape[0]] = [category,label,0]\n",
    "                \n",
    "    alt_chart = alt.Chart(df_images_counts, width=200).mark_bar().encode(\n",
    "        x='label:N',\n",
    "        y='counts:Q',\n",
    "        color='category:N'\n",
    "    )\n",
    "    return alt_chart"
   ]
  },
  {
   "cell_type": "markdown",
   "metadata": {},
   "source": [
    "## 0.3m"
   ]
  },
  {
   "cell_type": "code",
   "execution_count": 4,
   "metadata": {},
   "outputs": [
    {
     "name": "stdout",
     "output_type": "stream",
     "text": [
      "Number of images: 196\n",
      "Distribution of categories and labels:\n",
      "               category  label  counts\n",
      "0          agriculture      1       1\n",
      "1      forest-woodland      1      44\n",
      "2          semi-desert      1      67\n",
      "3  shrubland-grassland      1      84\n",
      "\n",
      "Distribution of labels:\n",
      "    label  counts\n",
      "0      1     196\n"
     ]
    },
    {
     "data": {
      "application/javascript": [
       "var spec = {\"config\": {\"view\": {\"width\": 400, \"height\": 300}, \"mark\": {\"tooltip\": null}}, \"data\": {\"name\": \"data-1074eb7e24677681367566b84637843a\"}, \"mark\": \"bar\", \"encoding\": {\"color\": {\"type\": \"nominal\", \"field\": \"category\"}, \"x\": {\"type\": \"nominal\", \"field\": \"label\"}, \"y\": {\"type\": \"quantitative\", \"field\": \"counts\"}}, \"width\": 200, \"$schema\": \"https://vega.github.io/schema/vega-lite/v3.3.0.json\", \"datasets\": {\"data-1074eb7e24677681367566b84637843a\": [{\"category\": \"agriculture\", \"label\": 1, \"counts\": 1}, {\"category\": \"forest-woodland\", \"label\": 1, \"counts\": 44}, {\"category\": \"semi-desert\", \"label\": 1, \"counts\": 67}, {\"category\": \"shrubland-grassland\", \"label\": 1, \"counts\": 84}]}};\n",
       "var opt = {};\n",
       "var type = \"vega-lite\";\n",
       "var id = \"f3f0d7b0-3fc1-432e-b3b3-967cf0fc1a6e\";\n",
       "\n",
       "var output_area = this;\n",
       "\n",
       "require([\"nbextensions/jupyter-vega/index\"], function(vega) {\n",
       "  var target = document.createElement(\"div\");\n",
       "  target.id = id;\n",
       "  target.className = \"vega-embed\";\n",
       "\n",
       "  var style = document.createElement(\"style\");\n",
       "  style.textContent = [\n",
       "    \".vega-embed .error p {\",\n",
       "    \"  color: firebrick;\",\n",
       "    \"  font-size: 14px;\",\n",
       "    \"}\",\n",
       "  ].join(\"\\\\n\");\n",
       "\n",
       "  // element is a jQuery wrapped DOM element inside the output area\n",
       "  // see http://ipython.readthedocs.io/en/stable/api/generated/\\\n",
       "  // IPython.display.html#IPython.display.Javascript.__init__\n",
       "  element[0].appendChild(target);\n",
       "  element[0].appendChild(style);\n",
       "\n",
       "  vega.render(\"#\" + id, spec, type, opt, output_area);\n",
       "}, function (err) {\n",
       "  if (err.requireType !== \"scripterror\") {\n",
       "    throw(err);\n",
       "  }\n",
       "});\n"
      ],
      "text/plain": [
       "<vega.vegalite.VegaLite at 0x11aae2908>"
      ]
     },
     "metadata": {
      "jupyter-vega": "#f3f0d7b0-3fc1-432e-b3b3-967cf0fc1a6e"
     },
     "output_type": "display_data"
    },
    {
     "data": {
      "text/plain": []
     },
     "execution_count": 4,
     "metadata": {},
     "output_type": "execute_result"
    }
   ],
   "source": [
    "base_folder = os.getenv('GDRIVE_FOLDER') + \"MFP - Satellogic/images/usgs_512_res0.3m\"\n",
    "dataset_details(base_folder)"
   ]
  },
  {
   "cell_type": "markdown",
   "metadata": {},
   "source": [
    "## 1m"
   ]
  },
  {
   "cell_type": "code",
   "execution_count": 5,
   "metadata": {},
   "outputs": [
    {
     "name": "stdout",
     "output_type": "stream",
     "text": [
      "Number of images: 1366\n",
      "Distribution of categories and labels:\n",
      "                category  label  counts\n",
      "0           agriculture      0       4\n",
      "1           agriculture      1       2\n",
      "2           agriculture      2     134\n",
      "3       forest-woodland      0     241\n",
      "4       forest-woodland      1      39\n",
      "5       forest-woodland      2     175\n",
      "6           semi-desert      0     248\n",
      "7           semi-desert      1      13\n",
      "8           semi-desert      2     169\n",
      "9   shrubland-grassland      0     174\n",
      "10  shrubland-grassland      2     167\n",
      "\n",
      "Distribution of labels:\n",
      "    label  counts\n",
      "0      0     667\n",
      "1      1      54\n",
      "2      2     645\n"
     ]
    },
    {
     "data": {
      "application/javascript": [
       "var spec = {\"config\": {\"view\": {\"width\": 400, \"height\": 300}}, \"data\": {\"name\": \"data-869e571a86bb1ebc27121f3a5270782f\"}, \"mark\": \"bar\", \"encoding\": {\"color\": {\"type\": \"nominal\", \"field\": \"category\"}, \"x\": {\"type\": \"nominal\", \"field\": \"label\"}, \"y\": {\"type\": \"quantitative\", \"field\": \"counts\"}}, \"width\": 200, \"$schema\": \"https://vega.github.io/schema/vega-lite/v2.6.0.json\", \"datasets\": {\"data-869e571a86bb1ebc27121f3a5270782f\": [{\"category\": \"agriculture\", \"label\": 0, \"counts\": 4}, {\"category\": \"agriculture\", \"label\": 1, \"counts\": 2}, {\"category\": \"agriculture\", \"label\": 2, \"counts\": 134}, {\"category\": \"forest-woodland\", \"label\": 0, \"counts\": 241}, {\"category\": \"forest-woodland\", \"label\": 1, \"counts\": 39}, {\"category\": \"forest-woodland\", \"label\": 2, \"counts\": 175}, {\"category\": \"semi-desert\", \"label\": 0, \"counts\": 248}, {\"category\": \"semi-desert\", \"label\": 1, \"counts\": 13}, {\"category\": \"semi-desert\", \"label\": 2, \"counts\": 169}, {\"category\": \"shrubland-grassland\", \"label\": 0, \"counts\": 174}, {\"category\": \"shrubland-grassland\", \"label\": 2, \"counts\": 167}]}};\n",
       "var opt = {};\n",
       "var type = \"vega-lite\";\n",
       "var id = \"38163057-61ab-43e9-a86b-489789c768e7\";\n",
       "\n",
       "var output_area = this;\n",
       "\n",
       "require([\"nbextensions/jupyter-vega/index\"], function(vega) {\n",
       "  var target = document.createElement(\"div\");\n",
       "  target.id = id;\n",
       "  target.className = \"vega-embed\";\n",
       "\n",
       "  var style = document.createElement(\"style\");\n",
       "  style.textContent = [\n",
       "    \".vega-embed .error p {\",\n",
       "    \"  color: firebrick;\",\n",
       "    \"  font-size: 14px;\",\n",
       "    \"}\",\n",
       "  ].join(\"\\\\n\");\n",
       "\n",
       "  // element is a jQuery wrapped DOM element inside the output area\n",
       "  // see http://ipython.readthedocs.io/en/stable/api/generated/\\\n",
       "  // IPython.display.html#IPython.display.Javascript.__init__\n",
       "  element[0].appendChild(target);\n",
       "  element[0].appendChild(style);\n",
       "\n",
       "  vega.render(\"#\" + id, spec, type, opt, output_area);\n",
       "}, function (err) {\n",
       "  if (err.requireType !== \"scripterror\") {\n",
       "    throw(err);\n",
       "  }\n",
       "});\n"
      ],
      "text/plain": [
       "<vega.vegalite.VegaLite at 0x10d1e5898>"
      ]
     },
     "metadata": {
      "jupyter-vega": "#38163057-61ab-43e9-a86b-489789c768e7"
     },
     "output_type": "display_data"
    },
    {
     "data": {
      "text/plain": []
     },
     "execution_count": 5,
     "metadata": {},
     "output_type": "execute_result"
    },
    {
     "data": {
      "image/png": "[encoded data removed]"
     },
     "metadata": {
      "jupyter-vega": "#38163057-61ab-43e9-a86b-489789c768e7"
     },
     "output_type": "display_data"
    }
   ],
   "source": [
    "base_folder = os.getenv('GDRIVE_FOLDER') + \"MFP - Satellogic/images/usgs_512_res1m\"\n",
    "dataset_details(base_folder)"
   ]
  },
  {
   "cell_type": "code",
   "execution_count": null,
   "metadata": {},
   "outputs": [],
   "source": []
  }
 ],
 "metadata": {
  "kernelspec": {
   "display_name": "Python [conda env:py3p6]",
   "language": "python",
   "name": "conda-env-py3p6-py"
  },
  "language_info": {
   "codemirror_mode": {
    "name": "ipython",
    "version": 3
   },
   "file_extension": ".py",
   "mimetype": "text/x-python",
   "name": "python",
   "nbconvert_exporter": "python",
   "pygments_lexer": "ipython3",
   "version": "3.6.8"
  }
 },
 "nbformat": 4,
 "nbformat_minor": 2
}
